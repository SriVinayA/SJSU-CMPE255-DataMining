{
  "nbformat": 4,
  "nbformat_minor": 0,
  "metadata": {
    "colab": {
      "provenance": [],
      "mount_file_id": "19YpO08aEiJpDWoAhcWG8bzNTjKMKeGei",
      "authorship_tag": "ABX9TyMQ2+oGYVIStb4IMu5cAn+i",
      "include_colab_link": true
    },
    "kernelspec": {
      "name": "python3",
      "display_name": "Python 3"
    },
    "language_info": {
      "name": "python"
    }
  },
  "cells": [
    {
      "cell_type": "markdown",
      "metadata": {
        "id": "view-in-github",
        "colab_type": "text"
      },
      "source": [
        "<a href=\"https://colab.research.google.com/github/SriVinayA/SJSU-CMPE255-DataMining/blob/main/DM_Assignment_5_2.ipynb\" target=\"_parent\"><img src=\"https://colab.research.google.com/assets/colab-badge.svg\" alt=\"Open In Colab\"/></a>"
      ]
    },
    {
      "cell_type": "markdown",
      "source": [
        "**Data Overview:**\n",
        "\n",
        "In this step, we will load the dataset and check its basic attributes such as shape, data types, and general statistics.\n",
        "\n",
        "Now, let's proceed to load the dataset and obtain an initial overview."
      ],
      "metadata": {
        "id": "TGgDYT1w099z"
      }
    },
    {
      "cell_type": "code",
      "execution_count": null,
      "metadata": {
        "colab": {
          "base_uri": "https://localhost:8080/"
        },
        "id": "dFaXtmAMxXkJ",
        "outputId": "b42179ec-c53c-4328-a39e-7c72db0aacea"
      },
      "outputs": [
        {
          "output_type": "stream",
          "name": "stdout",
          "text": [
            "<class 'pandas.core.frame.DataFrame'>\n",
            "RangeIndex: 16671 entries, 0 to 16670\n",
            "Data columns (total 11 columns):\n",
            " #   Column        Non-Null Count  Dtype  \n",
            "---  ------        --------------  -----  \n",
            " 0   lat           16671 non-null  float64\n",
            " 1   lon           16671 non-null  float64\n",
            " 2   alt           16671 non-null  int64  \n",
            " 3   is_broken     16671 non-null  bool   \n",
            " 4   is_active     16671 non-null  bool   \n",
            " 5   dot           16671 non-null  object \n",
            " 6   state         12725 non-null  object \n",
            " 7   city          16663 non-null  object \n",
            " 8   street        16671 non-null  object \n",
            " 9   country       16671 non-null  object \n",
            " 10  last_checked  16671 non-null  object \n",
            "dtypes: bool(2), float64(2), int64(1), object(6)\n",
            "memory usage: 1.2+ MB\n"
          ]
        },
        {
          "output_type": "execute_result",
          "data": {
            "text/plain": [
              "(         lat        lon  alt  is_broken  is_active      dot state      city  \\\n",
              " 0 -73.988281  40.718830    0      False       True  working    NY  New York   \n",
              " 1 -74.005090  40.728794    0      False       True  working    NY  New York   \n",
              " 2 -73.993408  40.729197    0      False       True  working    NY  New York   \n",
              " 3 -73.985855  40.726555    0      False       True  working    NY  New York   \n",
              " 4 -73.991692  40.691383    0       True       True   broken    NY  Brooklyn   \n",
              " \n",
              "             street country             last_checked  \n",
              " 0  114 Delancey St     USA  Checked 142 minutes ago  \n",
              " 1    208 Varick St     USA  Checked 142 minutes ago  \n",
              " 2     724 Broadway     USA  Checked 142 minutes ago  \n",
              " 3      102 1st Ave     USA  Checked 142 minutes ago  \n",
              " 4      82 Court St     USA  Checked 142 minutes ago  ,\n",
              " (16671, 11))"
            ]
          },
          "metadata": {},
          "execution_count": 2
        }
      ],
      "source": [
        "import pandas as pd\n",
        "\n",
        "# Load the dataset\n",
        "data = pd.read_csv('/content/drive/MyDrive/SJSU/Sem1/CMPE255 - Data Mining/Assignment 5/mcdonalds_dataset.csv')\n",
        "\n",
        "# Display the first few rows of the dataset\n",
        "data_head = data.head()\n",
        "\n",
        "# Get the shape and basic info of the dataset\n",
        "data_shape = data.shape\n",
        "data_info = data.info()\n",
        "\n",
        "data_head, data_shape"
      ]
    },
    {
      "cell_type": "markdown",
      "source": [
        "**Data Cleaning:**\n",
        "\n",
        "In this step, we will ensure the data's quality by performing the following tasks:\n",
        "\n",
        "- Check for missing values.\n",
        "- Inspect and handle duplicates.\n",
        "- Examine any possible anomalies in the dataset.\n",
        "\n",
        "Let's start by checking for missing values in the dataset and proceed with the other cleaning tasks as necessary."
      ],
      "metadata": {
        "id": "oGBDQI9h1UP0"
      }
    },
    {
      "cell_type": "code",
      "source": [
        "# Check for missing values\n",
        "missing_values = data.isnull().sum()\n",
        "\n",
        "# Check for duplicates\n",
        "duplicates = data.duplicated().sum()\n",
        "\n",
        "missing_values, duplicates"
      ],
      "metadata": {
        "colab": {
          "base_uri": "https://localhost:8080/"
        },
        "id": "DMGHcHIP1BM0",
        "outputId": "795f1cfd-2787-4b63-847c-ac203852e32a"
      },
      "execution_count": null,
      "outputs": [
        {
          "output_type": "execute_result",
          "data": {
            "text/plain": [
              "(lat                0\n",
              " lon                0\n",
              " alt                0\n",
              " is_broken          0\n",
              " is_active          0\n",
              " dot                0\n",
              " state           3946\n",
              " city               8\n",
              " street             0\n",
              " country            0\n",
              " last_checked       0\n",
              " dtype: int64,\n",
              " 0)"
            ]
          },
          "metadata": {},
          "execution_count": 3
        }
      ]
    },
    {
      "cell_type": "markdown",
      "source": [
        "**Data Cleaning (Continued):**\n",
        "\n",
        "- **Missing Values:** We have identified missing values in the dataset:\n",
        "  - 'state': 3,946 missing entries.\n",
        "  - 'city': 8 missing entries.\n",
        "\n",
        "**Action Steps:**\n",
        "\n",
        "- For the missing 'state' values, we can infer them based on the city or country where possible. If not, we might consider labeling them as \"Unknown.\"\n",
        "- For the missing 'city' values, we can similarly infer them based on the state or country. Again, if not possible, we might label them as \"Unknown.\"\n",
        "\n",
        "Before filling in the missing values, let's briefly examine the entries with missing 'city' values to understand the context better."
      ],
      "metadata": {
        "id": "oq3BNia51cfJ"
      }
    },
    {
      "cell_type": "code",
      "source": [
        "# Filter the rows with missing city values\n",
        "missing_city_entries = data[data['city'].isnull()]\n",
        "\n",
        "missing_city_entries"
      ],
      "metadata": {
        "colab": {
          "base_uri": "https://localhost:8080/",
          "height": 300
        },
        "id": "VZtV2B8j1WgE",
        "outputId": "84de3ce7-2acd-489e-e34a-2a78dcf34320"
      },
      "execution_count": null,
      "outputs": [
        {
          "output_type": "execute_result",
          "data": {
            "text/plain": [
              "            lat        lon  alt  is_broken  is_active      dot state city  \\\n",
              "14137 -0.084890  51.505407    0      False       True  working   NaN  NaN   \n",
              "14696 -1.548397  52.687450    0      False       True  working   NaN  NaN   \n",
              "14810 -1.375880  53.088390    0      False       True  working   NaN  NaN   \n",
              "14943 -0.341025  53.744917    0      False       True  working   NaN  NaN   \n",
              "15146 -2.246980  53.794990    0      False       True  working   NaN  NaN   \n",
              "15257 -1.496732  55.010379    0      False       True  working   NaN  NaN   \n",
              "15287 -5.930170  54.599170    0      False       True  working   NaN  NaN   \n",
              "15370 -4.331650  55.892067    0      False       True  working   NaN  NaN   \n",
              "\n",
              "                        street country            last_checked  \n",
              "14137            Tooley Street      UK  Checked 17 minutes ago  \n",
              "14696          Atherstone Road      UK  Checked 16 minutes ago  \n",
              "14810              Hockley Way      UK  Checked 16 minutes ago  \n",
              "14943     39-41 Jameson Street      UK  Checked 15 minutes ago  \n",
              "15146             Princess Way      UK  Checked 15 minutes ago  \n",
              "15257   Silverlink Retail Park      UK  Checked 14 minutes ago  \n",
              "15287        2-4 Donegal Place      UK  Checked 14 minutes ago  \n",
              "15370  1841 Great Western Road      UK  Checked 14 minutes ago  "
            ],
            "text/html": [
              "\n",
              "  <div id=\"df-738b1cae-6613-4f86-a590-1c0f1640d624\" class=\"colab-df-container\">\n",
              "    <div>\n",
              "<style scoped>\n",
              "    .dataframe tbody tr th:only-of-type {\n",
              "        vertical-align: middle;\n",
              "    }\n",
              "\n",
              "    .dataframe tbody tr th {\n",
              "        vertical-align: top;\n",
              "    }\n",
              "\n",
              "    .dataframe thead th {\n",
              "        text-align: right;\n",
              "    }\n",
              "</style>\n",
              "<table border=\"1\" class=\"dataframe\">\n",
              "  <thead>\n",
              "    <tr style=\"text-align: right;\">\n",
              "      <th></th>\n",
              "      <th>lat</th>\n",
              "      <th>lon</th>\n",
              "      <th>alt</th>\n",
              "      <th>is_broken</th>\n",
              "      <th>is_active</th>\n",
              "      <th>dot</th>\n",
              "      <th>state</th>\n",
              "      <th>city</th>\n",
              "      <th>street</th>\n",
              "      <th>country</th>\n",
              "      <th>last_checked</th>\n",
              "    </tr>\n",
              "  </thead>\n",
              "  <tbody>\n",
              "    <tr>\n",
              "      <th>14137</th>\n",
              "      <td>-0.084890</td>\n",
              "      <td>51.505407</td>\n",
              "      <td>0</td>\n",
              "      <td>False</td>\n",
              "      <td>True</td>\n",
              "      <td>working</td>\n",
              "      <td>NaN</td>\n",
              "      <td>NaN</td>\n",
              "      <td>Tooley Street</td>\n",
              "      <td>UK</td>\n",
              "      <td>Checked 17 minutes ago</td>\n",
              "    </tr>\n",
              "    <tr>\n",
              "      <th>14696</th>\n",
              "      <td>-1.548397</td>\n",
              "      <td>52.687450</td>\n",
              "      <td>0</td>\n",
              "      <td>False</td>\n",
              "      <td>True</td>\n",
              "      <td>working</td>\n",
              "      <td>NaN</td>\n",
              "      <td>NaN</td>\n",
              "      <td>Atherstone Road</td>\n",
              "      <td>UK</td>\n",
              "      <td>Checked 16 minutes ago</td>\n",
              "    </tr>\n",
              "    <tr>\n",
              "      <th>14810</th>\n",
              "      <td>-1.375880</td>\n",
              "      <td>53.088390</td>\n",
              "      <td>0</td>\n",
              "      <td>False</td>\n",
              "      <td>True</td>\n",
              "      <td>working</td>\n",
              "      <td>NaN</td>\n",
              "      <td>NaN</td>\n",
              "      <td>Hockley Way</td>\n",
              "      <td>UK</td>\n",
              "      <td>Checked 16 minutes ago</td>\n",
              "    </tr>\n",
              "    <tr>\n",
              "      <th>14943</th>\n",
              "      <td>-0.341025</td>\n",
              "      <td>53.744917</td>\n",
              "      <td>0</td>\n",
              "      <td>False</td>\n",
              "      <td>True</td>\n",
              "      <td>working</td>\n",
              "      <td>NaN</td>\n",
              "      <td>NaN</td>\n",
              "      <td>39-41 Jameson Street</td>\n",
              "      <td>UK</td>\n",
              "      <td>Checked 15 minutes ago</td>\n",
              "    </tr>\n",
              "    <tr>\n",
              "      <th>15146</th>\n",
              "      <td>-2.246980</td>\n",
              "      <td>53.794990</td>\n",
              "      <td>0</td>\n",
              "      <td>False</td>\n",
              "      <td>True</td>\n",
              "      <td>working</td>\n",
              "      <td>NaN</td>\n",
              "      <td>NaN</td>\n",
              "      <td>Princess Way</td>\n",
              "      <td>UK</td>\n",
              "      <td>Checked 15 minutes ago</td>\n",
              "    </tr>\n",
              "    <tr>\n",
              "      <th>15257</th>\n",
              "      <td>-1.496732</td>\n",
              "      <td>55.010379</td>\n",
              "      <td>0</td>\n",
              "      <td>False</td>\n",
              "      <td>True</td>\n",
              "      <td>working</td>\n",
              "      <td>NaN</td>\n",
              "      <td>NaN</td>\n",
              "      <td>Silverlink Retail Park</td>\n",
              "      <td>UK</td>\n",
              "      <td>Checked 14 minutes ago</td>\n",
              "    </tr>\n",
              "    <tr>\n",
              "      <th>15287</th>\n",
              "      <td>-5.930170</td>\n",
              "      <td>54.599170</td>\n",
              "      <td>0</td>\n",
              "      <td>False</td>\n",
              "      <td>True</td>\n",
              "      <td>working</td>\n",
              "      <td>NaN</td>\n",
              "      <td>NaN</td>\n",
              "      <td>2-4 Donegal Place</td>\n",
              "      <td>UK</td>\n",
              "      <td>Checked 14 minutes ago</td>\n",
              "    </tr>\n",
              "    <tr>\n",
              "      <th>15370</th>\n",
              "      <td>-4.331650</td>\n",
              "      <td>55.892067</td>\n",
              "      <td>0</td>\n",
              "      <td>False</td>\n",
              "      <td>True</td>\n",
              "      <td>working</td>\n",
              "      <td>NaN</td>\n",
              "      <td>NaN</td>\n",
              "      <td>1841 Great Western Road</td>\n",
              "      <td>UK</td>\n",
              "      <td>Checked 14 minutes ago</td>\n",
              "    </tr>\n",
              "  </tbody>\n",
              "</table>\n",
              "</div>\n",
              "    <div class=\"colab-df-buttons\">\n",
              "\n",
              "  <div class=\"colab-df-container\">\n",
              "    <button class=\"colab-df-convert\" onclick=\"convertToInteractive('df-738b1cae-6613-4f86-a590-1c0f1640d624')\"\n",
              "            title=\"Convert this dataframe to an interactive table.\"\n",
              "            style=\"display:none;\">\n",
              "\n",
              "  <svg xmlns=\"http://www.w3.org/2000/svg\" height=\"24px\" viewBox=\"0 -960 960 960\">\n",
              "    <path d=\"M120-120v-720h720v720H120Zm60-500h600v-160H180v160Zm220 220h160v-160H400v160Zm0 220h160v-160H400v160ZM180-400h160v-160H180v160Zm440 0h160v-160H620v160ZM180-180h160v-160H180v160Zm440 0h160v-160H620v160Z\"/>\n",
              "  </svg>\n",
              "    </button>\n",
              "\n",
              "  <style>\n",
              "    .colab-df-container {\n",
              "      display:flex;\n",
              "      gap: 12px;\n",
              "    }\n",
              "\n",
              "    .colab-df-convert {\n",
              "      background-color: #E8F0FE;\n",
              "      border: none;\n",
              "      border-radius: 50%;\n",
              "      cursor: pointer;\n",
              "      display: none;\n",
              "      fill: #1967D2;\n",
              "      height: 32px;\n",
              "      padding: 0 0 0 0;\n",
              "      width: 32px;\n",
              "    }\n",
              "\n",
              "    .colab-df-convert:hover {\n",
              "      background-color: #E2EBFA;\n",
              "      box-shadow: 0px 1px 2px rgba(60, 64, 67, 0.3), 0px 1px 3px 1px rgba(60, 64, 67, 0.15);\n",
              "      fill: #174EA6;\n",
              "    }\n",
              "\n",
              "    .colab-df-buttons div {\n",
              "      margin-bottom: 4px;\n",
              "    }\n",
              "\n",
              "    [theme=dark] .colab-df-convert {\n",
              "      background-color: #3B4455;\n",
              "      fill: #D2E3FC;\n",
              "    }\n",
              "\n",
              "    [theme=dark] .colab-df-convert:hover {\n",
              "      background-color: #434B5C;\n",
              "      box-shadow: 0px 1px 3px 1px rgba(0, 0, 0, 0.15);\n",
              "      filter: drop-shadow(0px 1px 2px rgba(0, 0, 0, 0.3));\n",
              "      fill: #FFFFFF;\n",
              "    }\n",
              "  </style>\n",
              "\n",
              "    <script>\n",
              "      const buttonEl =\n",
              "        document.querySelector('#df-738b1cae-6613-4f86-a590-1c0f1640d624 button.colab-df-convert');\n",
              "      buttonEl.style.display =\n",
              "        google.colab.kernel.accessAllowed ? 'block' : 'none';\n",
              "\n",
              "      async function convertToInteractive(key) {\n",
              "        const element = document.querySelector('#df-738b1cae-6613-4f86-a590-1c0f1640d624');\n",
              "        const dataTable =\n",
              "          await google.colab.kernel.invokeFunction('convertToInteractive',\n",
              "                                                    [key], {});\n",
              "        if (!dataTable) return;\n",
              "\n",
              "        const docLinkHtml = 'Like what you see? Visit the ' +\n",
              "          '<a target=\"_blank\" href=https://colab.research.google.com/notebooks/data_table.ipynb>data table notebook</a>'\n",
              "          + ' to learn more about interactive tables.';\n",
              "        element.innerHTML = '';\n",
              "        dataTable['output_type'] = 'display_data';\n",
              "        await google.colab.output.renderOutput(dataTable, element);\n",
              "        const docLink = document.createElement('div');\n",
              "        docLink.innerHTML = docLinkHtml;\n",
              "        element.appendChild(docLink);\n",
              "      }\n",
              "    </script>\n",
              "  </div>\n",
              "\n",
              "\n",
              "<div id=\"df-dda6a2f9-5cdf-45ff-b787-d91c3976f025\">\n",
              "  <button class=\"colab-df-quickchart\" onclick=\"quickchart('df-dda6a2f9-5cdf-45ff-b787-d91c3976f025')\"\n",
              "            title=\"Suggest charts.\"\n",
              "            style=\"display:none;\">\n",
              "\n",
              "<svg xmlns=\"http://www.w3.org/2000/svg\" height=\"24px\"viewBox=\"0 0 24 24\"\n",
              "     width=\"24px\">\n",
              "    <g>\n",
              "        <path d=\"M19 3H5c-1.1 0-2 .9-2 2v14c0 1.1.9 2 2 2h14c1.1 0 2-.9 2-2V5c0-1.1-.9-2-2-2zM9 17H7v-7h2v7zm4 0h-2V7h2v10zm4 0h-2v-4h2v4z\"/>\n",
              "    </g>\n",
              "</svg>\n",
              "  </button>\n",
              "\n",
              "<style>\n",
              "  .colab-df-quickchart {\n",
              "      --bg-color: #E8F0FE;\n",
              "      --fill-color: #1967D2;\n",
              "      --hover-bg-color: #E2EBFA;\n",
              "      --hover-fill-color: #174EA6;\n",
              "      --disabled-fill-color: #AAA;\n",
              "      --disabled-bg-color: #DDD;\n",
              "  }\n",
              "\n",
              "  [theme=dark] .colab-df-quickchart {\n",
              "      --bg-color: #3B4455;\n",
              "      --fill-color: #D2E3FC;\n",
              "      --hover-bg-color: #434B5C;\n",
              "      --hover-fill-color: #FFFFFF;\n",
              "      --disabled-bg-color: #3B4455;\n",
              "      --disabled-fill-color: #666;\n",
              "  }\n",
              "\n",
              "  .colab-df-quickchart {\n",
              "    background-color: var(--bg-color);\n",
              "    border: none;\n",
              "    border-radius: 50%;\n",
              "    cursor: pointer;\n",
              "    display: none;\n",
              "    fill: var(--fill-color);\n",
              "    height: 32px;\n",
              "    padding: 0;\n",
              "    width: 32px;\n",
              "  }\n",
              "\n",
              "  .colab-df-quickchart:hover {\n",
              "    background-color: var(--hover-bg-color);\n",
              "    box-shadow: 0 1px 2px rgba(60, 64, 67, 0.3), 0 1px 3px 1px rgba(60, 64, 67, 0.15);\n",
              "    fill: var(--button-hover-fill-color);\n",
              "  }\n",
              "\n",
              "  .colab-df-quickchart-complete:disabled,\n",
              "  .colab-df-quickchart-complete:disabled:hover {\n",
              "    background-color: var(--disabled-bg-color);\n",
              "    fill: var(--disabled-fill-color);\n",
              "    box-shadow: none;\n",
              "  }\n",
              "\n",
              "  .colab-df-spinner {\n",
              "    border: 2px solid var(--fill-color);\n",
              "    border-color: transparent;\n",
              "    border-bottom-color: var(--fill-color);\n",
              "    animation:\n",
              "      spin 1s steps(1) infinite;\n",
              "  }\n",
              "\n",
              "  @keyframes spin {\n",
              "    0% {\n",
              "      border-color: transparent;\n",
              "      border-bottom-color: var(--fill-color);\n",
              "      border-left-color: var(--fill-color);\n",
              "    }\n",
              "    20% {\n",
              "      border-color: transparent;\n",
              "      border-left-color: var(--fill-color);\n",
              "      border-top-color: var(--fill-color);\n",
              "    }\n",
              "    30% {\n",
              "      border-color: transparent;\n",
              "      border-left-color: var(--fill-color);\n",
              "      border-top-color: var(--fill-color);\n",
              "      border-right-color: var(--fill-color);\n",
              "    }\n",
              "    40% {\n",
              "      border-color: transparent;\n",
              "      border-right-color: var(--fill-color);\n",
              "      border-top-color: var(--fill-color);\n",
              "    }\n",
              "    60% {\n",
              "      border-color: transparent;\n",
              "      border-right-color: var(--fill-color);\n",
              "    }\n",
              "    80% {\n",
              "      border-color: transparent;\n",
              "      border-right-color: var(--fill-color);\n",
              "      border-bottom-color: var(--fill-color);\n",
              "    }\n",
              "    90% {\n",
              "      border-color: transparent;\n",
              "      border-bottom-color: var(--fill-color);\n",
              "    }\n",
              "  }\n",
              "</style>\n",
              "\n",
              "  <script>\n",
              "    async function quickchart(key) {\n",
              "      const quickchartButtonEl =\n",
              "        document.querySelector('#' + key + ' button');\n",
              "      quickchartButtonEl.disabled = true;  // To prevent multiple clicks.\n",
              "      quickchartButtonEl.classList.add('colab-df-spinner');\n",
              "      try {\n",
              "        const charts = await google.colab.kernel.invokeFunction(\n",
              "            'suggestCharts', [key], {});\n",
              "      } catch (error) {\n",
              "        console.error('Error during call to suggestCharts:', error);\n",
              "      }\n",
              "      quickchartButtonEl.classList.remove('colab-df-spinner');\n",
              "      quickchartButtonEl.classList.add('colab-df-quickchart-complete');\n",
              "    }\n",
              "    (() => {\n",
              "      let quickchartButtonEl =\n",
              "        document.querySelector('#df-dda6a2f9-5cdf-45ff-b787-d91c3976f025 button');\n",
              "      quickchartButtonEl.style.display =\n",
              "        google.colab.kernel.accessAllowed ? 'block' : 'none';\n",
              "    })();\n",
              "  </script>\n",
              "</div>\n",
              "    </div>\n",
              "  </div>\n"
            ]
          },
          "metadata": {},
          "execution_count": 4
        }
      ]
    },
    {
      "cell_type": "markdown",
      "source": [
        "**Data Cleaning (Continued):**\n",
        "\n",
        "- **Missing Values:** We have identified missing values in the dataset:\n",
        "  - For entries with missing city values in the UK, we've labeled the city as \"Unknown\" and the state as \"UK-Unknown.\"\n",
        "\n",
        "**Action Steps (Continued):**\n",
        "\n",
        "- For the other missing state values, let's check if we can infer some of them based on the available city or country data.\n",
        "\n",
        "Next, we'll view a sample of these entries to determine if there's sufficient information to infer the missing state values."
      ],
      "metadata": {
        "id": "WufH583U1jSX"
      }
    },
    {
      "cell_type": "code",
      "source": [
        "# Fill the missing city values for the specific rows with \"Unknown\"\n",
        "data.loc[data['city'].isnull(), 'city'] = \"Unknown\"\n",
        "data.loc[data['city'] == \"Unknown\", 'state'] = \"UK-Unknown\"\n",
        "\n",
        "# Filter the rows with missing state values to check a sample\n",
        "missing_state_sample = data[data['state'].isnull()].sample(5)\n",
        "\n",
        "missing_state_sample"
      ],
      "metadata": {
        "colab": {
          "base_uri": "https://localhost:8080/",
          "height": 206
        },
        "id": "9rbTwdKG1f7c",
        "outputId": "1988a1a4-33a7-495a-a291-4b40b737bf3f"
      },
      "execution_count": null,
      "outputs": [
        {
          "output_type": "execute_result",
          "data": {
            "text/plain": [
              "              lat        lon  alt  is_broken  is_active      dot state  \\\n",
              "15021   -1.676912  53.709239    0      False       True  working   NaN   \n",
              "13876 -113.578990  53.519910    0      False       True  working   NaN   \n",
              "15247   -1.462587  54.970603    0      False       True  working   NaN   \n",
              "14720   -2.587053  51.459020    0       True       True   broken   NaN   \n",
              "15007   -2.213291  53.513355    0      False       True  working   NaN   \n",
              "\n",
              "                city                     street country  \\\n",
              "15021   Heckmondwike         2 Northgate Centre      UK   \n",
              "13876       Edmonton        8708-149 Street Nw       CA   \n",
              "15247  South Shields               Towers Place      UK   \n",
              "14720        Bristol      101/105 The Horsefair      UK   \n",
              "15007     Manchester  Harpurhey District Centre      UK   \n",
              "\n",
              "                 last_checked  \n",
              "15021  Checked 15 minutes ago  \n",
              "13876  Checked 14 minutes ago  \n",
              "15247  Checked 15 minutes ago  \n",
              "14720  Checked 16 minutes ago  \n",
              "15007  Checked 15 minutes ago  "
            ],
            "text/html": [
              "\n",
              "  <div id=\"df-12765ac5-a1ab-4e8c-9696-64b21701805c\" class=\"colab-df-container\">\n",
              "    <div>\n",
              "<style scoped>\n",
              "    .dataframe tbody tr th:only-of-type {\n",
              "        vertical-align: middle;\n",
              "    }\n",
              "\n",
              "    .dataframe tbody tr th {\n",
              "        vertical-align: top;\n",
              "    }\n",
              "\n",
              "    .dataframe thead th {\n",
              "        text-align: right;\n",
              "    }\n",
              "</style>\n",
              "<table border=\"1\" class=\"dataframe\">\n",
              "  <thead>\n",
              "    <tr style=\"text-align: right;\">\n",
              "      <th></th>\n",
              "      <th>lat</th>\n",
              "      <th>lon</th>\n",
              "      <th>alt</th>\n",
              "      <th>is_broken</th>\n",
              "      <th>is_active</th>\n",
              "      <th>dot</th>\n",
              "      <th>state</th>\n",
              "      <th>city</th>\n",
              "      <th>street</th>\n",
              "      <th>country</th>\n",
              "      <th>last_checked</th>\n",
              "    </tr>\n",
              "  </thead>\n",
              "  <tbody>\n",
              "    <tr>\n",
              "      <th>15021</th>\n",
              "      <td>-1.676912</td>\n",
              "      <td>53.709239</td>\n",
              "      <td>0</td>\n",
              "      <td>False</td>\n",
              "      <td>True</td>\n",
              "      <td>working</td>\n",
              "      <td>NaN</td>\n",
              "      <td>Heckmondwike</td>\n",
              "      <td>2 Northgate Centre</td>\n",
              "      <td>UK</td>\n",
              "      <td>Checked 15 minutes ago</td>\n",
              "    </tr>\n",
              "    <tr>\n",
              "      <th>13876</th>\n",
              "      <td>-113.578990</td>\n",
              "      <td>53.519910</td>\n",
              "      <td>0</td>\n",
              "      <td>False</td>\n",
              "      <td>True</td>\n",
              "      <td>working</td>\n",
              "      <td>NaN</td>\n",
              "      <td>Edmonton</td>\n",
              "      <td>8708-149 Street Nw</td>\n",
              "      <td>CA</td>\n",
              "      <td>Checked 14 minutes ago</td>\n",
              "    </tr>\n",
              "    <tr>\n",
              "      <th>15247</th>\n",
              "      <td>-1.462587</td>\n",
              "      <td>54.970603</td>\n",
              "      <td>0</td>\n",
              "      <td>False</td>\n",
              "      <td>True</td>\n",
              "      <td>working</td>\n",
              "      <td>NaN</td>\n",
              "      <td>South Shields</td>\n",
              "      <td>Towers Place</td>\n",
              "      <td>UK</td>\n",
              "      <td>Checked 15 minutes ago</td>\n",
              "    </tr>\n",
              "    <tr>\n",
              "      <th>14720</th>\n",
              "      <td>-2.587053</td>\n",
              "      <td>51.459020</td>\n",
              "      <td>0</td>\n",
              "      <td>True</td>\n",
              "      <td>True</td>\n",
              "      <td>broken</td>\n",
              "      <td>NaN</td>\n",
              "      <td>Bristol</td>\n",
              "      <td>101/105 The Horsefair</td>\n",
              "      <td>UK</td>\n",
              "      <td>Checked 16 minutes ago</td>\n",
              "    </tr>\n",
              "    <tr>\n",
              "      <th>15007</th>\n",
              "      <td>-2.213291</td>\n",
              "      <td>53.513355</td>\n",
              "      <td>0</td>\n",
              "      <td>False</td>\n",
              "      <td>True</td>\n",
              "      <td>working</td>\n",
              "      <td>NaN</td>\n",
              "      <td>Manchester</td>\n",
              "      <td>Harpurhey District Centre</td>\n",
              "      <td>UK</td>\n",
              "      <td>Checked 15 minutes ago</td>\n",
              "    </tr>\n",
              "  </tbody>\n",
              "</table>\n",
              "</div>\n",
              "    <div class=\"colab-df-buttons\">\n",
              "\n",
              "  <div class=\"colab-df-container\">\n",
              "    <button class=\"colab-df-convert\" onclick=\"convertToInteractive('df-12765ac5-a1ab-4e8c-9696-64b21701805c')\"\n",
              "            title=\"Convert this dataframe to an interactive table.\"\n",
              "            style=\"display:none;\">\n",
              "\n",
              "  <svg xmlns=\"http://www.w3.org/2000/svg\" height=\"24px\" viewBox=\"0 -960 960 960\">\n",
              "    <path d=\"M120-120v-720h720v720H120Zm60-500h600v-160H180v160Zm220 220h160v-160H400v160Zm0 220h160v-160H400v160ZM180-400h160v-160H180v160Zm440 0h160v-160H620v160ZM180-180h160v-160H180v160Zm440 0h160v-160H620v160Z\"/>\n",
              "  </svg>\n",
              "    </button>\n",
              "\n",
              "  <style>\n",
              "    .colab-df-container {\n",
              "      display:flex;\n",
              "      gap: 12px;\n",
              "    }\n",
              "\n",
              "    .colab-df-convert {\n",
              "      background-color: #E8F0FE;\n",
              "      border: none;\n",
              "      border-radius: 50%;\n",
              "      cursor: pointer;\n",
              "      display: none;\n",
              "      fill: #1967D2;\n",
              "      height: 32px;\n",
              "      padding: 0 0 0 0;\n",
              "      width: 32px;\n",
              "    }\n",
              "\n",
              "    .colab-df-convert:hover {\n",
              "      background-color: #E2EBFA;\n",
              "      box-shadow: 0px 1px 2px rgba(60, 64, 67, 0.3), 0px 1px 3px 1px rgba(60, 64, 67, 0.15);\n",
              "      fill: #174EA6;\n",
              "    }\n",
              "\n",
              "    .colab-df-buttons div {\n",
              "      margin-bottom: 4px;\n",
              "    }\n",
              "\n",
              "    [theme=dark] .colab-df-convert {\n",
              "      background-color: #3B4455;\n",
              "      fill: #D2E3FC;\n",
              "    }\n",
              "\n",
              "    [theme=dark] .colab-df-convert:hover {\n",
              "      background-color: #434B5C;\n",
              "      box-shadow: 0px 1px 3px 1px rgba(0, 0, 0, 0.15);\n",
              "      filter: drop-shadow(0px 1px 2px rgba(0, 0, 0, 0.3));\n",
              "      fill: #FFFFFF;\n",
              "    }\n",
              "  </style>\n",
              "\n",
              "    <script>\n",
              "      const buttonEl =\n",
              "        document.querySelector('#df-12765ac5-a1ab-4e8c-9696-64b21701805c button.colab-df-convert');\n",
              "      buttonEl.style.display =\n",
              "        google.colab.kernel.accessAllowed ? 'block' : 'none';\n",
              "\n",
              "      async function convertToInteractive(key) {\n",
              "        const element = document.querySelector('#df-12765ac5-a1ab-4e8c-9696-64b21701805c');\n",
              "        const dataTable =\n",
              "          await google.colab.kernel.invokeFunction('convertToInteractive',\n",
              "                                                    [key], {});\n",
              "        if (!dataTable) return;\n",
              "\n",
              "        const docLinkHtml = 'Like what you see? Visit the ' +\n",
              "          '<a target=\"_blank\" href=https://colab.research.google.com/notebooks/data_table.ipynb>data table notebook</a>'\n",
              "          + ' to learn more about interactive tables.';\n",
              "        element.innerHTML = '';\n",
              "        dataTable['output_type'] = 'display_data';\n",
              "        await google.colab.output.renderOutput(dataTable, element);\n",
              "        const docLink = document.createElement('div');\n",
              "        docLink.innerHTML = docLinkHtml;\n",
              "        element.appendChild(docLink);\n",
              "      }\n",
              "    </script>\n",
              "  </div>\n",
              "\n",
              "\n",
              "<div id=\"df-90449f88-a8fa-430f-ac27-79a3c5e76386\">\n",
              "  <button class=\"colab-df-quickchart\" onclick=\"quickchart('df-90449f88-a8fa-430f-ac27-79a3c5e76386')\"\n",
              "            title=\"Suggest charts.\"\n",
              "            style=\"display:none;\">\n",
              "\n",
              "<svg xmlns=\"http://www.w3.org/2000/svg\" height=\"24px\"viewBox=\"0 0 24 24\"\n",
              "     width=\"24px\">\n",
              "    <g>\n",
              "        <path d=\"M19 3H5c-1.1 0-2 .9-2 2v14c0 1.1.9 2 2 2h14c1.1 0 2-.9 2-2V5c0-1.1-.9-2-2-2zM9 17H7v-7h2v7zm4 0h-2V7h2v10zm4 0h-2v-4h2v4z\"/>\n",
              "    </g>\n",
              "</svg>\n",
              "  </button>\n",
              "\n",
              "<style>\n",
              "  .colab-df-quickchart {\n",
              "      --bg-color: #E8F0FE;\n",
              "      --fill-color: #1967D2;\n",
              "      --hover-bg-color: #E2EBFA;\n",
              "      --hover-fill-color: #174EA6;\n",
              "      --disabled-fill-color: #AAA;\n",
              "      --disabled-bg-color: #DDD;\n",
              "  }\n",
              "\n",
              "  [theme=dark] .colab-df-quickchart {\n",
              "      --bg-color: #3B4455;\n",
              "      --fill-color: #D2E3FC;\n",
              "      --hover-bg-color: #434B5C;\n",
              "      --hover-fill-color: #FFFFFF;\n",
              "      --disabled-bg-color: #3B4455;\n",
              "      --disabled-fill-color: #666;\n",
              "  }\n",
              "\n",
              "  .colab-df-quickchart {\n",
              "    background-color: var(--bg-color);\n",
              "    border: none;\n",
              "    border-radius: 50%;\n",
              "    cursor: pointer;\n",
              "    display: none;\n",
              "    fill: var(--fill-color);\n",
              "    height: 32px;\n",
              "    padding: 0;\n",
              "    width: 32px;\n",
              "  }\n",
              "\n",
              "  .colab-df-quickchart:hover {\n",
              "    background-color: var(--hover-bg-color);\n",
              "    box-shadow: 0 1px 2px rgba(60, 64, 67, 0.3), 0 1px 3px 1px rgba(60, 64, 67, 0.15);\n",
              "    fill: var(--button-hover-fill-color);\n",
              "  }\n",
              "\n",
              "  .colab-df-quickchart-complete:disabled,\n",
              "  .colab-df-quickchart-complete:disabled:hover {\n",
              "    background-color: var(--disabled-bg-color);\n",
              "    fill: var(--disabled-fill-color);\n",
              "    box-shadow: none;\n",
              "  }\n",
              "\n",
              "  .colab-df-spinner {\n",
              "    border: 2px solid var(--fill-color);\n",
              "    border-color: transparent;\n",
              "    border-bottom-color: var(--fill-color);\n",
              "    animation:\n",
              "      spin 1s steps(1) infinite;\n",
              "  }\n",
              "\n",
              "  @keyframes spin {\n",
              "    0% {\n",
              "      border-color: transparent;\n",
              "      border-bottom-color: var(--fill-color);\n",
              "      border-left-color: var(--fill-color);\n",
              "    }\n",
              "    20% {\n",
              "      border-color: transparent;\n",
              "      border-left-color: var(--fill-color);\n",
              "      border-top-color: var(--fill-color);\n",
              "    }\n",
              "    30% {\n",
              "      border-color: transparent;\n",
              "      border-left-color: var(--fill-color);\n",
              "      border-top-color: var(--fill-color);\n",
              "      border-right-color: var(--fill-color);\n",
              "    }\n",
              "    40% {\n",
              "      border-color: transparent;\n",
              "      border-right-color: var(--fill-color);\n",
              "      border-top-color: var(--fill-color);\n",
              "    }\n",
              "    60% {\n",
              "      border-color: transparent;\n",
              "      border-right-color: var(--fill-color);\n",
              "    }\n",
              "    80% {\n",
              "      border-color: transparent;\n",
              "      border-right-color: var(--fill-color);\n",
              "      border-bottom-color: var(--fill-color);\n",
              "    }\n",
              "    90% {\n",
              "      border-color: transparent;\n",
              "      border-bottom-color: var(--fill-color);\n",
              "    }\n",
              "  }\n",
              "</style>\n",
              "\n",
              "  <script>\n",
              "    async function quickchart(key) {\n",
              "      const quickchartButtonEl =\n",
              "        document.querySelector('#' + key + ' button');\n",
              "      quickchartButtonEl.disabled = true;  // To prevent multiple clicks.\n",
              "      quickchartButtonEl.classList.add('colab-df-spinner');\n",
              "      try {\n",
              "        const charts = await google.colab.kernel.invokeFunction(\n",
              "            'suggestCharts', [key], {});\n",
              "      } catch (error) {\n",
              "        console.error('Error during call to suggestCharts:', error);\n",
              "      }\n",
              "      quickchartButtonEl.classList.remove('colab-df-spinner');\n",
              "      quickchartButtonEl.classList.add('colab-df-quickchart-complete');\n",
              "    }\n",
              "    (() => {\n",
              "      let quickchartButtonEl =\n",
              "        document.querySelector('#df-90449f88-a8fa-430f-ac27-79a3c5e76386 button');\n",
              "      quickchartButtonEl.style.display =\n",
              "        google.colab.kernel.accessAllowed ? 'block' : 'none';\n",
              "    })();\n",
              "  </script>\n",
              "</div>\n",
              "    </div>\n",
              "  </div>\n"
            ]
          },
          "metadata": {},
          "execution_count": 5
        }
      ]
    },
    {
      "cell_type": "markdown",
      "source": [
        "**Data Cleaning (Continued):**\n",
        "\n",
        "- **Missing Values:** We have identified missing values in the dataset:\n",
        "  - For entries with missing city values in the UK, we've labeled the city as \"Unknown\" and the state as \"UK-Unknown.\"\n",
        "\n",
        "**Action Steps (Continued):**\n",
        "\n",
        "- For the other missing state values across various countries, we will label the missing state values as \"{Country}-Unknown,\" indicating that the state is unknown for the respective countries.\n",
        "\n",
        "Let's proceed with labeling the missing state values in this manner to maintain data integrity."
      ],
      "metadata": {
        "id": "zpf3yYC21v6y"
      }
    },
    {
      "cell_type": "code",
      "source": [
        "# Fill the missing state values based on the country\n",
        "data['state'].fillna(data['country'] + \"-Unknown\", inplace=True)\n",
        "\n",
        "# Verify if there are any more missing values\n",
        "remaining_missing_values = data.isnull().sum()\n",
        "\n",
        "remaining_missing_values"
      ],
      "metadata": {
        "colab": {
          "base_uri": "https://localhost:8080/"
        },
        "id": "RbTPiR3a1rTi",
        "outputId": "9f024a0e-34c5-48d2-a2f2-e729ea3ff4d9"
      },
      "execution_count": null,
      "outputs": [
        {
          "output_type": "execute_result",
          "data": {
            "text/plain": [
              "lat             0\n",
              "lon             0\n",
              "alt             0\n",
              "is_broken       0\n",
              "is_active       0\n",
              "dot             0\n",
              "state           0\n",
              "city            0\n",
              "street          0\n",
              "country         0\n",
              "last_checked    0\n",
              "dtype: int64"
            ]
          },
          "metadata": {},
          "execution_count": 6
        }
      ]
    },
    {
      "cell_type": "markdown",
      "source": [
        "**Univariate Analysis - Dot Column (Working Status):**\n",
        "\n",
        "In this phase, we will analyze the distribution of the 'dot' column, which represents the working status of items.\n",
        "\n",
        "Let's start by visualizing and analyzing the distribution of the 'dot' column to understand the working status of items."
      ],
      "metadata": {
        "id": "0wg9kJ3A13tG"
      }
    },
    {
      "cell_type": "code",
      "source": [
        "import matplotlib.pyplot as plt\n",
        "import seaborn as sns\n",
        "\n",
        "# Set up the aesthetics\n",
        "sns.set_style(\"whitegrid\")\n",
        "\n",
        "# Plot the distribution of the 'dot' column\n",
        "plt.figure(figsize=(10, 6))\n",
        "sns.countplot(data=data, x='dot', palette='viridis')\n",
        "plt.title('Distribution of Working Status (\"dot\" column)')\n",
        "plt.ylabel('Count')\n",
        "plt.xlabel('Working Status')\n",
        "plt.show()"
      ],
      "metadata": {
        "colab": {
          "base_uri": "https://localhost:8080/",
          "height": 564
        },
        "id": "W_Bn01Z51xuJ",
        "outputId": "1eb7a621-331f-4ff1-920f-d9676d31eab3"
      },
      "execution_count": null,
      "outputs": [
        {
          "output_type": "display_data",
          "data": {
            "text/plain": [
              "<Figure size 1000x600 with 1 Axes>"
            ],
            "image/png": "[encoded data removed]"
          },
          "metadata": {}
        }
      ]
    },
    {
      "cell_type": "markdown",
      "source": [
        "**Univariate Analysis - Active and Broken Items:**\n",
        "\n",
        "In this phase, we will analyze the distribution of active and broken items based on the 'is_active' and 'is_broken' columns. This analysis will provide insight into how these boolean indicators align with the working status represented by the 'dot' column.\n",
        "\n",
        "Let's visualize and analyze the distribution of active and broken items to understand their relationship with the working status."
      ],
      "metadata": {
        "id": "D2P_5y6v1_wy"
      }
    },
    {
      "cell_type": "code",
      "source": [
        "# Plot the distribution of the 'is_active' and 'is_broken' columns\n",
        "fig, ax = plt.subplots(1, 2, figsize=(15, 6))\n",
        "\n",
        "# Plot for 'is_active'\n",
        "sns.countplot(data=data, x='is_active', ax=ax[0], palette='viridis')\n",
        "ax[0].set_title('Distribution of Active Items')\n",
        "ax[0].set_ylabel('Count')\n",
        "ax[0].set_xlabel('Is Active?')\n",
        "\n",
        "# Plot for 'is_broken'\n",
        "sns.countplot(data=data, x='is_broken', ax=ax[1], palette='viridis')\n",
        "ax[1].set_title('Distribution of Broken Items')\n",
        "ax[1].set_ylabel('Count')\n",
        "ax[1].set_xlabel('Is Broken?')\n",
        "\n",
        "plt.tight_layout()\n",
        "plt.show()"
      ],
      "metadata": {
        "colab": {
          "base_uri": "https://localhost:8080/",
          "height": 539
        },
        "id": "Sq9i8ZyH165J",
        "outputId": "aefe07d1-8fc2-46cf-c8a6-5e393055ed1a"
      },
      "execution_count": null,
      "outputs": [
        {
          "output_type": "display_data",
          "data": {
            "text/plain": [
              "<Figure size 1500x600 with 2 Axes>"
            ],
            "image/png": "[encoded data removed]"
          },
          "metadata": {}
        }
      ]
    },
    {
      "cell_type": "markdown",
      "source": [
        "**Univariate Analysis - Distribution of Locations by Country:**\n",
        "\n",
        "In this phase, we will analyze the distribution of locations by country to understand the geographical spread of the data.\n",
        "\n",
        "Let's visualize and analyze the distribution of locations by country to gain insights into the dataset's geographical representation."
      ],
      "metadata": {
        "id": "_ef-tp8r2Jtl"
      }
    },
    {
      "cell_type": "code",
      "source": [
        "# Plot the distribution of locations by 'country'\n",
        "plt.figure(figsize=(15, 10))\n",
        "country_counts = data['country'].value_counts().nlargest(20)\n",
        "sns.barplot(y=country_counts.index, x=country_counts.values, palette='viridis')\n",
        "plt.title('Top 20 Countries by Number of Locations')\n",
        "plt.xlabel('Number of Locations')\n",
        "plt.ylabel('Country')\n",
        "plt.show()"
      ],
      "metadata": {
        "colab": {
          "base_uri": "https://localhost:8080/",
          "height": 872
        },
        "id": "eVvQ_akM2DIJ",
        "outputId": "6f307491-6c82-4497-8857-84cbaa8121fe"
      },
      "execution_count": null,
      "outputs": [
        {
          "output_type": "display_data",
          "data": {
            "text/plain": [
              "<Figure size 1500x1000 with 1 Axes>"
            ],
            "image/png": "[encoded data removed]"
          },
          "metadata": {}
        }
      ]
    },
    {
      "cell_type": "markdown",
      "source": [
        "**Univariate Analysis - Altitude (Alt) Distribution:**\n",
        "\n",
        "In this phase, we will analyze the distribution of the 'alt' column, which represents altitude.\n",
        "\n",
        "Let's visualize and analyze the altitude distribution to verify if it is consistently zero, as initially observed."
      ],
      "metadata": {
        "id": "O-Ib68Ua2UG9"
      }
    },
    {
      "cell_type": "code",
      "source": [
        "# Plot the distribution of the 'alt' column\n",
        "plt.figure(figsize=(10, 6))\n",
        "sns.histplot(data=data, x='alt', bins=30, kde=True, color='purple')\n",
        "plt.title('Distribution of Altitude (\"alt\" column)')\n",
        "plt.ylabel('Density')\n",
        "plt.xlabel('Altitude')\n",
        "plt.show()"
      ],
      "metadata": {
        "colab": {
          "base_uri": "https://localhost:8080/",
          "height": 564
        },
        "id": "cGs6c2Dz2Sky",
        "outputId": "d6adab2f-2170-48aa-8715-242f2957b74f"
      },
      "execution_count": null,
      "outputs": [
        {
          "output_type": "display_data",
          "data": {
            "text/plain": [
              "<Figure size 1000x600 with 1 Axes>"
            ],
            "image/png": "[encoded data removed]"
          },
          "metadata": {}
        }
      ]
    },
    {
      "cell_type": "markdown",
      "source": [
        "**Bivariate Analysis - Relationship Between Working Status and Countries:**\n",
        "\n",
        "In this phase, we will explore the relationship between the working status (represented by the 'dot' column) and countries. Our goal is to see if certain countries have a higher proportion of broken items.\n",
        "\n",
        "Let's visualize and analyze the relationship between working status and countries to gain insights into how the working status varies across different countries."
      ],
      "metadata": {
        "id": "z4b_jc2C2oZT"
      }
    },
    {
      "cell_type": "code",
      "source": [
        "# Plot the distribution of working status based on the country\n",
        "plt.figure(figsize=(15, 10))\n",
        "country_dot_counts = data.groupby('country')['dot'].value_counts().unstack().nlargest(20, 'working')\n",
        "country_dot_counts.plot(kind='bar', stacked=True, figsize=(15,10), colormap='viridis')\n",
        "plt.title('Working Status Distribution for Top 20 Countries')\n",
        "plt.ylabel('Number of Locations')\n",
        "plt.xlabel('Country')\n",
        "plt.show()"
      ],
      "metadata": {
        "colab": {
          "base_uri": "https://localhost:8080/",
          "height": 904
        },
        "id": "QZ-c1XMM2kT6",
        "outputId": "67f7adee-7446-4cb9-e05c-497cabc7e37b"
      },
      "execution_count": null,
      "outputs": [
        {
          "output_type": "display_data",
          "data": {
            "text/plain": [
              "<Figure size 1500x1000 with 0 Axes>"
            ]
          },
          "metadata": {}
        },
        {
          "output_type": "display_data",
          "data": {
            "text/plain": [
              "<Figure size 1500x1000 with 1 Axes>"
            ],
            "image/png": "[encoded data removed]"
          },
          "metadata": {}
        }
      ]
    },
    {
      "cell_type": "markdown",
      "source": [
        "**Bivariate Analysis (Continued):**\n",
        "\n",
        "- In the bivariate analysis, we started by analyzing the working status across different countries. The USA, Canada, Australia, and several European countries show a substantial number of working locations.\n",
        "\n",
        "Next Steps:\n",
        "\n",
        "We have made significant progress in understanding the dataset through data overview, cleaning, and initial univariate and bivariate analyses. In the upcoming phases of the EDA, we will continue to explore relationships between variables, conduct multivariate analysis, and uncover more insights from the data.\n",
        "\n",
        "If you have any specific questions, tasks, or areas of analysis you'd like to focus on next, please let me know, and we'll continue with the EDA accordingly."
      ],
      "metadata": {
        "id": "S5ugpCfX2_-4"
      }
    },
    {
      "cell_type": "markdown",
      "source": [
        "**Bivariate Analysis (Continued):**\n",
        "\n",
        "- In this phase, we will further explore the relationship between the active/broken status (is_active, is_broken) and countries to understand how these statuses are distributed across different geographical regions.\n",
        "\n",
        "Let's visualize and analyze this relationship to gain insights into the dataset."
      ],
      "metadata": {
        "id": "WnZdI8-x3FYm"
      }
    },
    {
      "cell_type": "code",
      "source": [
        "# Plot the distribution of active and broken items based on the country\n",
        "fig, ax = plt.subplots(1, 2, figsize=(15, 10))\n",
        "\n",
        "# Active items by country\n",
        "active_country_counts = data[data['is_active'] == True]['country'].value_counts().nlargest(20)\n",
        "sns.barplot(y=active_country_counts.index, x=active_country_counts.values, ax=ax[0], palette='viridis')\n",
        "ax[0].set_title('Top 20 Countries with Active Items')\n",
        "ax[0].set_xlabel('Number of Active Items')\n",
        "ax[0].set_ylabel('Country')\n",
        "\n",
        "# Broken items by country\n",
        "broken_country_counts = data[data['is_broken'] == True]['country'].value_counts().nlargest(20)\n",
        "sns.barplot(y=broken_country_counts.index, x=broken_country_counts.values, ax=ax[1], palette='viridis')\n",
        "ax[1].set_title('Top 20 Countries with Broken Items')\n",
        "ax[1].set_xlabel('Number of Broken Items')\n",
        "ax[1].set_ylabel('Country')\n",
        "\n",
        "plt.tight_layout()\n",
        "plt.show()"
      ],
      "metadata": {
        "colab": {
          "base_uri": "https://localhost:8080/",
          "height": 893
        },
        "id": "mnnq_v8Q2x5R",
        "outputId": "add62900-d615-4c09-aef9-bb6021497615"
      },
      "execution_count": null,
      "outputs": [
        {
          "output_type": "display_data",
          "data": {
            "text/plain": [
              "<Figure size 1500x1000 with 2 Axes>"
            ],
            "image/png": "[encoded data removed]"
          },
          "metadata": {}
        }
      ]
    },
    {
      "cell_type": "markdown",
      "source": [
        "**Bivariate Analysis (Continued):**\n",
        "\n",
        "- In this phase, we will investigate the relationship between 'is_active,' 'is_broken,' and the 'dot' column to understand if there are any noticeable patterns or inconsistencies in the dataset.\n",
        "\n",
        "Let's visualize and analyze this relationship to gain insights into the dataset's working status indicators."
      ],
      "metadata": {
        "id": "HOGcGwF-3M_0"
      }
    },
    {
      "cell_type": "code",
      "source": [
        "# Create a crosstab between 'dot' column and 'is_broken'/'is_active' columns\n",
        "cross_is_broken = pd.crosstab(data['dot'], data['is_broken'])\n",
        "cross_is_active = pd.crosstab(data['dot'], data['is_active'])\n",
        "\n",
        "cross_is_broken, cross_is_active"
      ],
      "metadata": {
        "colab": {
          "base_uri": "https://localhost:8080/"
        },
        "id": "6-KmW9Zl3IFZ",
        "outputId": "9e5e8c4c-5c6e-4eb5-cc2c-b021ca7666a2"
      },
      "execution_count": null,
      "outputs": [
        {
          "output_type": "execute_result",
          "data": {
            "text/plain": [
              "(is_broken  False  True \n",
              " dot                    \n",
              " broken         0   1857\n",
              " inactive     319      0\n",
              " working    14495      0,\n",
              " is_active  False  True \n",
              " dot                    \n",
              " broken         0   1857\n",
              " inactive     319      0\n",
              " working        0  14495)"
            ]
          },
          "metadata": {},
          "execution_count": 14
        }
      ]
    },
    {
      "cell_type": "markdown",
      "source": [
        "**Interactive Visualizations:**\n",
        "\n",
        "In this phase, we will create interactive visualizations to enhance our understanding of the dataset. We'll plot an interactive scatter plot showing the distribution of locations (using the 'lat' and 'lon' columns) and color-code the points based on their working status.\n",
        "\n",
        "This interactive visualization will provide a more engaging way to explore the geographical distribution of working and broken items.\n",
        "\n",
        "Let's generate the interactive scatter plot to visualize the distribution of locations by working status."
      ],
      "metadata": {
        "id": "52aqszCV3Qpv"
      }
    },
    {
      "cell_type": "code",
      "source": [
        "# Extract the number and unit from the 'last_checked' column\n",
        "data['last_checked_number'] = data['last_checked'].str.extract('(\\d+)').astype(float)\n",
        "data['last_checked_unit'] = data['last_checked'].str.extract('(minutes|hours)')\n",
        "\n",
        "# Convert the time to minutes\n",
        "data['time_since_last_checked'] = data.apply(\n",
        "    lambda x: x['last_checked_number'] if x['last_checked_unit'] == 'minutes' else x['last_checked_number'] * 60,\n",
        "    axis=1)\n",
        "\n",
        "# Drop the temporary columns and display the first few rows\n",
        "data.drop(columns=['last_checked_number', 'last_checked_unit'], inplace=True)\n",
        "data[['last_checked', 'time_since_last_checked']].head()"
      ],
      "metadata": {
        "colab": {
          "base_uri": "https://localhost:8080/",
          "height": 206
        },
        "id": "pg5RQxAY3P1J",
        "outputId": "69db5005-08b8-4997-d734-172cf8478c1d"
      },
      "execution_count": null,
      "outputs": [
        {
          "output_type": "execute_result",
          "data": {
            "text/plain": [
              "              last_checked  time_since_last_checked\n",
              "0  Checked 142 minutes ago                    142.0\n",
              "1  Checked 142 minutes ago                    142.0\n",
              "2  Checked 142 minutes ago                    142.0\n",
              "3  Checked 142 minutes ago                    142.0\n",
              "4  Checked 142 minutes ago                    142.0"
            ],
            "text/html": [
              "\n",
              "  <div id=\"df-a141eacd-e461-42b6-8911-d1316b96fb14\" class=\"colab-df-container\">\n",
              "    <div>\n",
              "<style scoped>\n",
              "    .dataframe tbody tr th:only-of-type {\n",
              "        vertical-align: middle;\n",
              "    }\n",
              "\n",
              "    .dataframe tbody tr th {\n",
              "        vertical-align: top;\n",
              "    }\n",
              "\n",
              "    .dataframe thead th {\n",
              "        text-align: right;\n",
              "    }\n",
              "</style>\n",
              "<table border=\"1\" class=\"dataframe\">\n",
              "  <thead>\n",
              "    <tr style=\"text-align: right;\">\n",
              "      <th></th>\n",
              "      <th>last_checked</th>\n",
              "      <th>time_since_last_checked</th>\n",
              "    </tr>\n",
              "  </thead>\n",
              "  <tbody>\n",
              "    <tr>\n",
              "      <th>0</th>\n",
              "      <td>Checked 142 minutes ago</td>\n",
              "      <td>142.0</td>\n",
              "    </tr>\n",
              "    <tr>\n",
              "      <th>1</th>\n",
              "      <td>Checked 142 minutes ago</td>\n",
              "      <td>142.0</td>\n",
              "    </tr>\n",
              "    <tr>\n",
              "      <th>2</th>\n",
              "      <td>Checked 142 minutes ago</td>\n",
              "      <td>142.0</td>\n",
              "    </tr>\n",
              "    <tr>\n",
              "      <th>3</th>\n",
              "      <td>Checked 142 minutes ago</td>\n",
              "      <td>142.0</td>\n",
              "    </tr>\n",
              "    <tr>\n",
              "      <th>4</th>\n",
              "      <td>Checked 142 minutes ago</td>\n",
              "      <td>142.0</td>\n",
              "    </tr>\n",
              "  </tbody>\n",
              "</table>\n",
              "</div>\n",
              "    <div class=\"colab-df-buttons\">\n",
              "\n",
              "  <div class=\"colab-df-container\">\n",
              "    <button class=\"colab-df-convert\" onclick=\"convertToInteractive('df-a141eacd-e461-42b6-8911-d1316b96fb14')\"\n",
              "            title=\"Convert this dataframe to an interactive table.\"\n",
              "            style=\"display:none;\">\n",
              "\n",
              "  <svg xmlns=\"http://www.w3.org/2000/svg\" height=\"24px\" viewBox=\"0 -960 960 960\">\n",
              "    <path d=\"M120-120v-720h720v720H120Zm60-500h600v-160H180v160Zm220 220h160v-160H400v160Zm0 220h160v-160H400v160ZM180-400h160v-160H180v160Zm440 0h160v-160H620v160ZM180-180h160v-160H180v160Zm440 0h160v-160H620v160Z\"/>\n",
              "  </svg>\n",
              "    </button>\n",
              "\n",
              "  <style>\n",
              "    .colab-df-container {\n",
              "      display:flex;\n",
              "      gap: 12px;\n",
              "    }\n",
              "\n",
              "    .colab-df-convert {\n",
              "      background-color: #E8F0FE;\n",
              "      border: none;\n",
              "      border-radius: 50%;\n",
              "      cursor: pointer;\n",
              "      display: none;\n",
              "      fill: #1967D2;\n",
              "      height: 32px;\n",
              "      padding: 0 0 0 0;\n",
              "      width: 32px;\n",
              "    }\n",
              "\n",
              "    .colab-df-convert:hover {\n",
              "      background-color: #E2EBFA;\n",
              "      box-shadow: 0px 1px 2px rgba(60, 64, 67, 0.3), 0px 1px 3px 1px rgba(60, 64, 67, 0.15);\n",
              "      fill: #174EA6;\n",
              "    }\n",
              "\n",
              "    .colab-df-buttons div {\n",
              "      margin-bottom: 4px;\n",
              "    }\n",
              "\n",
              "    [theme=dark] .colab-df-convert {\n",
              "      background-color: #3B4455;\n",
              "      fill: #D2E3FC;\n",
              "    }\n",
              "\n",
              "    [theme=dark] .colab-df-convert:hover {\n",
              "      background-color: #434B5C;\n",
              "      box-shadow: 0px 1px 3px 1px rgba(0, 0, 0, 0.15);\n",
              "      filter: drop-shadow(0px 1px 2px rgba(0, 0, 0, 0.3));\n",
              "      fill: #FFFFFF;\n",
              "    }\n",
              "  </style>\n",
              "\n",
              "    <script>\n",
              "      const buttonEl =\n",
              "        document.querySelector('#df-a141eacd-e461-42b6-8911-d1316b96fb14 button.colab-df-convert');\n",
              "      buttonEl.style.display =\n",
              "        google.colab.kernel.accessAllowed ? 'block' : 'none';\n",
              "\n",
              "      async function convertToInteractive(key) {\n",
              "        const element = document.querySelector('#df-a141eacd-e461-42b6-8911-d1316b96fb14');\n",
              "        const dataTable =\n",
              "          await google.colab.kernel.invokeFunction('convertToInteractive',\n",
              "                                                    [key], {});\n",
              "        if (!dataTable) return;\n",
              "\n",
              "        const docLinkHtml = 'Like what you see? Visit the ' +\n",
              "          '<a target=\"_blank\" href=https://colab.research.google.com/notebooks/data_table.ipynb>data table notebook</a>'\n",
              "          + ' to learn more about interactive tables.';\n",
              "        element.innerHTML = '';\n",
              "        dataTable['output_type'] = 'display_data';\n",
              "        await google.colab.output.renderOutput(dataTable, element);\n",
              "        const docLink = document.createElement('div');\n",
              "        docLink.innerHTML = docLinkHtml;\n",
              "        element.appendChild(docLink);\n",
              "      }\n",
              "    </script>\n",
              "  </div>\n",
              "\n",
              "\n",
              "<div id=\"df-c73b78aa-6c51-46b3-b075-d668d4284562\">\n",
              "  <button class=\"colab-df-quickchart\" onclick=\"quickchart('df-c73b78aa-6c51-46b3-b075-d668d4284562')\"\n",
              "            title=\"Suggest charts.\"\n",
              "            style=\"display:none;\">\n",
              "\n",
              "<svg xmlns=\"http://www.w3.org/2000/svg\" height=\"24px\"viewBox=\"0 0 24 24\"\n",
              "     width=\"24px\">\n",
              "    <g>\n",
              "        <path d=\"M19 3H5c-1.1 0-2 .9-2 2v14c0 1.1.9 2 2 2h14c1.1 0 2-.9 2-2V5c0-1.1-.9-2-2-2zM9 17H7v-7h2v7zm4 0h-2V7h2v10zm4 0h-2v-4h2v4z\"/>\n",
              "    </g>\n",
              "</svg>\n",
              "  </button>\n",
              "\n",
              "<style>\n",
              "  .colab-df-quickchart {\n",
              "      --bg-color: #E8F0FE;\n",
              "      --fill-color: #1967D2;\n",
              "      --hover-bg-color: #E2EBFA;\n",
              "      --hover-fill-color: #174EA6;\n",
              "      --disabled-fill-color: #AAA;\n",
              "      --disabled-bg-color: #DDD;\n",
              "  }\n",
              "\n",
              "  [theme=dark] .colab-df-quickchart {\n",
              "      --bg-color: #3B4455;\n",
              "      --fill-color: #D2E3FC;\n",
              "      --hover-bg-color: #434B5C;\n",
              "      --hover-fill-color: #FFFFFF;\n",
              "      --disabled-bg-color: #3B4455;\n",
              "      --disabled-fill-color: #666;\n",
              "  }\n",
              "\n",
              "  .colab-df-quickchart {\n",
              "    background-color: var(--bg-color);\n",
              "    border: none;\n",
              "    border-radius: 50%;\n",
              "    cursor: pointer;\n",
              "    display: none;\n",
              "    fill: var(--fill-color);\n",
              "    height: 32px;\n",
              "    padding: 0;\n",
              "    width: 32px;\n",
              "  }\n",
              "\n",
              "  .colab-df-quickchart:hover {\n",
              "    background-color: var(--hover-bg-color);\n",
              "    box-shadow: 0 1px 2px rgba(60, 64, 67, 0.3), 0 1px 3px 1px rgba(60, 64, 67, 0.15);\n",
              "    fill: var(--button-hover-fill-color);\n",
              "  }\n",
              "\n",
              "  .colab-df-quickchart-complete:disabled,\n",
              "  .colab-df-quickchart-complete:disabled:hover {\n",
              "    background-color: var(--disabled-bg-color);\n",
              "    fill: var(--disabled-fill-color);\n",
              "    box-shadow: none;\n",
              "  }\n",
              "\n",
              "  .colab-df-spinner {\n",
              "    border: 2px solid var(--fill-color);\n",
              "    border-color: transparent;\n",
              "    border-bottom-color: var(--fill-color);\n",
              "    animation:\n",
              "      spin 1s steps(1) infinite;\n",
              "  }\n",
              "\n",
              "  @keyframes spin {\n",
              "    0% {\n",
              "      border-color: transparent;\n",
              "      border-bottom-color: var(--fill-color);\n",
              "      border-left-color: var(--fill-color);\n",
              "    }\n",
              "    20% {\n",
              "      border-color: transparent;\n",
              "      border-left-color: var(--fill-color);\n",
              "      border-top-color: var(--fill-color);\n",
              "    }\n",
              "    30% {\n",
              "      border-color: transparent;\n",
              "      border-left-color: var(--fill-color);\n",
              "      border-top-color: var(--fill-color);\n",
              "      border-right-color: var(--fill-color);\n",
              "    }\n",
              "    40% {\n",
              "      border-color: transparent;\n",
              "      border-right-color: var(--fill-color);\n",
              "      border-top-color: var(--fill-color);\n",
              "    }\n",
              "    60% {\n",
              "      border-color: transparent;\n",
              "      border-right-color: var(--fill-color);\n",
              "    }\n",
              "    80% {\n",
              "      border-color: transparent;\n",
              "      border-right-color: var(--fill-color);\n",
              "      border-bottom-color: var(--fill-color);\n",
              "    }\n",
              "    90% {\n",
              "      border-color: transparent;\n",
              "      border-bottom-color: var(--fill-color);\n",
              "    }\n",
              "  }\n",
              "</style>\n",
              "\n",
              "  <script>\n",
              "    async function quickchart(key) {\n",
              "      const quickchartButtonEl =\n",
              "        document.querySelector('#' + key + ' button');\n",
              "      quickchartButtonEl.disabled = true;  // To prevent multiple clicks.\n",
              "      quickchartButtonEl.classList.add('colab-df-spinner');\n",
              "      try {\n",
              "        const charts = await google.colab.kernel.invokeFunction(\n",
              "            'suggestCharts', [key], {});\n",
              "      } catch (error) {\n",
              "        console.error('Error during call to suggestCharts:', error);\n",
              "      }\n",
              "      quickchartButtonEl.classList.remove('colab-df-spinner');\n",
              "      quickchartButtonEl.classList.add('colab-df-quickchart-complete');\n",
              "    }\n",
              "    (() => {\n",
              "      let quickchartButtonEl =\n",
              "        document.querySelector('#df-c73b78aa-6c51-46b3-b075-d668d4284562 button');\n",
              "      quickchartButtonEl.style.display =\n",
              "        google.colab.kernel.accessAllowed ? 'block' : 'none';\n",
              "    })();\n",
              "  </script>\n",
              "</div>\n",
              "    </div>\n",
              "  </div>\n"
            ]
          },
          "metadata": {},
          "execution_count": 16
        }
      ]
    },
    {
      "cell_type": "markdown",
      "source": [
        "**Feature Engineering (Time Since Last Checked):**\n",
        "\n",
        "The 'last_checked' column has been successfully processed and converted to the 'time_since_last_checked' column, which represents the time since the last check in minutes.\n",
        "\n",
        "**Summary:**\n",
        "\n",
        "- We've further explored the bivariate relationships in the dataset.\n",
        "- Although we encountered an issue with rendering the interactive visualization, we've proceeded with feature engineering to extract more meaningful information from the 'last_checked' column."
      ],
      "metadata": {
        "id": "7a44lbko3ogu"
      }
    },
    {
      "cell_type": "markdown",
      "source": [
        "**Data Preparation and Processing typically involves:**\n",
        "\n",
        "1. **Feature Engineering:** Creating new features from existing ones or transforming features to be more useful.\n",
        "2. **Data Transformation:** Scaling or normalizing numerical columns, encoding categorical columns, etc.\n",
        "3. **Handling Outliers:** Identifying and treating outliers that can distort our analysis or modeling results.\n",
        "4. **Data Splitting:** Preparing data splits for modeling (training, validation, testing sets).\n",
        "\n",
        "Given the nature of our EDA so far, we have already touched on some aspects of feature engineering (like transforming the `last_checked` column). Let's further delve into the other points:\n",
        "\n",
        "**Data Transformation:**\n",
        "\n",
        "- Check for any numerical columns that may benefit from scaling or normalization.\n",
        "- Encode categorical columns if needed.\n",
        "\n",
        "**Handling Outliers:**\n",
        "\n",
        "- For columns like `time_since_last_checked`, we can check for outliers and decide how to address them.\n",
        "\n",
        "**Data Splitting:**\n",
        "\n",
        "- If we were building a predictive model, we'd split the data. Given the current EDA-focused context, we might not need this step unless you have a specific modeling task in mind.\n",
        "\n",
        "Let's start with Data Transformation. We'll look at the distribution of the `time_since_last_checked` column to decide if it needs any transformation."
      ],
      "metadata": {
        "id": "FO9XL1i-3wG2"
      }
    },
    {
      "cell_type": "code",
      "source": [
        "# Plot the distribution of 'time_since_last_checked' column\n",
        "plt.figure(figsize=(10, 6))\n",
        "sns.histplot(data=data, x='time_since_last_checked', bins=30, kde=True, color='blue')\n",
        "plt.title('Distribution of Time Since Last Checked (in minutes)')\n",
        "plt.ylabel('Density')\n",
        "plt.xlabel('Time Since Last Checked (minutes)')\n",
        "plt.show()"
      ],
      "metadata": {
        "colab": {
          "base_uri": "https://localhost:8080/",
          "height": 564
        },
        "id": "IrHpJr0Z3W3H",
        "outputId": "3a54d36f-5110-4517-a95f-684cc4df0d2a"
      },
      "execution_count": null,
      "outputs": [
        {
          "output_type": "display_data",
          "data": {
            "text/plain": [
              "<Figure size 1000x600 with 1 Axes>"
            ],
            "image/png": "[encoded data removed]"
          },
          "metadata": {}
        }
      ]
    },
    {
      "cell_type": "markdown",
      "source": [
        "The `time_since_last_checked` column appears to be right-skewed, with most values clustered around the lower end of the range.\n",
        "\n",
        "**For Data Transformation:**\n",
        "\n",
        "- This column may benefit from a transformation, such as a logarithmic transformation, to make its distribution more normal-like, especially if we plan to use algorithms sensitive to feature distributions.\n",
        "- Categorical columns like `dot`, `state`, `city`, and `country` can be one-hot encoded or label encoded if they're to be used in machine learning models.\n",
        "\n",
        "Next, let's address **Handling Outliers**. We'll check for outliers in the `time_since_last_checked` column using a box plot."
      ],
      "metadata": {
        "id": "3bxGUlTM4VOO"
      }
    },
    {
      "cell_type": "code",
      "source": [
        "# Plot a box plot for 'time_since_last_checked' column to check for outliers\n",
        "plt.figure(figsize=(10, 6))\n",
        "sns.boxplot(data=data, x='time_since_last_checked', color='lightblue')\n",
        "plt.title('Box Plot of Time Since Last Checked (in minutes)')\n",
        "plt.xlabel('Time Since Last Checked (minutes)')\n",
        "plt.show()"
      ],
      "metadata": {
        "colab": {
          "base_uri": "https://localhost:8080/",
          "height": 564
        },
        "id": "xZqeHnBD4O14",
        "outputId": "2495df32-888a-4754-ee72-13c53cfc0ffd"
      },
      "execution_count": null,
      "outputs": [
        {
          "output_type": "display_data",
          "data": {
            "text/plain": [
              "<Figure size 1000x600 with 1 Axes>"
            ],
            "image/png": "[encoded data removed]"
          },
          "metadata": {}
        }
      ]
    },
    {
      "cell_type": "markdown",
      "source": [
        "The box plot for the `time_since_last_checked` column reveals several data points that are considered outliers, as they lie outside the whiskers of the box plot.\n",
        "\n",
        "**For Handling Outliers:**\n",
        "\n",
        "- We can use techniques such as the IQR (Interquartile Range) method to formally identify these outliers.\n",
        "- Once identified, we can decide on a strategy to handle them, such as capping, removing, or transforming."
      ],
      "metadata": {
        "id": "04LpoJBp4cvW"
      }
    },
    {
      "cell_type": "markdown",
      "source": [
        "**Identifying and Handling Outliers for the `time_since_last_checked` Column using the IQR (Interquartile Range) method:**\n",
        "\n",
        "1. Calculate the first quartile (Q1) and third quartile (Q3) for the column.\n",
        "2. Determine the IQR, which is the difference between Q3 and Q1.\n",
        "3. Identify outliers as any value outside the range of [Q1 - 1.5 × IQR, Q3 + 1.5 × IQR].\n",
        "4. Decide on a strategy to handle these outliers.\n",
        "\n",
        "Let's start by identifying the outliers using the IQR method.\n"
      ],
      "metadata": {
        "id": "f24glZD94d1Q"
      }
    },
    {
      "cell_type": "code",
      "source": [
        "# Calculate Q1, Q3 and IQR for 'time_since_last_checked' column\n",
        "Q1 = data['time_since_last_checked'].quantile(0.25)\n",
        "Q3 = data['time_since_last_checked'].quantile(0.75)\n",
        "IQR = Q3 - Q1\n",
        "\n",
        "# Define bounds for the outliers\n",
        "lower_bound = Q1 - 1.5 * IQR\n",
        "upper_bound = Q3 + 1.5 * IQR\n",
        "\n",
        "# Filter the outliers\n",
        "outliers = data[(data['time_since_last_checked'] < lower_bound) | (data['time_since_last_checked'] > upper_bound)]\n",
        "\n",
        "# Display the number of outliers and some sample outlier rows\n",
        "num_outliers = outliers.shape[0]\n",
        "outliers_sample = outliers.sample(min(5, num_outliers))\n",
        "\n",
        "num_outliers, outliers_sample"
      ],
      "metadata": {
        "colab": {
          "base_uri": "https://localhost:8080/"
        },
        "id": "1gOJWKm74YWn",
        "outputId": "b13386a9-81b4-4027-8d7b-b74bbce08dce"
      },
      "execution_count": null,
      "outputs": [
        {
          "output_type": "execute_result",
          "data": {
            "text/plain": [
              "(0,\n",
              " Empty DataFrame\n",
              " Columns: [lat, lon, alt, is_broken, is_active, dot, state, city, street, country, last_checked, time_since_last_checked]\n",
              " Index: [])"
            ]
          },
          "metadata": {},
          "execution_count": 19
        }
      ]
    },
    {
      "cell_type": "markdown",
      "source": [
        "It seems there are no outliers for the `time_since_last_checked` column based on the IQR method. This suggests that while the values did appear to be outliers visually in the box plot, they still fall within the acceptable range when we use the IQR method for outlier detection.\n",
        "\n",
        "Given this result, no further action is required to handle outliers for this column."
      ],
      "metadata": {
        "id": "EnO-7WEJ4rji"
      }
    }
  ]
}