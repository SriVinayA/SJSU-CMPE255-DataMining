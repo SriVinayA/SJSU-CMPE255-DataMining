{
  "nbformat": 4,
  "nbformat_minor": 0,
  "metadata": {
    "colab": {
      "provenance": [],
      "authorship_tag": "ABX9TyMV+z4+lzIbCmqf4QHd84Ix",
      "include_colab_link": true
    },
    "kernelspec": {
      "name": "python3",
      "display_name": "Python 3"
    },
    "language_info": {
      "name": "python"
    }
  },
  "cells": [
    {
      "cell_type": "markdown",
      "metadata": {
        "id": "view-in-github",
        "colab_type": "text"
      },
      "source": [
        "<a href=\"https://colab.research.google.com/github/SriVinayA/SJSU-CMPE255-DataMining/blob/main/Assignment%202/Task_d.ipynb\" target=\"_parent\"><img src=\"https://colab.research.google.com/assets/colab-badge.svg\" alt=\"Open In Colab\"/></a>"
      ]
    },
    {
      "cell_type": "code",
      "source": [
        "pip install pycaret"
      ],
      "metadata": {
        "colab": {
          "base_uri": "https://localhost:8080/"
        },
        "id": "C8ryxh5XUvnG",
        "outputId": "94830219-e44c-46f5-f043-3fc65c716de7"
      },
      "execution_count": null,
      "outputs": [
        {
          "output_type": "stream",
          "name": "stdout",
          "text": [
            "Requirement already satisfied: pycaret in /usr/local/lib/python3.10/dist-packages (3.1.0)\n",
            "Requirement already satisfied: ipython>=5.5.0 in /usr/local/lib/python3.10/dist-packages (from pycaret) (7.34.0)\n",
            "Requirement already satisfied: ipywidgets>=7.6.5 in /usr/local/lib/python3.10/dist-packages (from pycaret) (7.7.1)\n",
            "Requirement already satisfied: tqdm>=4.62.0 in /usr/local/lib/python3.10/dist-packages (from pycaret) (4.66.1)\n",
            "Requirement already satisfied: numpy<1.24,>=1.21 in /usr/local/lib/python3.10/dist-packages (from pycaret) (1.23.5)\n",
            "Requirement already satisfied: pandas<2.0.0,>=1.3.0 in /usr/local/lib/python3.10/dist-packages (from pycaret) (1.5.3)\n",
            "Requirement already satisfied: jinja2>=1.2 in /usr/local/lib/python3.10/dist-packages (from pycaret) (3.1.2)\n",
            "Requirement already satisfied: scipy~=1.10.1 in /usr/local/lib/python3.10/dist-packages (from pycaret) (1.10.1)\n",
            "Requirement already satisfied: joblib>=1.2.0 in /usr/local/lib/python3.10/dist-packages (from pycaret) (1.3.2)\n",
            "Requirement already satisfied: scikit-learn<1.3.0,>=1.0 in /usr/local/lib/python3.10/dist-packages (from pycaret) (1.2.2)\n",
            "Requirement already satisfied: pyod>=1.0.8 in /usr/local/lib/python3.10/dist-packages (from pycaret) (1.1.0)\n",
            "Requirement already satisfied: imbalanced-learn>=0.8.1 in /usr/local/lib/python3.10/dist-packages (from pycaret) (0.10.1)\n",
            "Requirement already satisfied: category-encoders>=2.4.0 in /usr/local/lib/python3.10/dist-packages (from pycaret) (2.6.2)\n",
            "Requirement already satisfied: lightgbm>=3.0.0 in /usr/local/lib/python3.10/dist-packages (from pycaret) (4.0.0)\n",
            "Requirement already satisfied: numba>=0.55.0 in /usr/local/lib/python3.10/dist-packages (from pycaret) (0.56.4)\n",
            "Requirement already satisfied: requests>=2.27.1 in /usr/local/lib/python3.10/dist-packages (from pycaret) (2.31.0)\n",
            "Requirement already satisfied: psutil>=5.9.0 in /usr/local/lib/python3.10/dist-packages (from pycaret) (5.9.5)\n",
            "Requirement already satisfied: markupsafe>=2.0.1 in /usr/local/lib/python3.10/dist-packages (from pycaret) (2.1.3)\n",
            "Requirement already satisfied: importlib-metadata>=4.12.0 in /usr/local/lib/python3.10/dist-packages (from pycaret) (6.8.0)\n",
            "Requirement already satisfied: nbformat>=4.2.0 in /usr/local/lib/python3.10/dist-packages (from pycaret) (5.9.2)\n",
            "Requirement already satisfied: cloudpickle in /usr/local/lib/python3.10/dist-packages (from pycaret) (2.2.1)\n",
            "Requirement already satisfied: deprecation>=2.1.0 in /usr/local/lib/python3.10/dist-packages (from pycaret) (2.1.0)\n",
            "Requirement already satisfied: xxhash in /usr/local/lib/python3.10/dist-packages (from pycaret) (3.3.0)\n",
            "Requirement already satisfied: matplotlib>=3.3.0 in /usr/local/lib/python3.10/dist-packages (from pycaret) (3.7.1)\n",
            "Requirement already satisfied: scikit-plot>=0.3.7 in /usr/local/lib/python3.10/dist-packages (from pycaret) (0.3.7)\n",
            "Requirement already satisfied: yellowbrick>=1.4 in /usr/local/lib/python3.10/dist-packages (from pycaret) (1.5)\n",
            "Requirement already satisfied: plotly>=5.0.0 in /usr/local/lib/python3.10/dist-packages (from pycaret) (5.15.0)\n",
            "Requirement already satisfied: kaleido>=0.2.1 in /usr/local/lib/python3.10/dist-packages (from pycaret) (0.2.1)\n",
            "Requirement already satisfied: schemdraw==0.15 in /usr/local/lib/python3.10/dist-packages (from pycaret) (0.15)\n",
            "Requirement already satisfied: plotly-resampler>=0.8.3.1 in /usr/local/lib/python3.10/dist-packages (from pycaret) (0.9.1)\n",
            "Requirement already satisfied: statsmodels>=0.12.1 in /usr/local/lib/python3.10/dist-packages (from pycaret) (0.14.0)\n",
            "Requirement already satisfied: sktime!=0.17.1,!=0.17.2,!=0.18.0,<0.22.0,>=0.16.1 in /usr/local/lib/python3.10/dist-packages (from pycaret) (0.21.1)\n",
            "Requirement already satisfied: tbats>=1.1.3 in /usr/local/lib/python3.10/dist-packages (from pycaret) (1.1.3)\n",
            "Requirement already satisfied: pmdarima!=1.8.1,<3.0.0,>=1.8.0 in /usr/local/lib/python3.10/dist-packages (from pycaret) (2.0.3)\n",
            "Requirement already satisfied: wurlitzer in /usr/local/lib/python3.10/dist-packages (from pycaret) (3.0.3)\n",
            "Requirement already satisfied: patsy>=0.5.1 in /usr/local/lib/python3.10/dist-packages (from category-encoders>=2.4.0->pycaret) (0.5.3)\n",
            "Requirement already satisfied: packaging in /usr/local/lib/python3.10/dist-packages (from deprecation>=2.1.0->pycaret) (23.1)\n",
            "Requirement already satisfied: threadpoolctl>=2.0.0 in /usr/local/lib/python3.10/dist-packages (from imbalanced-learn>=0.8.1->pycaret) (3.2.0)\n",
            "Requirement already satisfied: zipp>=0.5 in /usr/local/lib/python3.10/dist-packages (from importlib-metadata>=4.12.0->pycaret) (3.16.2)\n",
            "Requirement already satisfied: setuptools>=18.5 in /usr/local/lib/python3.10/dist-packages (from ipython>=5.5.0->pycaret) (67.7.2)\n",
            "Requirement already satisfied: jedi>=0.16 in /usr/local/lib/python3.10/dist-packages (from ipython>=5.5.0->pycaret) (0.19.0)\n",
            "Requirement already satisfied: decorator in /usr/local/lib/python3.10/dist-packages (from ipython>=5.5.0->pycaret) (4.4.2)\n",
            "Requirement already satisfied: pickleshare in /usr/local/lib/python3.10/dist-packages (from ipython>=5.5.0->pycaret) (0.7.5)\n",
            "Requirement already satisfied: traitlets>=4.2 in /usr/local/lib/python3.10/dist-packages (from ipython>=5.5.0->pycaret) (5.7.1)\n",
            "Requirement already satisfied: prompt-toolkit!=3.0.0,!=3.0.1,<3.1.0,>=2.0.0 in /usr/local/lib/python3.10/dist-packages (from ipython>=5.5.0->pycaret) (3.0.39)\n",
            "Requirement already satisfied: pygments in /usr/local/lib/python3.10/dist-packages (from ipython>=5.5.0->pycaret) (2.16.1)\n",
            "Requirement already satisfied: backcall in /usr/local/lib/python3.10/dist-packages (from ipython>=5.5.0->pycaret) (0.2.0)\n",
            "Requirement already satisfied: matplotlib-inline in /usr/local/lib/python3.10/dist-packages (from ipython>=5.5.0->pycaret) (0.1.6)\n",
            "Requirement already satisfied: pexpect>4.3 in /usr/local/lib/python3.10/dist-packages (from ipython>=5.5.0->pycaret) (4.8.0)\n",
            "Requirement already satisfied: ipykernel>=4.5.1 in /usr/local/lib/python3.10/dist-packages (from ipywidgets>=7.6.5->pycaret) (5.5.6)\n",
            "Requirement already satisfied: ipython-genutils~=0.2.0 in /usr/local/lib/python3.10/dist-packages (from ipywidgets>=7.6.5->pycaret) (0.2.0)\n",
            "Requirement already satisfied: widgetsnbextension~=3.6.0 in /usr/local/lib/python3.10/dist-packages (from ipywidgets>=7.6.5->pycaret) (3.6.5)\n",
            "Requirement already satisfied: jupyterlab-widgets>=1.0.0 in /usr/local/lib/python3.10/dist-packages (from ipywidgets>=7.6.5->pycaret) (3.0.8)\n",
            "Requirement already satisfied: contourpy>=1.0.1 in /usr/local/lib/python3.10/dist-packages (from matplotlib>=3.3.0->pycaret) (1.1.0)\n",
            "Requirement already satisfied: cycler>=0.10 in /usr/local/lib/python3.10/dist-packages (from matplotlib>=3.3.0->pycaret) (0.11.0)\n",
            "Requirement already satisfied: fonttools>=4.22.0 in /usr/local/lib/python3.10/dist-packages (from matplotlib>=3.3.0->pycaret) (4.42.1)\n",
            "Requirement already satisfied: kiwisolver>=1.0.1 in /usr/local/lib/python3.10/dist-packages (from matplotlib>=3.3.0->pycaret) (1.4.5)\n",
            "Requirement already satisfied: pillow>=6.2.0 in /usr/local/lib/python3.10/dist-packages (from matplotlib>=3.3.0->pycaret) (9.4.0)\n",
            "Requirement already satisfied: pyparsing>=2.3.1 in /usr/local/lib/python3.10/dist-packages (from matplotlib>=3.3.0->pycaret) (3.1.1)\n",
            "Requirement already satisfied: python-dateutil>=2.7 in /usr/local/lib/python3.10/dist-packages (from matplotlib>=3.3.0->pycaret) (2.8.2)\n",
            "Requirement already satisfied: fastjsonschema in /usr/local/lib/python3.10/dist-packages (from nbformat>=4.2.0->pycaret) (2.18.0)\n",
            "Requirement already satisfied: jsonschema>=2.6 in /usr/local/lib/python3.10/dist-packages (from nbformat>=4.2.0->pycaret) (4.19.0)\n",
            "Requirement already satisfied: jupyter-core in /usr/local/lib/python3.10/dist-packages (from nbformat>=4.2.0->pycaret) (5.3.1)\n",
            "Requirement already satisfied: llvmlite<0.40,>=0.39.0dev0 in /usr/local/lib/python3.10/dist-packages (from numba>=0.55.0->pycaret) (0.39.1)\n",
            "Requirement already satisfied: pytz>=2020.1 in /usr/local/lib/python3.10/dist-packages (from pandas<2.0.0,>=1.3.0->pycaret) (2023.3.post1)\n",
            "Requirement already satisfied: tenacity>=6.2.0 in /usr/local/lib/python3.10/dist-packages (from plotly>=5.0.0->pycaret) (8.2.3)\n",
            "Requirement already satisfied: dash<3.0.0,>=2.11.0 in /usr/local/lib/python3.10/dist-packages (from plotly-resampler>=0.8.3.1->pycaret) (2.13.0)\n",
            "Requirement already satisfied: orjson<4.0.0,>=3.8.0 in /usr/local/lib/python3.10/dist-packages (from plotly-resampler>=0.8.3.1->pycaret) (3.9.7)\n",
            "Requirement already satisfied: trace-updater>=0.0.8 in /usr/local/lib/python3.10/dist-packages (from plotly-resampler>=0.8.3.1->pycaret) (0.0.9.1)\n",
            "Requirement already satisfied: tsdownsample==0.1.2 in /usr/local/lib/python3.10/dist-packages (from plotly-resampler>=0.8.3.1->pycaret) (0.1.2)\n",
            "Requirement already satisfied: Cython!=0.29.18,!=0.29.31,>=0.29 in /usr/local/lib/python3.10/dist-packages (from pmdarima!=1.8.1,<3.0.0,>=1.8.0->pycaret) (0.29.36)\n",
            "Requirement already satisfied: urllib3 in /usr/local/lib/python3.10/dist-packages (from pmdarima!=1.8.1,<3.0.0,>=1.8.0->pycaret) (1.26.16)\n",
            "Requirement already satisfied: six in /usr/local/lib/python3.10/dist-packages (from pyod>=1.0.8->pycaret) (1.16.0)\n",
            "Requirement already satisfied: charset-normalizer<4,>=2 in /usr/local/lib/python3.10/dist-packages (from requests>=2.27.1->pycaret) (3.2.0)\n",
            "Requirement already satisfied: idna<4,>=2.5 in /usr/local/lib/python3.10/dist-packages (from requests>=2.27.1->pycaret) (3.4)\n",
            "Requirement already satisfied: certifi>=2017.4.17 in /usr/local/lib/python3.10/dist-packages (from requests>=2.27.1->pycaret) (2023.7.22)\n",
            "Requirement already satisfied: deprecated>=1.2.13 in /usr/local/lib/python3.10/dist-packages (from sktime!=0.17.1,!=0.17.2,!=0.18.0,<0.22.0,>=0.16.1->pycaret) (1.2.14)\n",
            "Requirement already satisfied: scikit-base<0.6.0 in /usr/local/lib/python3.10/dist-packages (from sktime!=0.17.1,!=0.17.2,!=0.18.0,<0.22.0,>=0.16.1->pycaret) (0.5.1)\n",
            "Requirement already satisfied: Flask<2.3.0,>=1.0.4 in /usr/local/lib/python3.10/dist-packages (from dash<3.0.0,>=2.11.0->plotly-resampler>=0.8.3.1->pycaret) (2.2.5)\n",
            "Requirement already satisfied: Werkzeug<2.3.0 in /usr/local/lib/python3.10/dist-packages (from dash<3.0.0,>=2.11.0->plotly-resampler>=0.8.3.1->pycaret) (2.2.3)\n",
            "Requirement already satisfied: dash-html-components==2.0.0 in /usr/local/lib/python3.10/dist-packages (from dash<3.0.0,>=2.11.0->plotly-resampler>=0.8.3.1->pycaret) (2.0.0)\n",
            "Requirement already satisfied: dash-core-components==2.0.0 in /usr/local/lib/python3.10/dist-packages (from dash<3.0.0,>=2.11.0->plotly-resampler>=0.8.3.1->pycaret) (2.0.0)\n",
            "Requirement already satisfied: dash-table==5.0.0 in /usr/local/lib/python3.10/dist-packages (from dash<3.0.0,>=2.11.0->plotly-resampler>=0.8.3.1->pycaret) (5.0.0)\n",
            "Requirement already satisfied: typing-extensions>=4.1.1 in /usr/local/lib/python3.10/dist-packages (from dash<3.0.0,>=2.11.0->plotly-resampler>=0.8.3.1->pycaret) (4.5.0)\n",
            "Requirement already satisfied: retrying in /usr/local/lib/python3.10/dist-packages (from dash<3.0.0,>=2.11.0->plotly-resampler>=0.8.3.1->pycaret) (1.3.4)\n",
            "Requirement already satisfied: ansi2html in /usr/local/lib/python3.10/dist-packages (from dash<3.0.0,>=2.11.0->plotly-resampler>=0.8.3.1->pycaret) (1.8.0)\n",
            "Requirement already satisfied: nest-asyncio in /usr/local/lib/python3.10/dist-packages (from dash<3.0.0,>=2.11.0->plotly-resampler>=0.8.3.1->pycaret) (1.5.7)\n",
            "Requirement already satisfied: wrapt<2,>=1.10 in /usr/local/lib/python3.10/dist-packages (from deprecated>=1.2.13->sktime!=0.17.1,!=0.17.2,!=0.18.0,<0.22.0,>=0.16.1->pycaret) (1.15.0)\n",
            "Requirement already satisfied: jupyter-client in /usr/local/lib/python3.10/dist-packages (from ipykernel>=4.5.1->ipywidgets>=7.6.5->pycaret) (6.1.12)\n",
            "Requirement already satisfied: tornado>=4.2 in /usr/local/lib/python3.10/dist-packages (from ipykernel>=4.5.1->ipywidgets>=7.6.5->pycaret) (6.3.2)\n",
            "Requirement already satisfied: parso<0.9.0,>=0.8.3 in /usr/local/lib/python3.10/dist-packages (from jedi>=0.16->ipython>=5.5.0->pycaret) (0.8.3)\n",
            "Requirement already satisfied: attrs>=22.2.0 in /usr/local/lib/python3.10/dist-packages (from jsonschema>=2.6->nbformat>=4.2.0->pycaret) (23.1.0)\n",
            "Requirement already satisfied: jsonschema-specifications>=2023.03.6 in /usr/local/lib/python3.10/dist-packages (from jsonschema>=2.6->nbformat>=4.2.0->pycaret) (2023.7.1)\n",
            "Requirement already satisfied: referencing>=0.28.4 in /usr/local/lib/python3.10/dist-packages (from jsonschema>=2.6->nbformat>=4.2.0->pycaret) (0.30.2)\n",
            "Requirement already satisfied: rpds-py>=0.7.1 in /usr/local/lib/python3.10/dist-packages (from jsonschema>=2.6->nbformat>=4.2.0->pycaret) (0.10.2)\n",
            "Requirement already satisfied: ptyprocess>=0.5 in /usr/local/lib/python3.10/dist-packages (from pexpect>4.3->ipython>=5.5.0->pycaret) (0.7.0)\n",
            "Requirement already satisfied: wcwidth in /usr/local/lib/python3.10/dist-packages (from prompt-toolkit!=3.0.0,!=3.0.1,<3.1.0,>=2.0.0->ipython>=5.5.0->pycaret) (0.2.6)\n",
            "Requirement already satisfied: notebook>=4.4.1 in /usr/local/lib/python3.10/dist-packages (from widgetsnbextension~=3.6.0->ipywidgets>=7.6.5->pycaret) (6.5.5)\n",
            "Requirement already satisfied: platformdirs>=2.5 in /usr/local/lib/python3.10/dist-packages (from jupyter-core->nbformat>=4.2.0->pycaret) (3.10.0)\n",
            "Requirement already satisfied: itsdangerous>=2.0 in /usr/local/lib/python3.10/dist-packages (from Flask<2.3.0,>=1.0.4->dash<3.0.0,>=2.11.0->plotly-resampler>=0.8.3.1->pycaret) (2.1.2)\n",
            "Requirement already satisfied: click>=8.0 in /usr/local/lib/python3.10/dist-packages (from Flask<2.3.0,>=1.0.4->dash<3.0.0,>=2.11.0->plotly-resampler>=0.8.3.1->pycaret) (8.1.7)\n",
            "Requirement already satisfied: pyzmq<25,>=17 in /usr/local/lib/python3.10/dist-packages (from notebook>=4.4.1->widgetsnbextension~=3.6.0->ipywidgets>=7.6.5->pycaret) (23.2.1)\n",
            "Requirement already satisfied: argon2-cffi in /usr/local/lib/python3.10/dist-packages (from notebook>=4.4.1->widgetsnbextension~=3.6.0->ipywidgets>=7.6.5->pycaret) (23.1.0)\n",
            "Requirement already satisfied: nbconvert>=5 in /usr/local/lib/python3.10/dist-packages (from notebook>=4.4.1->widgetsnbextension~=3.6.0->ipywidgets>=7.6.5->pycaret) (6.5.4)\n",
            "Requirement already satisfied: Send2Trash>=1.8.0 in /usr/local/lib/python3.10/dist-packages (from notebook>=4.4.1->widgetsnbextension~=3.6.0->ipywidgets>=7.6.5->pycaret) (1.8.2)\n",
            "Requirement already satisfied: terminado>=0.8.3 in /usr/local/lib/python3.10/dist-packages (from notebook>=4.4.1->widgetsnbextension~=3.6.0->ipywidgets>=7.6.5->pycaret) (0.17.1)\n",
            "Requirement already satisfied: prometheus-client in /usr/local/lib/python3.10/dist-packages (from notebook>=4.4.1->widgetsnbextension~=3.6.0->ipywidgets>=7.6.5->pycaret) (0.17.1)\n",
            "Requirement already satisfied: nbclassic>=0.4.7 in /usr/local/lib/python3.10/dist-packages (from notebook>=4.4.1->widgetsnbextension~=3.6.0->ipywidgets>=7.6.5->pycaret) (1.0.0)\n",
            "Requirement already satisfied: jupyter-server>=1.8 in /usr/local/lib/python3.10/dist-packages (from nbclassic>=0.4.7->notebook>=4.4.1->widgetsnbextension~=3.6.0->ipywidgets>=7.6.5->pycaret) (1.24.0)\n",
            "Requirement already satisfied: notebook-shim>=0.2.3 in /usr/local/lib/python3.10/dist-packages (from nbclassic>=0.4.7->notebook>=4.4.1->widgetsnbextension~=3.6.0->ipywidgets>=7.6.5->pycaret) (0.2.3)\n",
            "Requirement already satisfied: lxml in /usr/local/lib/python3.10/dist-packages (from nbconvert>=5->notebook>=4.4.1->widgetsnbextension~=3.6.0->ipywidgets>=7.6.5->pycaret) (4.9.3)\n",
            "Requirement already satisfied: beautifulsoup4 in /usr/local/lib/python3.10/dist-packages (from nbconvert>=5->notebook>=4.4.1->widgetsnbextension~=3.6.0->ipywidgets>=7.6.5->pycaret) (4.11.2)\n",
            "Requirement already satisfied: bleach in /usr/local/lib/python3.10/dist-packages (from nbconvert>=5->notebook>=4.4.1->widgetsnbextension~=3.6.0->ipywidgets>=7.6.5->pycaret) (6.0.0)\n",
            "Requirement already satisfied: defusedxml in /usr/local/lib/python3.10/dist-packages (from nbconvert>=5->notebook>=4.4.1->widgetsnbextension~=3.6.0->ipywidgets>=7.6.5->pycaret) (0.7.1)\n",
            "Requirement already satisfied: entrypoints>=0.2.2 in /usr/local/lib/python3.10/dist-packages (from nbconvert>=5->notebook>=4.4.1->widgetsnbextension~=3.6.0->ipywidgets>=7.6.5->pycaret) (0.4)\n",
            "Requirement already satisfied: jupyterlab-pygments in /usr/local/lib/python3.10/dist-packages (from nbconvert>=5->notebook>=4.4.1->widgetsnbextension~=3.6.0->ipywidgets>=7.6.5->pycaret) (0.2.2)\n",
            "Requirement already satisfied: mistune<2,>=0.8.1 in /usr/local/lib/python3.10/dist-packages (from nbconvert>=5->notebook>=4.4.1->widgetsnbextension~=3.6.0->ipywidgets>=7.6.5->pycaret) (0.8.4)\n",
            "Requirement already satisfied: nbclient>=0.5.0 in /usr/local/lib/python3.10/dist-packages (from nbconvert>=5->notebook>=4.4.1->widgetsnbextension~=3.6.0->ipywidgets>=7.6.5->pycaret) (0.8.0)\n",
            "Requirement already satisfied: pandocfilters>=1.4.1 in /usr/local/lib/python3.10/dist-packages (from nbconvert>=5->notebook>=4.4.1->widgetsnbextension~=3.6.0->ipywidgets>=7.6.5->pycaret) (1.5.0)\n",
            "Requirement already satisfied: tinycss2 in /usr/local/lib/python3.10/dist-packages (from nbconvert>=5->notebook>=4.4.1->widgetsnbextension~=3.6.0->ipywidgets>=7.6.5->pycaret) (1.2.1)\n",
            "Requirement already satisfied: argon2-cffi-bindings in /usr/local/lib/python3.10/dist-packages (from argon2-cffi->notebook>=4.4.1->widgetsnbextension~=3.6.0->ipywidgets>=7.6.5->pycaret) (21.2.0)\n",
            "Requirement already satisfied: anyio<4,>=3.1.0 in /usr/local/lib/python3.10/dist-packages (from jupyter-server>=1.8->nbclassic>=0.4.7->notebook>=4.4.1->widgetsnbextension~=3.6.0->ipywidgets>=7.6.5->pycaret) (3.7.1)\n",
            "Requirement already satisfied: websocket-client in /usr/local/lib/python3.10/dist-packages (from jupyter-server>=1.8->nbclassic>=0.4.7->notebook>=4.4.1->widgetsnbextension~=3.6.0->ipywidgets>=7.6.5->pycaret) (1.6.2)\n",
            "Requirement already satisfied: cffi>=1.0.1 in /usr/local/lib/python3.10/dist-packages (from argon2-cffi-bindings->argon2-cffi->notebook>=4.4.1->widgetsnbextension~=3.6.0->ipywidgets>=7.6.5->pycaret) (1.15.1)\n",
            "Requirement already satisfied: soupsieve>1.2 in /usr/local/lib/python3.10/dist-packages (from beautifulsoup4->nbconvert>=5->notebook>=4.4.1->widgetsnbextension~=3.6.0->ipywidgets>=7.6.5->pycaret) (2.5)\n",
            "Requirement already satisfied: webencodings in /usr/local/lib/python3.10/dist-packages (from bleach->nbconvert>=5->notebook>=4.4.1->widgetsnbextension~=3.6.0->ipywidgets>=7.6.5->pycaret) (0.5.1)\n",
            "Requirement already satisfied: sniffio>=1.1 in /usr/local/lib/python3.10/dist-packages (from anyio<4,>=3.1.0->jupyter-server>=1.8->nbclassic>=0.4.7->notebook>=4.4.1->widgetsnbextension~=3.6.0->ipywidgets>=7.6.5->pycaret) (1.3.0)\n",
            "Requirement already satisfied: exceptiongroup in /usr/local/lib/python3.10/dist-packages (from anyio<4,>=3.1.0->jupyter-server>=1.8->nbclassic>=0.4.7->notebook>=4.4.1->widgetsnbextension~=3.6.0->ipywidgets>=7.6.5->pycaret) (1.1.3)\n",
            "Requirement already satisfied: pycparser in /usr/local/lib/python3.10/dist-packages (from cffi>=1.0.1->argon2-cffi-bindings->argon2-cffi->notebook>=4.4.1->widgetsnbextension~=3.6.0->ipywidgets>=7.6.5->pycaret) (2.21)\n"
          ]
        }
      ]
    },
    {
      "cell_type": "code",
      "source": [
        "import pandas as pd\n",
        "\n",
        "# Load the dataset\n",
        "migraine_data = pd.read_csv('/content/drive/MyDrive/SJSU/Sem1/CMPE255 - Data Mining/Assignment 2.2/dataset4.csv')\n",
        "migraine_data.head()\n"
      ],
      "metadata": {
        "colab": {
          "base_uri": "https://localhost:8080/",
          "height": 515
        },
        "id": "O65GXIKE7IRs",
        "outputId": "65412d0f-d69f-40df-c270-e6a344af291c"
      },
      "execution_count": null,
      "outputs": [
        {
          "output_type": "execute_result",
          "data": {
            "text/plain": [
              "   Age  Duration  Frequency  Location  Character  Intensity  Nausea  Vomit  \\\n",
              "0   30         1          5         1          1          2       1      0   \n",
              "1   50         3          5         1          1          3       1      1   \n",
              "2   53         2          1         1          1          2       1      1   \n",
              "3   45         3          5         1          1          3       1      0   \n",
              "4   53         1          1         1          1          2       1      0   \n",
              "\n",
              "   Phonophobia  Photophobia  ...  Vertigo  Tinnitus  Hypoacusis  Diplopia  \\\n",
              "0            1            1  ...        0         0           0         0   \n",
              "1            1            1  ...        1         0           0         0   \n",
              "2            1            1  ...        0         0           0         0   \n",
              "3            1            1  ...        1         0           0         0   \n",
              "4            1            1  ...        0         0           0         0   \n",
              "\n",
              "   Defect  Ataxia  Conscience  Paresthesia  DPF                        Type  \n",
              "0       0       0           0            0    0  Typical aura with migraine  \n",
              "1       0       0           0            0    0  Typical aura with migraine  \n",
              "2       0       0           0            0    0  Typical aura with migraine  \n",
              "3       0       0           0            0    0  Typical aura with migraine  \n",
              "4       0       0           0            0    1  Typical aura with migraine  \n",
              "\n",
              "[5 rows x 24 columns]"
            ],
            "text/html": [
              "\n",
              "  <div id=\"df-a15397f0-a570-4b63-bb91-339a2f7e1100\" class=\"colab-df-container\">\n",
              "    <div>\n",
              "<style scoped>\n",
              "    .dataframe tbody tr th:only-of-type {\n",
              "        vertical-align: middle;\n",
              "    }\n",
              "\n",
              "    .dataframe tbody tr th {\n",
              "        vertical-align: top;\n",
              "    }\n",
              "\n",
              "    .dataframe thead th {\n",
              "        text-align: right;\n",
              "    }\n",
              "</style>\n",
              "<table border=\"1\" class=\"dataframe\">\n",
              "  <thead>\n",
              "    <tr style=\"text-align: right;\">\n",
              "      <th></th>\n",
              "      <th>Age</th>\n",
              "      <th>Duration</th>\n",
              "      <th>Frequency</th>\n",
              "      <th>Location</th>\n",
              "      <th>Character</th>\n",
              "      <th>Intensity</th>\n",
              "      <th>Nausea</th>\n",
              "      <th>Vomit</th>\n",
              "      <th>Phonophobia</th>\n",
              "      <th>Photophobia</th>\n",
              "      <th>...</th>\n",
              "      <th>Vertigo</th>\n",
              "      <th>Tinnitus</th>\n",
              "      <th>Hypoacusis</th>\n",
              "      <th>Diplopia</th>\n",
              "      <th>Defect</th>\n",
              "      <th>Ataxia</th>\n",
              "      <th>Conscience</th>\n",
              "      <th>Paresthesia</th>\n",
              "      <th>DPF</th>\n",
              "      <th>Type</th>\n",
              "    </tr>\n",
              "  </thead>\n",
              "  <tbody>\n",
              "    <tr>\n",
              "      <th>0</th>\n",
              "      <td>30</td>\n",
              "      <td>1</td>\n",
              "      <td>5</td>\n",
              "      <td>1</td>\n",
              "      <td>1</td>\n",
              "      <td>2</td>\n",
              "      <td>1</td>\n",
              "      <td>0</td>\n",
              "      <td>1</td>\n",
              "      <td>1</td>\n",
              "      <td>...</td>\n",
              "      <td>0</td>\n",
              "      <td>0</td>\n",
              "      <td>0</td>\n",
              "      <td>0</td>\n",
              "      <td>0</td>\n",
              "      <td>0</td>\n",
              "      <td>0</td>\n",
              "      <td>0</td>\n",
              "      <td>0</td>\n",
              "      <td>Typical aura with migraine</td>\n",
              "    </tr>\n",
              "    <tr>\n",
              "      <th>1</th>\n",
              "      <td>50</td>\n",
              "      <td>3</td>\n",
              "      <td>5</td>\n",
              "      <td>1</td>\n",
              "      <td>1</td>\n",
              "      <td>3</td>\n",
              "      <td>1</td>\n",
              "      <td>1</td>\n",
              "      <td>1</td>\n",
              "      <td>1</td>\n",
              "      <td>...</td>\n",
              "      <td>1</td>\n",
              "      <td>0</td>\n",
              "      <td>0</td>\n",
              "      <td>0</td>\n",
              "      <td>0</td>\n",
              "      <td>0</td>\n",
              "      <td>0</td>\n",
              "      <td>0</td>\n",
              "      <td>0</td>\n",
              "      <td>Typical aura with migraine</td>\n",
              "    </tr>\n",
              "    <tr>\n",
              "      <th>2</th>\n",
              "      <td>53</td>\n",
              "      <td>2</td>\n",
              "      <td>1</td>\n",
              "      <td>1</td>\n",
              "      <td>1</td>\n",
              "      <td>2</td>\n",
              "      <td>1</td>\n",
              "      <td>1</td>\n",
              "      <td>1</td>\n",
              "      <td>1</td>\n",
              "      <td>...</td>\n",
              "      <td>0</td>\n",
              "      <td>0</td>\n",
              "      <td>0</td>\n",
              "      <td>0</td>\n",
              "      <td>0</td>\n",
              "      <td>0</td>\n",
              "      <td>0</td>\n",
              "      <td>0</td>\n",
              "      <td>0</td>\n",
              "      <td>Typical aura with migraine</td>\n",
              "    </tr>\n",
              "    <tr>\n",
              "      <th>3</th>\n",
              "      <td>45</td>\n",
              "      <td>3</td>\n",
              "      <td>5</td>\n",
              "      <td>1</td>\n",
              "      <td>1</td>\n",
              "      <td>3</td>\n",
              "      <td>1</td>\n",
              "      <td>0</td>\n",
              "      <td>1</td>\n",
              "      <td>1</td>\n",
              "      <td>...</td>\n",
              "      <td>1</td>\n",
              "      <td>0</td>\n",
              "      <td>0</td>\n",
              "      <td>0</td>\n",
              "      <td>0</td>\n",
              "      <td>0</td>\n",
              "      <td>0</td>\n",
              "      <td>0</td>\n",
              "      <td>0</td>\n",
              "      <td>Typical aura with migraine</td>\n",
              "    </tr>\n",
              "    <tr>\n",
              "      <th>4</th>\n",
              "      <td>53</td>\n",
              "      <td>1</td>\n",
              "      <td>1</td>\n",
              "      <td>1</td>\n",
              "      <td>1</td>\n",
              "      <td>2</td>\n",
              "      <td>1</td>\n",
              "      <td>0</td>\n",
              "      <td>1</td>\n",
              "      <td>1</td>\n",
              "      <td>...</td>\n",
              "      <td>0</td>\n",
              "      <td>0</td>\n",
              "      <td>0</td>\n",
              "      <td>0</td>\n",
              "      <td>0</td>\n",
              "      <td>0</td>\n",
              "      <td>0</td>\n",
              "      <td>0</td>\n",
              "      <td>1</td>\n",
              "      <td>Typical aura with migraine</td>\n",
              "    </tr>\n",
              "  </tbody>\n",
              "</table>\n",
              "<p>5 rows × 24 columns</p>\n",
              "</div>\n",
              "    <div class=\"colab-df-buttons\">\n",
              "\n",
              "  <div class=\"colab-df-container\">\n",
              "    <button class=\"colab-df-convert\" onclick=\"convertToInteractive('df-a15397f0-a570-4b63-bb91-339a2f7e1100')\"\n",
              "            title=\"Convert this dataframe to an interactive table.\"\n",
              "            style=\"display:none;\">\n",
              "\n",
              "  <svg xmlns=\"http://www.w3.org/2000/svg\" height=\"24px\" viewBox=\"0 -960 960 960\">\n",
              "    <path d=\"M120-120v-720h720v720H120Zm60-500h600v-160H180v160Zm220 220h160v-160H400v160Zm0 220h160v-160H400v160ZM180-400h160v-160H180v160Zm440 0h160v-160H620v160ZM180-180h160v-160H180v160Zm440 0h160v-160H620v160Z\"/>\n",
              "  </svg>\n",
              "    </button>\n",
              "\n",
              "  <style>\n",
              "    .colab-df-container {\n",
              "      display:flex;\n",
              "      gap: 12px;\n",
              "    }\n",
              "\n",
              "    .colab-df-convert {\n",
              "      background-color: #E8F0FE;\n",
              "      border: none;\n",
              "      border-radius: 50%;\n",
              "      cursor: pointer;\n",
              "      display: none;\n",
              "      fill: #1967D2;\n",
              "      height: 32px;\n",
              "      padding: 0 0 0 0;\n",
              "      width: 32px;\n",
              "    }\n",
              "\n",
              "    .colab-df-convert:hover {\n",
              "      background-color: #E2EBFA;\n",
              "      box-shadow: 0px 1px 2px rgba(60, 64, 67, 0.3), 0px 1px 3px 1px rgba(60, 64, 67, 0.15);\n",
              "      fill: #174EA6;\n",
              "    }\n",
              "\n",
              "    .colab-df-buttons div {\n",
              "      margin-bottom: 4px;\n",
              "    }\n",
              "\n",
              "    [theme=dark] .colab-df-convert {\n",
              "      background-color: #3B4455;\n",
              "      fill: #D2E3FC;\n",
              "    }\n",
              "\n",
              "    [theme=dark] .colab-df-convert:hover {\n",
              "      background-color: #434B5C;\n",
              "      box-shadow: 0px 1px 3px 1px rgba(0, 0, 0, 0.15);\n",
              "      filter: drop-shadow(0px 1px 2px rgba(0, 0, 0, 0.3));\n",
              "      fill: #FFFFFF;\n",
              "    }\n",
              "  </style>\n",
              "\n",
              "    <script>\n",
              "      const buttonEl =\n",
              "        document.querySelector('#df-a15397f0-a570-4b63-bb91-339a2f7e1100 button.colab-df-convert');\n",
              "      buttonEl.style.display =\n",
              "        google.colab.kernel.accessAllowed ? 'block' : 'none';\n",
              "\n",
              "      async function convertToInteractive(key) {\n",
              "        const element = document.querySelector('#df-a15397f0-a570-4b63-bb91-339a2f7e1100');\n",
              "        const dataTable =\n",
              "          await google.colab.kernel.invokeFunction('convertToInteractive',\n",
              "                                                    [key], {});\n",
              "        if (!dataTable) return;\n",
              "\n",
              "        const docLinkHtml = 'Like what you see? Visit the ' +\n",
              "          '<a target=\"_blank\" href=https://colab.research.google.com/notebooks/data_table.ipynb>data table notebook</a>'\n",
              "          + ' to learn more about interactive tables.';\n",
              "        element.innerHTML = '';\n",
              "        dataTable['output_type'] = 'display_data';\n",
              "        await google.colab.output.renderOutput(dataTable, element);\n",
              "        const docLink = document.createElement('div');\n",
              "        docLink.innerHTML = docLinkHtml;\n",
              "        element.appendChild(docLink);\n",
              "      }\n",
              "    </script>\n",
              "  </div>\n",
              "\n",
              "\n",
              "<div id=\"df-7e905c9d-633a-4dad-a98e-7b99837c9497\">\n",
              "  <button class=\"colab-df-quickchart\" onclick=\"quickchart('df-7e905c9d-633a-4dad-a98e-7b99837c9497')\"\n",
              "            title=\"Suggest charts.\"\n",
              "            style=\"display:none;\">\n",
              "\n",
              "<svg xmlns=\"http://www.w3.org/2000/svg\" height=\"24px\"viewBox=\"0 0 24 24\"\n",
              "     width=\"24px\">\n",
              "    <g>\n",
              "        <path d=\"M19 3H5c-1.1 0-2 .9-2 2v14c0 1.1.9 2 2 2h14c1.1 0 2-.9 2-2V5c0-1.1-.9-2-2-2zM9 17H7v-7h2v7zm4 0h-2V7h2v10zm4 0h-2v-4h2v4z\"/>\n",
              "    </g>\n",
              "</svg>\n",
              "  </button>\n",
              "\n",
              "<style>\n",
              "  .colab-df-quickchart {\n",
              "      --bg-color: #E8F0FE;\n",
              "      --fill-color: #1967D2;\n",
              "      --hover-bg-color: #E2EBFA;\n",
              "      --hover-fill-color: #174EA6;\n",
              "      --disabled-fill-color: #AAA;\n",
              "      --disabled-bg-color: #DDD;\n",
              "  }\n",
              "\n",
              "  [theme=dark] .colab-df-quickchart {\n",
              "      --bg-color: #3B4455;\n",
              "      --fill-color: #D2E3FC;\n",
              "      --hover-bg-color: #434B5C;\n",
              "      --hover-fill-color: #FFFFFF;\n",
              "      --disabled-bg-color: #3B4455;\n",
              "      --disabled-fill-color: #666;\n",
              "  }\n",
              "\n",
              "  .colab-df-quickchart {\n",
              "    background-color: var(--bg-color);\n",
              "    border: none;\n",
              "    border-radius: 50%;\n",
              "    cursor: pointer;\n",
              "    display: none;\n",
              "    fill: var(--fill-color);\n",
              "    height: 32px;\n",
              "    padding: 0;\n",
              "    width: 32px;\n",
              "  }\n",
              "\n",
              "  .colab-df-quickchart:hover {\n",
              "    background-color: var(--hover-bg-color);\n",
              "    box-shadow: 0 1px 2px rgba(60, 64, 67, 0.3), 0 1px 3px 1px rgba(60, 64, 67, 0.15);\n",
              "    fill: var(--button-hover-fill-color);\n",
              "  }\n",
              "\n",
              "  .colab-df-quickchart-complete:disabled,\n",
              "  .colab-df-quickchart-complete:disabled:hover {\n",
              "    background-color: var(--disabled-bg-color);\n",
              "    fill: var(--disabled-fill-color);\n",
              "    box-shadow: none;\n",
              "  }\n",
              "\n",
              "  .colab-df-spinner {\n",
              "    border: 2px solid var(--fill-color);\n",
              "    border-color: transparent;\n",
              "    border-bottom-color: var(--fill-color);\n",
              "    animation:\n",
              "      spin 1s steps(1) infinite;\n",
              "  }\n",
              "\n",
              "  @keyframes spin {\n",
              "    0% {\n",
              "      border-color: transparent;\n",
              "      border-bottom-color: var(--fill-color);\n",
              "      border-left-color: var(--fill-color);\n",
              "    }\n",
              "    20% {\n",
              "      border-color: transparent;\n",
              "      border-left-color: var(--fill-color);\n",
              "      border-top-color: var(--fill-color);\n",
              "    }\n",
              "    30% {\n",
              "      border-color: transparent;\n",
              "      border-left-color: var(--fill-color);\n",
              "      border-top-color: var(--fill-color);\n",
              "      border-right-color: var(--fill-color);\n",
              "    }\n",
              "    40% {\n",
              "      border-color: transparent;\n",
              "      border-right-color: var(--fill-color);\n",
              "      border-top-color: var(--fill-color);\n",
              "    }\n",
              "    60% {\n",
              "      border-color: transparent;\n",
              "      border-right-color: var(--fill-color);\n",
              "    }\n",
              "    80% {\n",
              "      border-color: transparent;\n",
              "      border-right-color: var(--fill-color);\n",
              "      border-bottom-color: var(--fill-color);\n",
              "    }\n",
              "    90% {\n",
              "      border-color: transparent;\n",
              "      border-bottom-color: var(--fill-color);\n",
              "    }\n",
              "  }\n",
              "</style>\n",
              "\n",
              "  <script>\n",
              "    async function quickchart(key) {\n",
              "      const quickchartButtonEl =\n",
              "        document.querySelector('#' + key + ' button');\n",
              "      quickchartButtonEl.disabled = true;  // To prevent multiple clicks.\n",
              "      quickchartButtonEl.classList.add('colab-df-spinner');\n",
              "      try {\n",
              "        const charts = await google.colab.kernel.invokeFunction(\n",
              "            'suggestCharts', [key], {});\n",
              "      } catch (error) {\n",
              "        console.error('Error during call to suggestCharts:', error);\n",
              "      }\n",
              "      quickchartButtonEl.classList.remove('colab-df-spinner');\n",
              "      quickchartButtonEl.classList.add('colab-df-quickchart-complete');\n",
              "    }\n",
              "    (() => {\n",
              "      let quickchartButtonEl =\n",
              "        document.querySelector('#df-7e905c9d-633a-4dad-a98e-7b99837c9497 button');\n",
              "      quickchartButtonEl.style.display =\n",
              "        google.colab.kernel.accessAllowed ? 'block' : 'none';\n",
              "    })();\n",
              "  </script>\n",
              "</div>\n",
              "    </div>\n",
              "  </div>\n"
            ]
          },
          "metadata": {},
          "execution_count": 78
        }
      ]
    },
    {
      "cell_type": "code",
      "source": [
        "from pycaret.arules import *\n",
        "\n",
        "s = setup(data, 'Age', item_id='Type')"
      ],
      "metadata": {
        "colab": {
          "base_uri": "https://localhost:8080/",
          "height": 174
        },
        "id": "g3bXakHU8njT",
        "outputId": "9ecb2d30-ddbe-44ae-b6d0-2c69cc34ff18"
      },
      "execution_count": null,
      "outputs": [
        {
          "output_type": "display_data",
          "data": {
            "text/plain": [
              "<pandas.io.formats.style.Styler at 0x7c3724da32e0>"
            ],
            "text/html": [
              "<style type=\"text/css\">\n",
              "</style>\n",
              "<table id=\"T_b2ac9\" class=\"dataframe\">\n",
              "  <thead>\n",
              "    <tr>\n",
              "      <th id=\"T_b2ac9_level0_col0\" class=\"col_heading level0 col0\" >Description</th>\n",
              "      <th id=\"T_b2ac9_level0_col1\" class=\"col_heading level0 col1\" >Value</th>\n",
              "    </tr>\n",
              "  </thead>\n",
              "  <tbody>\n",
              "    <tr>\n",
              "      <td id=\"T_b2ac9_row0_col0\" class=\"data row0 col0\" >session_id</td>\n",
              "      <td id=\"T_b2ac9_row0_col1\" class=\"data row0 col1\" >217</td>\n",
              "    </tr>\n",
              "    <tr>\n",
              "      <td id=\"T_b2ac9_row1_col0\" class=\"data row1 col0\" ># Transactions</td>\n",
              "      <td id=\"T_b2ac9_row1_col1\" class=\"data row1 col1\" >51</td>\n",
              "    </tr>\n",
              "    <tr>\n",
              "      <td id=\"T_b2ac9_row2_col0\" class=\"data row2 col0\" ># Items</td>\n",
              "      <td id=\"T_b2ac9_row2_col1\" class=\"data row2 col1\" >7</td>\n",
              "    </tr>\n",
              "    <tr>\n",
              "      <td id=\"T_b2ac9_row3_col0\" class=\"data row3 col0\" >Ignore Items</td>\n",
              "      <td id=\"T_b2ac9_row3_col1\" class=\"data row3 col1\" >None</td>\n",
              "    </tr>\n",
              "  </tbody>\n",
              "</table>\n"
            ]
          },
          "metadata": {}
        }
      ]
    },
    {
      "cell_type": "code",
      "source": [
        "model1 = create_model()\n",
        "model1"
      ],
      "metadata": {
        "colab": {
          "base_uri": "https://localhost:8080/",
          "height": 614
        },
        "id": "uQhE4Wym9dLC",
        "outputId": "484a6123-3540-426f-f88d-a0c0c5ab70f6"
      },
      "execution_count": null,
      "outputs": [
        {
          "output_type": "execute_result",
          "data": {
            "text/plain": [
              "                                           antecedents  \\\n",
              "0    (Familial hemiplegic migraine, Other, Sporadic...   \n",
              "1    (Familial hemiplegic migraine, Other, Sporadic...   \n",
              "2               (Other, Typical aura without migraine)   \n",
              "3    (Sporadic hemiplegic migraine, Typical aura wi...   \n",
              "4    (Familial hemiplegic migraine, Basilar-type au...   \n",
              "..                                                 ...   \n",
              "514  (Other, Basilar-type aura, Migraine without aura)   \n",
              "515  (Familial hemiplegic migraine, Sporadic hemipl...   \n",
              "516  (Familial hemiplegic migraine, Sporadic hemipl...   \n",
              "517  (Familial hemiplegic migraine, Sporadic hemipl...   \n",
              "518  (Migraine without aura, Sporadic hemiplegic mi...   \n",
              "\n",
              "                                           consequents  antecedent support  \\\n",
              "0                      (Typical aura without migraine)              0.0588   \n",
              "1                                  (Basilar-type aura)              0.0588   \n",
              "2                         (Typical aura with migraine)              0.0980   \n",
              "3                         (Typical aura with migraine)              0.1373   \n",
              "4                         (Typical aura with migraine)              0.0588   \n",
              "..                                                 ...                 ...   \n",
              "514                    (Typical aura without migraine)              0.1176   \n",
              "515                (Other, Typical aura with migraine)              0.1176   \n",
              "516             (Other, Typical aura without migraine)              0.1176   \n",
              "517  (Other, Basilar-type aura, Typical aura withou...              0.1176   \n",
              "518                                            (Other)              0.1176   \n",
              "\n",
              "     consequent support  support  confidence    lift  leverage  conviction  \\\n",
              "0                0.2941   0.0588         1.0  3.4000    0.0415         inf   \n",
              "1                0.2549   0.0588         1.0  3.9231    0.0438         inf   \n",
              "2                0.9412   0.0980         1.0  1.0625    0.0058         inf   \n",
              "3                0.9412   0.1373         1.0  1.0625    0.0081         inf   \n",
              "4                0.9412   0.0588         1.0  1.0625    0.0035         inf   \n",
              "..                  ...      ...         ...     ...       ...         ...   \n",
              "514              0.2941   0.0588         0.5  1.7000    0.0242      1.4118   \n",
              "515              0.2549   0.0588         0.5  1.9615    0.0288      1.4902   \n",
              "516              0.0980   0.0588         0.5  5.1000    0.0473      1.8039   \n",
              "517              0.0784   0.0588         0.5  6.3750    0.0496      1.8431   \n",
              "518              0.2549   0.0588         0.5  1.9615    0.0288      1.4902   \n",
              "\n",
              "     zhangs_metric  \n",
              "0           0.7500  \n",
              "1           0.7917  \n",
              "2           0.0652  \n",
              "3           0.0682  \n",
              "4           0.0625  \n",
              "..             ...  \n",
              "514         0.4667  \n",
              "515         0.5556  \n",
              "516         0.9111  \n",
              "517         0.9556  \n",
              "518         0.5556  \n",
              "\n",
              "[519 rows x 10 columns]"
            ],
            "text/html": [
              "\n",
              "  <div id=\"df-bdb133d7-1253-42c5-8284-b2d9af75c44b\" class=\"colab-df-container\">\n",
              "    <div>\n",
              "<style scoped>\n",
              "    .dataframe tbody tr th:only-of-type {\n",
              "        vertical-align: middle;\n",
              "    }\n",
              "\n",
              "    .dataframe tbody tr th {\n",
              "        vertical-align: top;\n",
              "    }\n",
              "\n",
              "    .dataframe thead th {\n",
              "        text-align: right;\n",
              "    }\n",
              "</style>\n",
              "<table border=\"1\" class=\"dataframe\">\n",
              "  <thead>\n",
              "    <tr style=\"text-align: right;\">\n",
              "      <th></th>\n",
              "      <th>antecedents</th>\n",
              "      <th>consequents</th>\n",
              "      <th>antecedent support</th>\n",
              "      <th>consequent support</th>\n",
              "      <th>support</th>\n",
              "      <th>confidence</th>\n",
              "      <th>lift</th>\n",
              "      <th>leverage</th>\n",
              "      <th>conviction</th>\n",
              "      <th>zhangs_metric</th>\n",
              "    </tr>\n",
              "  </thead>\n",
              "  <tbody>\n",
              "    <tr>\n",
              "      <th>0</th>\n",
              "      <td>(Familial hemiplegic migraine, Other, Sporadic...</td>\n",
              "      <td>(Typical aura without migraine)</td>\n",
              "      <td>0.0588</td>\n",
              "      <td>0.2941</td>\n",
              "      <td>0.0588</td>\n",
              "      <td>1.0</td>\n",
              "      <td>3.4000</td>\n",
              "      <td>0.0415</td>\n",
              "      <td>inf</td>\n",
              "      <td>0.7500</td>\n",
              "    </tr>\n",
              "    <tr>\n",
              "      <th>1</th>\n",
              "      <td>(Familial hemiplegic migraine, Other, Sporadic...</td>\n",
              "      <td>(Basilar-type aura)</td>\n",
              "      <td>0.0588</td>\n",
              "      <td>0.2549</td>\n",
              "      <td>0.0588</td>\n",
              "      <td>1.0</td>\n",
              "      <td>3.9231</td>\n",
              "      <td>0.0438</td>\n",
              "      <td>inf</td>\n",
              "      <td>0.7917</td>\n",
              "    </tr>\n",
              "    <tr>\n",
              "      <th>2</th>\n",
              "      <td>(Other, Typical aura without migraine)</td>\n",
              "      <td>(Typical aura with migraine)</td>\n",
              "      <td>0.0980</td>\n",
              "      <td>0.9412</td>\n",
              "      <td>0.0980</td>\n",
              "      <td>1.0</td>\n",
              "      <td>1.0625</td>\n",
              "      <td>0.0058</td>\n",
              "      <td>inf</td>\n",
              "      <td>0.0652</td>\n",
              "    </tr>\n",
              "    <tr>\n",
              "      <th>3</th>\n",
              "      <td>(Sporadic hemiplegic migraine, Typical aura wi...</td>\n",
              "      <td>(Typical aura with migraine)</td>\n",
              "      <td>0.1373</td>\n",
              "      <td>0.9412</td>\n",
              "      <td>0.1373</td>\n",
              "      <td>1.0</td>\n",
              "      <td>1.0625</td>\n",
              "      <td>0.0081</td>\n",
              "      <td>inf</td>\n",
              "      <td>0.0682</td>\n",
              "    </tr>\n",
              "    <tr>\n",
              "      <th>4</th>\n",
              "      <td>(Familial hemiplegic migraine, Basilar-type au...</td>\n",
              "      <td>(Typical aura with migraine)</td>\n",
              "      <td>0.0588</td>\n",
              "      <td>0.9412</td>\n",
              "      <td>0.0588</td>\n",
              "      <td>1.0</td>\n",
              "      <td>1.0625</td>\n",
              "      <td>0.0035</td>\n",
              "      <td>inf</td>\n",
              "      <td>0.0625</td>\n",
              "    </tr>\n",
              "    <tr>\n",
              "      <th>...</th>\n",
              "      <td>...</td>\n",
              "      <td>...</td>\n",
              "      <td>...</td>\n",
              "      <td>...</td>\n",
              "      <td>...</td>\n",
              "      <td>...</td>\n",
              "      <td>...</td>\n",
              "      <td>...</td>\n",
              "      <td>...</td>\n",
              "      <td>...</td>\n",
              "    </tr>\n",
              "    <tr>\n",
              "      <th>514</th>\n",
              "      <td>(Other, Basilar-type aura, Migraine without aura)</td>\n",
              "      <td>(Typical aura without migraine)</td>\n",
              "      <td>0.1176</td>\n",
              "      <td>0.2941</td>\n",
              "      <td>0.0588</td>\n",
              "      <td>0.5</td>\n",
              "      <td>1.7000</td>\n",
              "      <td>0.0242</td>\n",
              "      <td>1.4118</td>\n",
              "      <td>0.4667</td>\n",
              "    </tr>\n",
              "    <tr>\n",
              "      <th>515</th>\n",
              "      <td>(Familial hemiplegic migraine, Sporadic hemipl...</td>\n",
              "      <td>(Other, Typical aura with migraine)</td>\n",
              "      <td>0.1176</td>\n",
              "      <td>0.2549</td>\n",
              "      <td>0.0588</td>\n",
              "      <td>0.5</td>\n",
              "      <td>1.9615</td>\n",
              "      <td>0.0288</td>\n",
              "      <td>1.4902</td>\n",
              "      <td>0.5556</td>\n",
              "    </tr>\n",
              "    <tr>\n",
              "      <th>516</th>\n",
              "      <td>(Familial hemiplegic migraine, Sporadic hemipl...</td>\n",
              "      <td>(Other, Typical aura without migraine)</td>\n",
              "      <td>0.1176</td>\n",
              "      <td>0.0980</td>\n",
              "      <td>0.0588</td>\n",
              "      <td>0.5</td>\n",
              "      <td>5.1000</td>\n",
              "      <td>0.0473</td>\n",
              "      <td>1.8039</td>\n",
              "      <td>0.9111</td>\n",
              "    </tr>\n",
              "    <tr>\n",
              "      <th>517</th>\n",
              "      <td>(Familial hemiplegic migraine, Sporadic hemipl...</td>\n",
              "      <td>(Other, Basilar-type aura, Typical aura withou...</td>\n",
              "      <td>0.1176</td>\n",
              "      <td>0.0784</td>\n",
              "      <td>0.0588</td>\n",
              "      <td>0.5</td>\n",
              "      <td>6.3750</td>\n",
              "      <td>0.0496</td>\n",
              "      <td>1.8431</td>\n",
              "      <td>0.9556</td>\n",
              "    </tr>\n",
              "    <tr>\n",
              "      <th>518</th>\n",
              "      <td>(Migraine without aura, Sporadic hemiplegic mi...</td>\n",
              "      <td>(Other)</td>\n",
              "      <td>0.1176</td>\n",
              "      <td>0.2549</td>\n",
              "      <td>0.0588</td>\n",
              "      <td>0.5</td>\n",
              "      <td>1.9615</td>\n",
              "      <td>0.0288</td>\n",
              "      <td>1.4902</td>\n",
              "      <td>0.5556</td>\n",
              "    </tr>\n",
              "  </tbody>\n",
              "</table>\n",
              "<p>519 rows × 10 columns</p>\n",
              "</div>\n",
              "    <div class=\"colab-df-buttons\">\n",
              "\n",
              "  <div class=\"colab-df-container\">\n",
              "    <button class=\"colab-df-convert\" onclick=\"convertToInteractive('df-bdb133d7-1253-42c5-8284-b2d9af75c44b')\"\n",
              "            title=\"Convert this dataframe to an interactive table.\"\n",
              "            style=\"display:none;\">\n",
              "\n",
              "  <svg xmlns=\"http://www.w3.org/2000/svg\" height=\"24px\" viewBox=\"0 -960 960 960\">\n",
              "    <path d=\"M120-120v-720h720v720H120Zm60-500h600v-160H180v160Zm220 220h160v-160H400v160Zm0 220h160v-160H400v160ZM180-400h160v-160H180v160Zm440 0h160v-160H620v160ZM180-180h160v-160H180v160Zm440 0h160v-160H620v160Z\"/>\n",
              "  </svg>\n",
              "    </button>\n",
              "\n",
              "  <style>\n",
              "    .colab-df-container {\n",
              "      display:flex;\n",
              "      gap: 12px;\n",
              "    }\n",
              "\n",
              "    .colab-df-convert {\n",
              "      background-color: #E8F0FE;\n",
              "      border: none;\n",
              "      border-radius: 50%;\n",
              "      cursor: pointer;\n",
              "      display: none;\n",
              "      fill: #1967D2;\n",
              "      height: 32px;\n",
              "      padding: 0 0 0 0;\n",
              "      width: 32px;\n",
              "    }\n",
              "\n",
              "    .colab-df-convert:hover {\n",
              "      background-color: #E2EBFA;\n",
              "      box-shadow: 0px 1px 2px rgba(60, 64, 67, 0.3), 0px 1px 3px 1px rgba(60, 64, 67, 0.15);\n",
              "      fill: #174EA6;\n",
              "    }\n",
              "\n",
              "    .colab-df-buttons div {\n",
              "      margin-bottom: 4px;\n",
              "    }\n",
              "\n",
              "    [theme=dark] .colab-df-convert {\n",
              "      background-color: #3B4455;\n",
              "      fill: #D2E3FC;\n",
              "    }\n",
              "\n",
              "    [theme=dark] .colab-df-convert:hover {\n",
              "      background-color: #434B5C;\n",
              "      box-shadow: 0px 1px 3px 1px rgba(0, 0, 0, 0.15);\n",
              "      filter: drop-shadow(0px 1px 2px rgba(0, 0, 0, 0.3));\n",
              "      fill: #FFFFFF;\n",
              "    }\n",
              "  </style>\n",
              "\n",
              "    <script>\n",
              "      const buttonEl =\n",
              "        document.querySelector('#df-bdb133d7-1253-42c5-8284-b2d9af75c44b button.colab-df-convert');\n",
              "      buttonEl.style.display =\n",
              "        google.colab.kernel.accessAllowed ? 'block' : 'none';\n",
              "\n",
              "      async function convertToInteractive(key) {\n",
              "        const element = document.querySelector('#df-bdb133d7-1253-42c5-8284-b2d9af75c44b');\n",
              "        const dataTable =\n",
              "          await google.colab.kernel.invokeFunction('convertToInteractive',\n",
              "                                                    [key], {});\n",
              "        if (!dataTable) return;\n",
              "\n",
              "        const docLinkHtml = 'Like what you see? Visit the ' +\n",
              "          '<a target=\"_blank\" href=https://colab.research.google.com/notebooks/data_table.ipynb>data table notebook</a>'\n",
              "          + ' to learn more about interactive tables.';\n",
              "        element.innerHTML = '';\n",
              "        dataTable['output_type'] = 'display_data';\n",
              "        await google.colab.output.renderOutput(dataTable, element);\n",
              "        const docLink = document.createElement('div');\n",
              "        docLink.innerHTML = docLinkHtml;\n",
              "        element.appendChild(docLink);\n",
              "      }\n",
              "    </script>\n",
              "  </div>\n",
              "\n",
              "\n",
              "<div id=\"df-c92370e5-8960-40eb-af32-98242e094dea\">\n",
              "  <button class=\"colab-df-quickchart\" onclick=\"quickchart('df-c92370e5-8960-40eb-af32-98242e094dea')\"\n",
              "            title=\"Suggest charts.\"\n",
              "            style=\"display:none;\">\n",
              "\n",
              "<svg xmlns=\"http://www.w3.org/2000/svg\" height=\"24px\"viewBox=\"0 0 24 24\"\n",
              "     width=\"24px\">\n",
              "    <g>\n",
              "        <path d=\"M19 3H5c-1.1 0-2 .9-2 2v14c0 1.1.9 2 2 2h14c1.1 0 2-.9 2-2V5c0-1.1-.9-2-2-2zM9 17H7v-7h2v7zm4 0h-2V7h2v10zm4 0h-2v-4h2v4z\"/>\n",
              "    </g>\n",
              "</svg>\n",
              "  </button>\n",
              "\n",
              "<style>\n",
              "  .colab-df-quickchart {\n",
              "      --bg-color: #E8F0FE;\n",
              "      --fill-color: #1967D2;\n",
              "      --hover-bg-color: #E2EBFA;\n",
              "      --hover-fill-color: #174EA6;\n",
              "      --disabled-fill-color: #AAA;\n",
              "      --disabled-bg-color: #DDD;\n",
              "  }\n",
              "\n",
              "  [theme=dark] .colab-df-quickchart {\n",
              "      --bg-color: #3B4455;\n",
              "      --fill-color: #D2E3FC;\n",
              "      --hover-bg-color: #434B5C;\n",
              "      --hover-fill-color: #FFFFFF;\n",
              "      --disabled-bg-color: #3B4455;\n",
              "      --disabled-fill-color: #666;\n",
              "  }\n",
              "\n",
              "  .colab-df-quickchart {\n",
              "    background-color: var(--bg-color);\n",
              "    border: none;\n",
              "    border-radius: 50%;\n",
              "    cursor: pointer;\n",
              "    display: none;\n",
              "    fill: var(--fill-color);\n",
              "    height: 32px;\n",
              "    padding: 0;\n",
              "    width: 32px;\n",
              "  }\n",
              "\n",
              "  .colab-df-quickchart:hover {\n",
              "    background-color: var(--hover-bg-color);\n",
              "    box-shadow: 0 1px 2px rgba(60, 64, 67, 0.3), 0 1px 3px 1px rgba(60, 64, 67, 0.15);\n",
              "    fill: var(--button-hover-fill-color);\n",
              "  }\n",
              "\n",
              "  .colab-df-quickchart-complete:disabled,\n",
              "  .colab-df-quickchart-complete:disabled:hover {\n",
              "    background-color: var(--disabled-bg-color);\n",
              "    fill: var(--disabled-fill-color);\n",
              "    box-shadow: none;\n",
              "  }\n",
              "\n",
              "  .colab-df-spinner {\n",
              "    border: 2px solid var(--fill-color);\n",
              "    border-color: transparent;\n",
              "    border-bottom-color: var(--fill-color);\n",
              "    animation:\n",
              "      spin 1s steps(1) infinite;\n",
              "  }\n",
              "\n",
              "  @keyframes spin {\n",
              "    0% {\n",
              "      border-color: transparent;\n",
              "      border-bottom-color: var(--fill-color);\n",
              "      border-left-color: var(--fill-color);\n",
              "    }\n",
              "    20% {\n",
              "      border-color: transparent;\n",
              "      border-left-color: var(--fill-color);\n",
              "      border-top-color: var(--fill-color);\n",
              "    }\n",
              "    30% {\n",
              "      border-color: transparent;\n",
              "      border-left-color: var(--fill-color);\n",
              "      border-top-color: var(--fill-color);\n",
              "      border-right-color: var(--fill-color);\n",
              "    }\n",
              "    40% {\n",
              "      border-color: transparent;\n",
              "      border-right-color: var(--fill-color);\n",
              "      border-top-color: var(--fill-color);\n",
              "    }\n",
              "    60% {\n",
              "      border-color: transparent;\n",
              "      border-right-color: var(--fill-color);\n",
              "    }\n",
              "    80% {\n",
              "      border-color: transparent;\n",
              "      border-right-color: var(--fill-color);\n",
              "      border-bottom-color: var(--fill-color);\n",
              "    }\n",
              "    90% {\n",
              "      border-color: transparent;\n",
              "      border-bottom-color: var(--fill-color);\n",
              "    }\n",
              "  }\n",
              "</style>\n",
              "\n",
              "  <script>\n",
              "    async function quickchart(key) {\n",
              "      const quickchartButtonEl =\n",
              "        document.querySelector('#' + key + ' button');\n",
              "      quickchartButtonEl.disabled = true;  // To prevent multiple clicks.\n",
              "      quickchartButtonEl.classList.add('colab-df-spinner');\n",
              "      try {\n",
              "        const charts = await google.colab.kernel.invokeFunction(\n",
              "            'suggestCharts', [key], {});\n",
              "      } catch (error) {\n",
              "        console.error('Error during call to suggestCharts:', error);\n",
              "      }\n",
              "      quickchartButtonEl.classList.remove('colab-df-spinner');\n",
              "      quickchartButtonEl.classList.add('colab-df-quickchart-complete');\n",
              "    }\n",
              "    (() => {\n",
              "      let quickchartButtonEl =\n",
              "        document.querySelector('#df-c92370e5-8960-40eb-af32-98242e094dea button');\n",
              "      quickchartButtonEl.style.display =\n",
              "        google.colab.kernel.accessAllowed ? 'block' : 'none';\n",
              "    })();\n",
              "  </script>\n",
              "</div>\n",
              "    </div>\n",
              "  </div>\n"
            ]
          },
          "metadata": {},
          "execution_count": 98
        }
      ]
    },
    {
      "cell_type": "code",
      "source": [
        "plot_model(model1)"
      ],
      "metadata": {
        "colab": {
          "base_uri": "https://localhost:8080/",
          "height": 817
        },
        "id": "JbMV2pDnEsCj",
        "outputId": "9a31fdc0-44ef-4438-d5a0-8e829ffb1c93"
      },
      "execution_count": null,
      "outputs": [
        {
          "output_type": "display_data",
          "data": {
            "text/html": [
              "        <script type=\"text/javascript\">\n",
              "        window.PlotlyConfig = {MathJaxConfig: 'local'};\n",
              "        if (window.MathJax && window.MathJax.Hub && window.MathJax.Hub.Config) {window.MathJax.Hub.Config({SVG: {font: \"STIX-Web\"}});}\n",
              "        if (typeof require !== 'undefined') {\n",
              "        require.undef(\"plotly\");\n",
              "        requirejs.config({\n",
              "            paths: {\n",
              "                'plotly': ['https://cdn.plot.ly/plotly-2.24.1.min']\n",
              "            }\n",
              "        });\n",
              "        require(['plotly'], function(Plotly) {\n",
              "            window._Plotly = Plotly;\n",
              "        });\n",
              "        }\n",
              "        </script>\n",
              "        "
            ]
          },
          "metadata": {}
        },
        {
          "output_type": "display_data",
          "data": {
            "application/vnd.plotly.v1+json": {
              "data": [
                {
                  "customdata": [
                    [
                      "Familial hemiplegic migraine",
                      "Typical aura without migraine"
                    ],
                    [
                      "Familial hemiplegic migraine",
                      "Basilar-type aura"
                    ],
                    [
                      "Other",
                      "Typical aura with migraine"
                    ],
                    [
                      "Sporadic hemiplegic migraine",
                      "Typical aura with migraine"
                    ],
                    [
                      "Familial hemiplegic migraine",
                      "Typical aura with migraine"
                    ],
                    [
                      "Familial hemiplegic migraine",
                      "Basilar-type aura"
                    ],
                    [
                      "Familial hemiplegic migraine",
                      "Other"
                    ],
                    [
                      "Familial hemiplegic migraine",
                      "Typical aura without migraine"
                    ],
                    [
                      "Familial hemiplegic migraine",
                      "Typical aura with migraine"
                    ],
                    [
                      "Familial hemiplegic migraine",
                      "Sporadic hemiplegic migraine"
                    ],
                    [
                      "Familial hemiplegic migraine",
                      "Typical aura with migraine"
                    ],
                    [
                      "Other",
                      "Typical aura with migraine"
                    ],
                    [
                      "Familial hemiplegic migraine",
                      "Typical aura with migraine"
                    ],
                    [
                      "Familial hemiplegic migraine",
                      "Basilar-type aura"
                    ],
                    [
                      "Familial hemiplegic migraine",
                      "Sporadic hemiplegic migraine"
                    ],
                    [
                      "Familial hemiplegic migraine",
                      "Other"
                    ],
                    [
                      "Familial hemiplegic migraine",
                      "Typical aura without migraine"
                    ],
                    [
                      "Familial hemiplegic migraine",
                      "Basilar-type aura"
                    ],
                    [
                      "Other",
                      "Typical aura with migraine"
                    ],
                    [
                      "Migraine without aura",
                      "Typical aura with migraine"
                    ],
                    [
                      "Familial hemiplegic migraine",
                      "Basilar-type aura"
                    ],
                    [
                      "Familial hemiplegic migraine",
                      "Sporadic hemiplegic migraine"
                    ],
                    [
                      "Familial hemiplegic migraine",
                      "Other"
                    ],
                    [
                      "Familial hemiplegic migraine",
                      "Basilar-type aura"
                    ],
                    [
                      "Familial hemiplegic migraine",
                      "Typical aura without migraine"
                    ],
                    [
                      "Familial hemiplegic migraine",
                      "Basilar-type aura"
                    ],
                    [
                      "Familial hemiplegic migraine",
                      "Other"
                    ],
                    [
                      "Other",
                      "Typical aura with migraine"
                    ],
                    [
                      "Basilar-type aura",
                      "Familial hemiplegic migraine"
                    ],
                    [
                      "Familial hemiplegic migraine",
                      "Sporadic hemiplegic migraine"
                    ],
                    [
                      "Familial hemiplegic migraine",
                      "Basilar-type aura"
                    ],
                    [
                      "Migraine without aura",
                      "Typical aura with migraine"
                    ],
                    [
                      "Familial hemiplegic migraine",
                      "Basilar-type aura"
                    ],
                    [
                      "Other",
                      "Familial hemiplegic migraine"
                    ],
                    [
                      "Familial hemiplegic migraine",
                      "Other"
                    ],
                    [
                      "Familial hemiplegic migraine",
                      "Typical aura without migraine"
                    ],
                    [
                      "Familial hemiplegic migraine",
                      "Sporadic hemiplegic migraine"
                    ],
                    [
                      "Migraine without aura",
                      "Typical aura with migraine"
                    ],
                    [
                      "Familial hemiplegic migraine",
                      "Basilar-type aura"
                    ],
                    [
                      "Other",
                      "Familial hemiplegic migraine"
                    ],
                    [
                      "Other",
                      "Typical aura with migraine"
                    ],
                    [
                      "Other",
                      "Typical aura with migraine"
                    ],
                    [
                      "Familial hemiplegic migraine",
                      "Typical aura with migraine"
                    ],
                    [
                      "Familial hemiplegic migraine",
                      "Typical aura with migraine"
                    ],
                    [
                      "Other",
                      "Basilar-type aura"
                    ],
                    [
                      "Familial hemiplegic migraine",
                      "Typical aura with migraine"
                    ],
                    [
                      "Familial hemiplegic migraine",
                      "Typical aura without migraine"
                    ],
                    [
                      "Familial hemiplegic migraine",
                      "Typical aura with migraine"
                    ],
                    [
                      "Basilar-type aura",
                      "Typical aura with migraine"
                    ],
                    [
                      "Other",
                      "Typical aura with migraine"
                    ],
                    [
                      "Familial hemiplegic migraine",
                      "Typical aura with migraine"
                    ],
                    [
                      "Basilar-type aura",
                      "Other"
                    ],
                    [
                      "Other",
                      "Basilar-type aura"
                    ],
                    [
                      "Basilar-type aura",
                      "Other"
                    ],
                    [
                      "Familial hemiplegic migraine",
                      "Basilar-type aura"
                    ],
                    [
                      "Basilar-type aura",
                      "Other"
                    ],
                    [
                      "Other",
                      "Basilar-type aura"
                    ],
                    [
                      "Basilar-type aura",
                      "Other"
                    ],
                    [
                      "Other",
                      "Basilar-type aura"
                    ],
                    [
                      "Other",
                      "Typical aura with migraine"
                    ],
                    [
                      "Other",
                      "Typical aura with migraine"
                    ],
                    [
                      "Basilar-type aura",
                      "Typical aura with migraine"
                    ],
                    [
                      "Basilar-type aura",
                      "Typical aura with migraine"
                    ],
                    [
                      "Familial hemiplegic migraine",
                      "Typical aura without migraine"
                    ],
                    [
                      "Familial hemiplegic migraine",
                      "Typical aura with migraine"
                    ],
                    [
                      "Basilar-type aura",
                      "Familial hemiplegic migraine"
                    ],
                    [
                      "Familial hemiplegic migraine",
                      "Typical aura with migraine"
                    ],
                    [
                      "Familial hemiplegic migraine",
                      "Basilar-type aura"
                    ],
                    [
                      "Familial hemiplegic migraine",
                      "Typical aura with migraine"
                    ],
                    [
                      "Familial hemiplegic migraine",
                      "Typical aura without migraine"
                    ],
                    [
                      "Familial hemiplegic migraine",
                      "Basilar-type aura"
                    ],
                    [
                      "Familial hemiplegic migraine",
                      "Typical aura with migraine"
                    ],
                    [
                      "Familial hemiplegic migraine",
                      "Basilar-type aura"
                    ],
                    [
                      "Familial hemiplegic migraine",
                      "Typical aura without migraine"
                    ],
                    [
                      "Familial hemiplegic migraine",
                      "Typical aura with migraine"
                    ],
                    [
                      "Familial hemiplegic migraine",
                      "Typical aura with migraine"
                    ],
                    [
                      "Familial hemiplegic migraine",
                      "Typical aura with migraine"
                    ],
                    [
                      "Familial hemiplegic migraine",
                      "Typical aura without migraine"
                    ],
                    [
                      "Familial hemiplegic migraine",
                      "Sporadic hemiplegic migraine"
                    ],
                    [
                      "Other",
                      "Familial hemiplegic migraine"
                    ],
                    [
                      "Familial hemiplegic migraine",
                      "Sporadic hemiplegic migraine"
                    ],
                    [
                      "Familial hemiplegic migraine",
                      "Sporadic hemiplegic migraine"
                    ],
                    [
                      "Familial hemiplegic migraine",
                      "Sporadic hemiplegic migraine"
                    ],
                    [
                      "Familial hemiplegic migraine",
                      "Typical aura without migraine"
                    ],
                    [
                      "Familial hemiplegic migraine",
                      "Typical aura with migraine"
                    ],
                    [
                      "Familial hemiplegic migraine",
                      "Basilar-type aura"
                    ],
                    [
                      "Familial hemiplegic migraine",
                      "Basilar-type aura"
                    ],
                    [
                      "Other",
                      "Typical aura without migraine"
                    ],
                    [
                      "Familial hemiplegic migraine",
                      "Sporadic hemiplegic migraine"
                    ],
                    [
                      "Familial hemiplegic migraine",
                      "Basilar-type aura"
                    ],
                    [
                      "Familial hemiplegic migraine",
                      "Typical aura with migraine"
                    ],
                    [
                      "Familial hemiplegic migraine",
                      "Typical aura without migraine"
                    ],
                    [
                      "Familial hemiplegic migraine",
                      "Basilar-type aura"
                    ],
                    [
                      "Other",
                      "Familial hemiplegic migraine"
                    ],
                    [
                      "Typical aura with migraine",
                      "Other"
                    ],
                    [
                      "Other",
                      "Typical aura with migraine"
                    ],
                    [
                      "Other",
                      "Sporadic hemiplegic migraine"
                    ],
                    [
                      "Other",
                      "Familial hemiplegic migraine"
                    ],
                    [
                      "Basilar-type aura",
                      "Typical aura with migraine"
                    ],
                    [
                      "Other",
                      "Basilar-type aura"
                    ],
                    [
                      "Other",
                      "Familial hemiplegic migraine"
                    ],
                    [
                      "Familial hemiplegic migraine",
                      "Sporadic hemiplegic migraine"
                    ],
                    [
                      "Other",
                      "Basilar-type aura"
                    ],
                    [
                      "Basilar-type aura",
                      "Other"
                    ],
                    [
                      "Familial hemiplegic migraine",
                      "Basilar-type aura"
                    ],
                    [
                      "Familial hemiplegic migraine",
                      "Sporadic hemiplegic migraine"
                    ],
                    [
                      "Other",
                      "Familial hemiplegic migraine"
                    ],
                    [
                      "Familial hemiplegic migraine",
                      "Basilar-type aura"
                    ],
                    [
                      "Familial hemiplegic migraine",
                      "Basilar-type aura"
                    ],
                    [
                      "Familial hemiplegic migraine",
                      "Sporadic hemiplegic migraine"
                    ],
                    [
                      "Familial hemiplegic migraine",
                      "Basilar-type aura"
                    ],
                    [
                      "Familial hemiplegic migraine",
                      "Other"
                    ],
                    [
                      "Basilar-type aura",
                      "Typical aura with migraine"
                    ],
                    [
                      "Basilar-type aura",
                      "Familial hemiplegic migraine"
                    ],
                    [
                      "Familial hemiplegic migraine",
                      "Sporadic hemiplegic migraine"
                    ],
                    [
                      "Familial hemiplegic migraine",
                      "Basilar-type aura"
                    ],
                    [
                      "Familial hemiplegic migraine",
                      "Typical aura with migraine"
                    ],
                    [
                      "Familial hemiplegic migraine",
                      "Basilar-type aura"
                    ],
                    [
                      "Other",
                      "Familial hemiplegic migraine"
                    ],
                    [
                      "Familial hemiplegic migraine",
                      "Basilar-type aura"
                    ],
                    [
                      "Familial hemiplegic migraine",
                      "Other"
                    ],
                    [
                      "Familial hemiplegic migraine",
                      "Other"
                    ],
                    [
                      "Basilar-type aura",
                      "Familial hemiplegic migraine"
                    ],
                    [
                      "Familial hemiplegic migraine",
                      "Typical aura with migraine"
                    ],
                    [
                      "Other",
                      "Typical aura with migraine"
                    ],
                    [
                      "Sporadic hemiplegic migraine",
                      "Typical aura with migraine"
                    ],
                    [
                      "Typical aura without migraine",
                      "Typical aura with migraine"
                    ],
                    [
                      "Other",
                      "Typical aura with migraine"
                    ],
                    [
                      "Familial hemiplegic migraine",
                      "Typical aura with migraine"
                    ],
                    [
                      "Familial hemiplegic migraine",
                      "Sporadic hemiplegic migraine"
                    ],
                    [
                      "Familial hemiplegic migraine",
                      "Typical aura without migraine"
                    ],
                    [
                      "Familial hemiplegic migraine",
                      "Typical aura with migraine"
                    ],
                    [
                      "Sporadic hemiplegic migraine",
                      "Other"
                    ],
                    [
                      "Sporadic hemiplegic migraine",
                      "Basilar-type aura"
                    ],
                    [
                      "Sporadic hemiplegic migraine",
                      "Other"
                    ],
                    [
                      "Familial hemiplegic migraine",
                      "Sporadic hemiplegic migraine"
                    ],
                    [
                      "Sporadic hemiplegic migraine",
                      "Typical aura with migraine"
                    ],
                    [
                      "Sporadic hemiplegic migraine",
                      "Basilar-type aura"
                    ],
                    [
                      "Familial hemiplegic migraine",
                      "Typical aura with migraine"
                    ],
                    [
                      "Familial hemiplegic migraine",
                      "Typical aura with migraine"
                    ],
                    [
                      "Other",
                      "Typical aura with migraine"
                    ],
                    [
                      "Familial hemiplegic migraine",
                      "Typical aura with migraine"
                    ],
                    [
                      "Basilar-type aura",
                      "Familial hemiplegic migraine"
                    ],
                    [
                      "Familial hemiplegic migraine",
                      "Typical aura with migraine"
                    ],
                    [
                      "Familial hemiplegic migraine",
                      "Typical aura without migraine"
                    ],
                    [
                      "Basilar-type aura",
                      "Familial hemiplegic migraine"
                    ],
                    [
                      "Familial hemiplegic migraine",
                      "Typical aura without migraine"
                    ],
                    [
                      "Familial hemiplegic migraine",
                      "Basilar-type aura"
                    ],
                    [
                      "Familial hemiplegic migraine",
                      "Typical aura with migraine"
                    ],
                    [
                      "Other",
                      "Basilar-type aura"
                    ],
                    [
                      "Other",
                      "Basilar-type aura"
                    ],
                    [
                      "Familial hemiplegic migraine",
                      "Typical aura with migraine"
                    ],
                    [
                      "Sporadic hemiplegic migraine",
                      "Typical aura without migraine"
                    ],
                    [
                      "Familial hemiplegic migraine",
                      "Typical aura without migraine"
                    ],
                    [
                      "Other",
                      "Basilar-type aura"
                    ],
                    [
                      "Familial hemiplegic migraine",
                      "Sporadic hemiplegic migraine"
                    ],
                    [
                      "Other",
                      "Basilar-type aura"
                    ],
                    [
                      "Other",
                      "Familial hemiplegic migraine"
                    ],
                    [
                      "Other",
                      "Typical aura with migraine"
                    ],
                    [
                      "Sporadic hemiplegic migraine",
                      "Typical aura with migraine"
                    ],
                    [
                      "Basilar-type aura",
                      "Typical aura with migraine"
                    ],
                    [
                      "Basilar-type aura",
                      "Other"
                    ],
                    [
                      "Basilar-type aura",
                      "Typical aura with migraine"
                    ],
                    [
                      "Other",
                      "Basilar-type aura"
                    ],
                    [
                      "Basilar-type aura",
                      "Other"
                    ],
                    [
                      "Sporadic hemiplegic migraine",
                      "Typical aura with migraine"
                    ],
                    [
                      "Migraine without aura",
                      "Typical aura with migraine"
                    ],
                    [
                      "Sporadic hemiplegic migraine",
                      "Typical aura without migraine"
                    ],
                    [
                      "Sporadic hemiplegic migraine",
                      "Typical aura without migraine"
                    ],
                    [
                      "Sporadic hemiplegic migraine",
                      "Typical aura with migraine"
                    ],
                    [
                      "Sporadic hemiplegic migraine",
                      "Familial hemiplegic migraine"
                    ],
                    [
                      "Other",
                      "Migraine without aura"
                    ],
                    [
                      "Sporadic hemiplegic migraine",
                      "Familial hemiplegic migraine"
                    ],
                    [
                      "Familial hemiplegic migraine",
                      "Typical aura without migraine"
                    ],
                    [
                      "Sporadic hemiplegic migraine",
                      "Familial hemiplegic migraine"
                    ],
                    [
                      "Other",
                      "Migraine without aura"
                    ],
                    [
                      "Other",
                      "Migraine without aura"
                    ],
                    [
                      "Familial hemiplegic migraine",
                      "Typical aura without migraine"
                    ],
                    [
                      "Familial hemiplegic migraine",
                      "Typical aura with migraine"
                    ],
                    [
                      "Basilar-type aura",
                      "Migraine without aura"
                    ],
                    [
                      "Basilar-type aura",
                      "Migraine without aura"
                    ],
                    [
                      "Basilar-type aura",
                      "Migraine without aura"
                    ],
                    [
                      "Migraine without aura",
                      "Typical aura without migraine"
                    ],
                    [
                      "Migraine without aura",
                      "Typical aura with migraine"
                    ],
                    [
                      "Migraine without aura",
                      "Typical aura without migraine"
                    ],
                    [
                      "Familial hemiplegic migraine",
                      "Typical aura without migraine"
                    ],
                    [
                      "Sporadic hemiplegic migraine",
                      "Familial hemiplegic migraine"
                    ],
                    [
                      "Basilar-type aura",
                      "Other"
                    ],
                    [
                      "Other",
                      "Basilar-type aura"
                    ],
                    [
                      "Basilar-type aura",
                      "Familial hemiplegic migraine"
                    ],
                    [
                      "Basilar-type aura",
                      "Other"
                    ],
                    [
                      "Basilar-type aura",
                      "Familial hemiplegic migraine"
                    ],
                    [
                      "Basilar-type aura",
                      "Migraine without aura"
                    ],
                    [
                      "Basilar-type aura",
                      "Other"
                    ],
                    [
                      "Other",
                      "Basilar-type aura"
                    ],
                    [
                      "Other",
                      "Basilar-type aura"
                    ],
                    [
                      "Familial hemiplegic migraine",
                      "Typical aura with migraine"
                    ],
                    [
                      "Basilar-type aura",
                      "Migraine without aura"
                    ],
                    [
                      "Sporadic hemiplegic migraine",
                      "Familial hemiplegic migraine"
                    ],
                    [
                      "Basilar-type aura",
                      "Migraine without aura"
                    ],
                    [
                      "Basilar-type aura",
                      "Familial hemiplegic migraine"
                    ],
                    [
                      "Familial hemiplegic migraine",
                      "Typical aura without migraine"
                    ],
                    [
                      "Migraine without aura",
                      "Familial hemiplegic migraine"
                    ],
                    [
                      "Typical aura with migraine",
                      "Migraine without aura"
                    ],
                    [
                      "Typical aura without migraine",
                      "Migraine without aura"
                    ],
                    [
                      "Typical aura without migraine",
                      "Migraine without aura"
                    ],
                    [
                      "Basilar-type aura",
                      "Familial hemiplegic migraine"
                    ],
                    [
                      "Sporadic hemiplegic migraine",
                      "Migraine without aura"
                    ],
                    [
                      "Other",
                      "Typical aura without migraine"
                    ],
                    [
                      "Other",
                      "Familial hemiplegic migraine"
                    ],
                    [
                      "Basilar-type aura",
                      "Migraine without aura"
                    ],
                    [
                      "Familial hemiplegic migraine",
                      "Other"
                    ],
                    [
                      "Sporadic hemiplegic migraine",
                      "Migraine without aura"
                    ],
                    [
                      "Other",
                      "Familial hemiplegic migraine"
                    ],
                    [
                      "Basilar-type aura",
                      "Familial hemiplegic migraine"
                    ],
                    [
                      "Familial hemiplegic migraine",
                      "Other"
                    ],
                    [
                      "Familial hemiplegic migraine",
                      "Other"
                    ],
                    [
                      "Familial hemiplegic migraine",
                      "Migraine without aura"
                    ],
                    [
                      "Other",
                      "Familial hemiplegic migraine"
                    ],
                    [
                      "Other",
                      "Familial hemiplegic migraine"
                    ],
                    [
                      "Other",
                      "Familial hemiplegic migraine"
                    ],
                    [
                      "Other",
                      "Familial hemiplegic migraine"
                    ],
                    [
                      "Familial hemiplegic migraine",
                      "Other"
                    ],
                    [
                      "Other",
                      "Typical aura without migraine"
                    ],
                    [
                      "Other",
                      "Familial hemiplegic migraine"
                    ],
                    [
                      "Other",
                      "Typical aura with migraine"
                    ],
                    [
                      "Basilar-type aura",
                      "Familial hemiplegic migraine"
                    ],
                    [
                      "Other",
                      "Familial hemiplegic migraine"
                    ],
                    [
                      "Familial hemiplegic migraine",
                      "Migraine without aura"
                    ],
                    [
                      "Basilar-type aura",
                      "Familial hemiplegic migraine"
                    ],
                    [
                      "Familial hemiplegic migraine",
                      "Migraine without aura"
                    ],
                    [
                      "Familial hemiplegic migraine",
                      "Migraine without aura"
                    ],
                    [
                      "Familial hemiplegic migraine",
                      "Migraine without aura"
                    ],
                    [
                      "Familial hemiplegic migraine",
                      "Migraine without aura"
                    ],
                    [
                      "Other",
                      "Familial hemiplegic migraine"
                    ],
                    [
                      "Basilar-type aura",
                      "Familial hemiplegic migraine"
                    ],
                    [
                      "Familial hemiplegic migraine",
                      "Migraine without aura"
                    ],
                    [
                      "Familial hemiplegic migraine",
                      "Migraine without aura"
                    ],
                    [
                      "Other",
                      "Familial hemiplegic migraine"
                    ],
                    [
                      "Other",
                      "Familial hemiplegic migraine"
                    ],
                    [
                      "Other",
                      "Familial hemiplegic migraine"
                    ],
                    [
                      "Familial hemiplegic migraine",
                      "Other"
                    ],
                    [
                      "Other",
                      "Familial hemiplegic migraine"
                    ],
                    [
                      "Other",
                      "Basilar-type aura"
                    ],
                    [
                      "Other",
                      "Migraine without aura"
                    ],
                    [
                      "Familial hemiplegic migraine",
                      "Migraine without aura"
                    ],
                    [
                      "Basilar-type aura",
                      "Other"
                    ],
                    [
                      "Other",
                      "Basilar-type aura"
                    ],
                    [
                      "Basilar-type aura",
                      "Other"
                    ],
                    [
                      "Other",
                      "Migraine without aura"
                    ],
                    [
                      "Basilar-type aura",
                      "Other"
                    ],
                    [
                      "Other",
                      "Migraine without aura"
                    ],
                    [
                      "Basilar-type aura",
                      "Other"
                    ],
                    [
                      "Other",
                      "Sporadic hemiplegic migraine"
                    ],
                    [
                      "Other",
                      "Typical aura without migraine"
                    ],
                    [
                      "Other",
                      "Basilar-type aura"
                    ],
                    [
                      "Other",
                      "Sporadic hemiplegic migraine"
                    ],
                    [
                      "Other",
                      "Typical aura with migraine"
                    ],
                    [
                      "Basilar-type aura",
                      "Other"
                    ],
                    [
                      "Basilar-type aura",
                      "Typical aura without migraine"
                    ],
                    [
                      "Other",
                      "Basilar-type aura"
                    ],
                    [
                      "Basilar-type aura",
                      "Other"
                    ],
                    [
                      "Other",
                      "Migraine without aura"
                    ],
                    [
                      "Other",
                      "Familial hemiplegic migraine"
                    ],
                    [
                      "Familial hemiplegic migraine",
                      "Sporadic hemiplegic migraine"
                    ],
                    [
                      "Familial hemiplegic migraine",
                      "Other"
                    ],
                    [
                      "Other",
                      "Migraine without aura"
                    ],
                    [
                      "Basilar-type aura",
                      "Familial hemiplegic migraine"
                    ],
                    [
                      "Familial hemiplegic migraine",
                      "Other"
                    ],
                    [
                      "Other",
                      "Familial hemiplegic migraine"
                    ],
                    [
                      "Basilar-type aura",
                      "Familial hemiplegic migraine"
                    ],
                    [
                      "Familial hemiplegic migraine",
                      "Other"
                    ],
                    [
                      "Other",
                      "Familial hemiplegic migraine"
                    ],
                    [
                      "Sporadic hemiplegic migraine",
                      "Familial hemiplegic migraine"
                    ],
                    [
                      "Familial hemiplegic migraine",
                      "Other"
                    ],
                    [
                      "Basilar-type aura",
                      "Familial hemiplegic migraine"
                    ],
                    [
                      "Familial hemiplegic migraine",
                      "Sporadic hemiplegic migraine"
                    ],
                    [
                      "Familial hemiplegic migraine",
                      "Other"
                    ],
                    [
                      "Sporadic hemiplegic migraine",
                      "Familial hemiplegic migraine"
                    ],
                    [
                      "Familial hemiplegic migraine",
                      "Sporadic hemiplegic migraine"
                    ],
                    [
                      "Sporadic hemiplegic migraine",
                      "Familial hemiplegic migraine"
                    ],
                    [
                      "Basilar-type aura",
                      "Familial hemiplegic migraine"
                    ],
                    [
                      "Familial hemiplegic migraine",
                      "Sporadic hemiplegic migraine"
                    ],
                    [
                      "Familial hemiplegic migraine",
                      "Sporadic hemiplegic migraine"
                    ],
                    [
                      "Other",
                      "Migraine without aura"
                    ],
                    [
                      "Other",
                      "Basilar-type aura"
                    ],
                    [
                      "Other",
                      "Migraine without aura"
                    ],
                    [
                      "Familial hemiplegic migraine",
                      "Other"
                    ],
                    [
                      "Familial hemiplegic migraine",
                      "Other"
                    ],
                    [
                      "Other",
                      "Migraine without aura"
                    ],
                    [
                      "Familial hemiplegic migraine",
                      "Sporadic hemiplegic migraine"
                    ],
                    [
                      "Basilar-type aura",
                      "Familial hemiplegic migraine"
                    ],
                    [
                      "Familial hemiplegic migraine",
                      "Migraine without aura"
                    ],
                    [
                      "Familial hemiplegic migraine",
                      "Other"
                    ],
                    [
                      "Other",
                      "Familial hemiplegic migraine"
                    ],
                    [
                      "Familial hemiplegic migraine",
                      "Other"
                    ],
                    [
                      "Familial hemiplegic migraine",
                      "Sporadic hemiplegic migraine"
                    ],
                    [
                      "Other",
                      "Familial hemiplegic migraine"
                    ],
                    [
                      "Sporadic hemiplegic migraine",
                      "Migraine without aura"
                    ],
                    [
                      "Basilar-type aura",
                      "Familial hemiplegic migraine"
                    ],
                    [
                      "Other",
                      "Typical aura without migraine"
                    ],
                    [
                      "Basilar-type aura",
                      "Familial hemiplegic migraine"
                    ],
                    [
                      "Other",
                      "Familial hemiplegic migraine"
                    ],
                    [
                      "Familial hemiplegic migraine",
                      "Migraine without aura"
                    ],
                    [
                      "Familial hemiplegic migraine",
                      "Sporadic hemiplegic migraine"
                    ],
                    [
                      "Other",
                      "Sporadic hemiplegic migraine"
                    ],
                    [
                      "Familial hemiplegic migraine",
                      "Migraine without aura"
                    ],
                    [
                      "Other",
                      "Familial hemiplegic migraine"
                    ],
                    [
                      "Familial hemiplegic migraine",
                      "Sporadic hemiplegic migraine"
                    ],
                    [
                      "Other",
                      "Basilar-type aura"
                    ],
                    [
                      "Basilar-type aura",
                      "Other"
                    ],
                    [
                      "Basilar-type aura",
                      "Typical aura without migraine"
                    ],
                    [
                      "Other",
                      "Familial hemiplegic migraine"
                    ],
                    [
                      "Basilar-type aura",
                      "Typical aura with migraine"
                    ],
                    [
                      "Basilar-type aura",
                      "Familial hemiplegic migraine"
                    ],
                    [
                      "Other",
                      "Familial hemiplegic migraine"
                    ],
                    [
                      "Basilar-type aura",
                      "Familial hemiplegic migraine"
                    ],
                    [
                      "Familial hemiplegic migraine",
                      "Sporadic hemiplegic migraine"
                    ],
                    [
                      "Familial hemiplegic migraine",
                      "Other"
                    ],
                    [
                      "Sporadic hemiplegic migraine",
                      "Familial hemiplegic migraine"
                    ],
                    [
                      "Other",
                      "Basilar-type aura"
                    ],
                    [
                      "Other",
                      "Migraine without aura"
                    ],
                    [
                      "Familial hemiplegic migraine",
                      "Other"
                    ],
                    [
                      "Sporadic hemiplegic migraine",
                      "Familial hemiplegic migraine"
                    ],
                    [
                      "Basilar-type aura",
                      "Other"
                    ],
                    [
                      "Basilar-type aura",
                      "Familial hemiplegic migraine"
                    ],
                    [
                      "Basilar-type aura",
                      "Migraine without aura"
                    ],
                    [
                      "Familial hemiplegic migraine",
                      "Other"
                    ],
                    [
                      "Other",
                      "Familial hemiplegic migraine"
                    ],
                    [
                      "Familial hemiplegic migraine",
                      "Sporadic hemiplegic migraine"
                    ],
                    [
                      "Familial hemiplegic migraine",
                      "Sporadic hemiplegic migraine"
                    ],
                    [
                      "Other",
                      "Basilar-type aura"
                    ],
                    [
                      "Other",
                      "Basilar-type aura"
                    ],
                    [
                      "Basilar-type aura",
                      "Other"
                    ],
                    [
                      "Other",
                      "Familial hemiplegic migraine"
                    ],
                    [
                      "Sporadic hemiplegic migraine",
                      "Familial hemiplegic migraine"
                    ],
                    [
                      "Familial hemiplegic migraine",
                      "Other"
                    ],
                    [
                      "Basilar-type aura",
                      "Migraine without aura"
                    ],
                    [
                      "Sporadic hemiplegic migraine",
                      "Migraine without aura"
                    ],
                    [
                      "Sporadic hemiplegic migraine",
                      "Migraine without aura"
                    ],
                    [
                      "Sporadic hemiplegic migraine",
                      "Migraine without aura"
                    ],
                    [
                      "Familial hemiplegic migraine",
                      "Migraine without aura"
                    ],
                    [
                      "Familial hemiplegic migraine",
                      "Migraine without aura"
                    ],
                    [
                      "Familial hemiplegic migraine",
                      "Migraine without aura"
                    ],
                    [
                      "Familial hemiplegic migraine",
                      "Migraine without aura"
                    ],
                    [
                      "Migraine without aura",
                      "Familial hemiplegic migraine"
                    ],
                    [
                      "Familial hemiplegic migraine",
                      "Sporadic hemiplegic migraine"
                    ],
                    [
                      "Familial hemiplegic migraine",
                      "Migraine without aura"
                    ],
                    [
                      "Migraine without aura",
                      "Familial hemiplegic migraine"
                    ],
                    [
                      "Familial hemiplegic migraine",
                      "Migraine without aura"
                    ],
                    [
                      "Familial hemiplegic migraine",
                      "Sporadic hemiplegic migraine"
                    ],
                    [
                      "Familial hemiplegic migraine",
                      "Migraine without aura"
                    ],
                    [
                      "Familial hemiplegic migraine",
                      "Migraine without aura"
                    ],
                    [
                      "Familial hemiplegic migraine",
                      "Migraine without aura"
                    ],
                    [
                      "Migraine without aura",
                      "Familial hemiplegic migraine"
                    ],
                    [
                      "Sporadic hemiplegic migraine",
                      "Familial hemiplegic migraine"
                    ],
                    [
                      "Sporadic hemiplegic migraine",
                      "Familial hemiplegic migraine"
                    ],
                    [
                      "Familial hemiplegic migraine",
                      "Migraine without aura"
                    ],
                    [
                      "Familial hemiplegic migraine",
                      "Migraine without aura"
                    ],
                    [
                      "Familial hemiplegic migraine",
                      "Migraine without aura"
                    ],
                    [
                      "Migraine without aura",
                      "Familial hemiplegic migraine"
                    ],
                    [
                      "Familial hemiplegic migraine",
                      "Sporadic hemiplegic migraine"
                    ],
                    [
                      "Sporadic hemiplegic migraine",
                      "Migraine without aura"
                    ],
                    [
                      "Sporadic hemiplegic migraine",
                      "Migraine without aura"
                    ],
                    [
                      "Sporadic hemiplegic migraine",
                      "Migraine without aura"
                    ],
                    [
                      "Other",
                      "Migraine without aura"
                    ],
                    [
                      "Other",
                      "Migraine without aura"
                    ],
                    [
                      "Other",
                      "Migraine without aura"
                    ],
                    [
                      "Basilar-type aura",
                      "Other"
                    ],
                    [
                      "Other",
                      "Basilar-type aura"
                    ],
                    [
                      "Other",
                      "Sporadic hemiplegic migraine"
                    ],
                    [
                      "Other",
                      "Familial hemiplegic migraine"
                    ],
                    [
                      "Basilar-type aura",
                      "Familial hemiplegic migraine"
                    ],
                    [
                      "Basilar-type aura",
                      "Familial hemiplegic migraine"
                    ],
                    [
                      "Other",
                      "Familial hemiplegic migraine"
                    ],
                    [
                      "Basilar-type aura",
                      "Familial hemiplegic migraine"
                    ],
                    [
                      "Other",
                      "Familial hemiplegic migraine"
                    ],
                    [
                      "Other",
                      "Basilar-type aura"
                    ],
                    [
                      "Other",
                      "Familial hemiplegic migraine"
                    ],
                    [
                      "Other",
                      "Migraine without aura"
                    ],
                    [
                      "Basilar-type aura",
                      "Other"
                    ],
                    [
                      "Other",
                      "Basilar-type aura"
                    ],
                    [
                      "Other",
                      "Migraine without aura"
                    ],
                    [
                      "Basilar-type aura",
                      "Other"
                    ],
                    [
                      "Other",
                      "Familial hemiplegic migraine"
                    ],
                    [
                      "Other",
                      "Familial hemiplegic migraine"
                    ],
                    [
                      "Other",
                      "Sporadic hemiplegic migraine"
                    ],
                    [
                      "Other",
                      "Sporadic hemiplegic migraine"
                    ],
                    [
                      "Other",
                      "Basilar-type aura"
                    ],
                    [
                      "Familial hemiplegic migraine",
                      "Sporadic hemiplegic migraine"
                    ],
                    [
                      "Basilar-type aura",
                      "Sporadic hemiplegic migraine"
                    ],
                    [
                      "Basilar-type aura",
                      "Familial hemiplegic migraine"
                    ],
                    [
                      "Familial hemiplegic migraine",
                      "Sporadic hemiplegic migraine"
                    ],
                    [
                      "Basilar-type aura",
                      "Other"
                    ],
                    [
                      "Basilar-type aura",
                      "Other"
                    ],
                    [
                      "Other",
                      "Basilar-type aura"
                    ],
                    [
                      "Basilar-type aura",
                      "Familial hemiplegic migraine"
                    ],
                    [
                      "Familial hemiplegic migraine",
                      "Migraine without aura"
                    ],
                    [
                      "Basilar-type aura",
                      "Familial hemiplegic migraine"
                    ],
                    [
                      "Basilar-type aura",
                      "Familial hemiplegic migraine"
                    ],
                    [
                      "Basilar-type aura",
                      "Familial hemiplegic migraine"
                    ],
                    [
                      "Familial hemiplegic migraine",
                      "Sporadic hemiplegic migraine"
                    ],
                    [
                      "Basilar-type aura",
                      "Sporadic hemiplegic migraine"
                    ],
                    [
                      "Other",
                      "Familial hemiplegic migraine"
                    ],
                    [
                      "Basilar-type aura",
                      "Sporadic hemiplegic migraine"
                    ],
                    [
                      "Basilar-type aura",
                      "Familial hemiplegic migraine"
                    ],
                    [
                      "Other",
                      "Familial hemiplegic migraine"
                    ],
                    [
                      "Familial hemiplegic migraine",
                      "Sporadic hemiplegic migraine"
                    ],
                    [
                      "Other",
                      "Familial hemiplegic migraine"
                    ],
                    [
                      "Basilar-type aura",
                      "Familial hemiplegic migraine"
                    ],
                    [
                      "Familial hemiplegic migraine",
                      "Sporadic hemiplegic migraine"
                    ],
                    [
                      "Basilar-type aura",
                      "Familial hemiplegic migraine"
                    ],
                    [
                      "Other",
                      "Familial hemiplegic migraine"
                    ],
                    [
                      "Familial hemiplegic migraine",
                      "Sporadic hemiplegic migraine"
                    ],
                    [
                      "Familial hemiplegic migraine",
                      "Migraine without aura"
                    ],
                    [
                      "Other",
                      "Familial hemiplegic migraine"
                    ],
                    [
                      "Other",
                      "Migraine without aura"
                    ],
                    [
                      "Basilar-type aura",
                      "Other"
                    ],
                    [
                      "Other",
                      "Familial hemiplegic migraine"
                    ],
                    [
                      "Basilar-type aura",
                      "Familial hemiplegic migraine"
                    ],
                    [
                      "Other",
                      "Basilar-type aura"
                    ],
                    [
                      "Familial hemiplegic migraine",
                      "Migraine without aura"
                    ],
                    [
                      "Typical aura with migraine",
                      "Migraine without aura"
                    ],
                    [
                      "Sporadic hemiplegic migraine",
                      "Familial hemiplegic migraine"
                    ],
                    [
                      "Sporadic hemiplegic migraine",
                      "Familial hemiplegic migraine"
                    ],
                    [
                      "Other",
                      "Sporadic hemiplegic migraine"
                    ],
                    [
                      "Familial hemiplegic migraine",
                      "Sporadic hemiplegic migraine"
                    ],
                    [
                      "Familial hemiplegic migraine",
                      "Sporadic hemiplegic migraine"
                    ],
                    [
                      "Familial hemiplegic migraine",
                      "Sporadic hemiplegic migraine"
                    ],
                    [
                      "Other",
                      "Typical aura without migraine"
                    ],
                    [
                      "Familial hemiplegic migraine",
                      "Sporadic hemiplegic migraine"
                    ],
                    [
                      "Other",
                      "Typical aura with migraine"
                    ],
                    [
                      "Sporadic hemiplegic migraine",
                      "Familial hemiplegic migraine"
                    ],
                    [
                      "Other",
                      "Sporadic hemiplegic migraine"
                    ],
                    [
                      "Other",
                      "Typical aura without migraine"
                    ],
                    [
                      "Familial hemiplegic migraine",
                      "Sporadic hemiplegic migraine"
                    ],
                    [
                      "Familial hemiplegic migraine",
                      "Sporadic hemiplegic migraine"
                    ],
                    [
                      "Other",
                      "Sporadic hemiplegic migraine"
                    ],
                    [
                      "Basilar-type aura",
                      "Other"
                    ],
                    [
                      "Basilar-type aura",
                      "Other"
                    ],
                    [
                      "Basilar-type aura",
                      "Other"
                    ],
                    [
                      "Other",
                      "Basilar-type aura"
                    ],
                    [
                      "Basilar-type aura",
                      "Other"
                    ],
                    [
                      "Other",
                      "Basilar-type aura"
                    ],
                    [
                      "Basilar-type aura",
                      "Other"
                    ],
                    [
                      "Other",
                      "Basilar-type aura"
                    ],
                    [
                      "Basilar-type aura",
                      "Other"
                    ],
                    [
                      "Typical aura without migraine",
                      "Familial hemiplegic migraine"
                    ],
                    [
                      "Typical aura with migraine",
                      "Familial hemiplegic migraine"
                    ],
                    [
                      "Typical aura without migraine",
                      "Familial hemiplegic migraine"
                    ],
                    [
                      "Familial hemiplegic migraine",
                      "Basilar-type aura"
                    ],
                    [
                      "Familial hemiplegic migraine",
                      "Basilar-type aura"
                    ],
                    [
                      "Migraine without aura",
                      "Familial hemiplegic migraine"
                    ],
                    [
                      "Migraine without aura",
                      "Familial hemiplegic migraine"
                    ],
                    [
                      "Sporadic hemiplegic migraine",
                      "Basilar-type aura"
                    ],
                    [
                      "Familial hemiplegic migraine",
                      "Other"
                    ],
                    [
                      "Familial hemiplegic migraine",
                      "Other"
                    ],
                    [
                      "Familial hemiplegic migraine",
                      "Basilar-type aura"
                    ],
                    [
                      "Sporadic hemiplegic migraine",
                      "Other"
                    ],
                    [
                      "Familial hemiplegic migraine",
                      "Other"
                    ],
                    [
                      "Familial hemiplegic migraine",
                      "Other"
                    ],
                    [
                      "Familial hemiplegic migraine",
                      "Basilar-type aura"
                    ],
                    [
                      "Familial hemiplegic migraine",
                      "Basilar-type aura"
                    ],
                    [
                      "Familial hemiplegic migraine",
                      "Other"
                    ],
                    [
                      "Sporadic hemiplegic migraine",
                      "Familial hemiplegic migraine"
                    ],
                    [
                      "Migraine without aura",
                      "Other"
                    ],
                    [
                      "Familial hemiplegic migraine",
                      "Other"
                    ],
                    [
                      "Familial hemiplegic migraine",
                      "Other"
                    ],
                    [
                      "Migraine without aura",
                      "Basilar-type aura"
                    ],
                    [
                      "Migraine without aura",
                      "Basilar-type aura"
                    ],
                    [
                      "Migraine without aura",
                      "Other"
                    ],
                    [
                      "Sporadic hemiplegic migraine",
                      "Basilar-type aura"
                    ],
                    [
                      "Other",
                      "Sporadic hemiplegic migraine"
                    ],
                    [
                      "Sporadic hemiplegic migraine",
                      "Other"
                    ],
                    [
                      "Familial hemiplegic migraine",
                      "Migraine without aura"
                    ],
                    [
                      "Sporadic hemiplegic migraine",
                      "Other"
                    ],
                    [
                      "Familial hemiplegic migraine",
                      "Other"
                    ],
                    [
                      "Familial hemiplegic migraine",
                      "Basilar-type aura"
                    ],
                    [
                      "Familial hemiplegic migraine",
                      "Basilar-type aura"
                    ],
                    [
                      "Sporadic hemiplegic migraine",
                      "Familial hemiplegic migraine"
                    ],
                    [
                      "Sporadic hemiplegic migraine",
                      "Familial hemiplegic migraine"
                    ],
                    [
                      "Migraine without aura",
                      "Other"
                    ],
                    [
                      "Familial hemiplegic migraine",
                      "Basilar-type aura"
                    ],
                    [
                      "Familial hemiplegic migraine",
                      "Basilar-type aura"
                    ],
                    [
                      "Familial hemiplegic migraine",
                      "Other"
                    ],
                    [
                      "Sporadic hemiplegic migraine",
                      "Familial hemiplegic migraine"
                    ],
                    [
                      "Familial hemiplegic migraine",
                      "Basilar-type aura"
                    ],
                    [
                      "Familial hemiplegic migraine",
                      "Sporadic hemiplegic migraine"
                    ],
                    [
                      "Familial hemiplegic migraine",
                      "Basilar-type aura"
                    ],
                    [
                      "Sporadic hemiplegic migraine",
                      "Familial hemiplegic migraine"
                    ],
                    [
                      "Other",
                      "Sporadic hemiplegic migraine"
                    ],
                    [
                      "Familial hemiplegic migraine",
                      "Other"
                    ],
                    [
                      "Migraine without aura",
                      "Familial hemiplegic migraine"
                    ],
                    [
                      "Other",
                      "Sporadic hemiplegic migraine"
                    ],
                    [
                      "Familial hemiplegic migraine",
                      "Sporadic hemiplegic migraine"
                    ],
                    [
                      "Sporadic hemiplegic migraine",
                      "Other"
                    ],
                    [
                      "Sporadic hemiplegic migraine",
                      "Other"
                    ],
                    [
                      "Other",
                      "Typical aura without migraine"
                    ],
                    [
                      "Sporadic hemiplegic migraine",
                      "Familial hemiplegic migraine"
                    ],
                    [
                      "Other",
                      "Typical aura with migraine"
                    ],
                    [
                      "Familial hemiplegic migraine",
                      "Basilar-type aura"
                    ],
                    [
                      "Familial hemiplegic migraine",
                      "Basilar-type aura"
                    ],
                    [
                      "Familial hemiplegic migraine",
                      "Other"
                    ],
                    [
                      "Sporadic hemiplegic migraine",
                      "Other"
                    ],
                    [
                      "Familial hemiplegic migraine",
                      "Basilar-type aura"
                    ],
                    [
                      "Sporadic hemiplegic migraine",
                      "Basilar-type aura"
                    ],
                    [
                      "Familial hemiplegic migraine",
                      "Basilar-type aura"
                    ],
                    [
                      "Migraine without aura",
                      "Basilar-type aura"
                    ],
                    [
                      "Familial hemiplegic migraine",
                      "Other"
                    ],
                    [
                      "Sporadic hemiplegic migraine",
                      "Other"
                    ],
                    [
                      "Familial hemiplegic migraine",
                      "Other"
                    ],
                    [
                      "Sporadic hemiplegic migraine",
                      "Other"
                    ],
                    [
                      "Familial hemiplegic migraine",
                      "Other"
                    ],
                    [
                      "Familial hemiplegic migraine",
                      "Other"
                    ],
                    [
                      "Other",
                      "Typical aura without migraine"
                    ],
                    [
                      "Familial hemiplegic migraine",
                      "Other"
                    ],
                    [
                      "Familial hemiplegic migraine",
                      "Other"
                    ],
                    [
                      "Familial hemiplegic migraine",
                      "Other"
                    ],
                    [
                      "Migraine without aura",
                      "Other"
                    ]
                  ],
                  "hovertemplate": "support=%{x}<br>confidence=%{y}<br>antecedents_short=%{text}<br>antecedents=%{customdata[0]}<br>consequents=%{customdata[1]}<br>lift=%{marker.color}<extra></extra>",
                  "legendgroup": "",
                  "marker": {
                    "color": [
                      3.4,
                      3.9231,
                      1.0625,
                      1.0625,
                      1.0625,
                      12.75,
                      3.9231,
                      3.4,
                      1.0625,
                      6.375,
                      3.4,
                      1.0625,
                      1.0625,
                      3.9231,
                      6.375,
                      3.9231,
                      3.4,
                      12.75,
                      1.0625,
                      1.0625,
                      3.9231,
                      6.375,
                      3.9231,
                      12.75,
                      3.4,
                      17,
                      10.2,
                      1.0625,
                      17,
                      7.2857,
                      10.2,
                      1.0625,
                      12.75,
                      12.75,
                      3.9231,
                      3.4,
                      6.375,
                      1.0625,
                      3.9231,
                      5.1,
                      1.0625,
                      1.0625,
                      1.0625,
                      1.0625,
                      3.9231,
                      1.0625,
                      3.4,
                      1.0625,
                      1.0625,
                      1.0625,
                      3.4,
                      3.9231,
                      3.9231,
                      3.9231,
                      3.9231,
                      3.9231,
                      3.9231,
                      3.9231,
                      3.9231,
                      1.0625,
                      1.0625,
                      1.0625,
                      1.0625,
                      3.4,
                      1.0625,
                      5.1,
                      1.0625,
                      3.9231,
                      3.4,
                      3.4,
                      3.9231,
                      1.0625,
                      10.2,
                      3.4,
                      3.4,
                      1.0625,
                      1.0625,
                      3.4,
                      7.2857,
                      5.1,
                      6.375,
                      6.375,
                      6.375,
                      3.4,
                      1.0625,
                      3.9231,
                      10.2,
                      3.4,
                      7.2857,
                      10.2,
                      1.0625,
                      3.4,
                      12.75,
                      12.75,
                      3.9231,
                      1.0625,
                      6.375,
                      5.1,
                      1.0625,
                      3.9231,
                      5.1,
                      7.2857,
                      3.9231,
                      3.9231,
                      3.9231,
                      6.375,
                      5.1,
                      3.9231,
                      3.9231,
                      6.375,
                      17,
                      10.2,
                      1.0625,
                      17,
                      7.2857,
                      10.2,
                      1.0625,
                      12.75,
                      12.75,
                      17,
                      3.9231,
                      10.2,
                      17,
                      3.4,
                      1.0625,
                      1.0625,
                      1.0625,
                      1.0625,
                      3.4,
                      7.2857,
                      3.4,
                      1.0625,
                      3.9231,
                      3.9231,
                      3.9231,
                      6.375,
                      1.0625,
                      3.9231,
                      1.0625,
                      3.4,
                      1.0625,
                      1.0625,
                      5.1,
                      1.0625,
                      3.4,
                      5.1,
                      3.4,
                      10.2,
                      3.4,
                      3.9231,
                      3.9231,
                      1.0625,
                      3.4,
                      3.4,
                      3.9231,
                      6.375,
                      3.9231,
                      5.1,
                      1.0625,
                      3.4,
                      1.0625,
                      3.9231,
                      1.0625,
                      3.9231,
                      3.9231,
                      1.0625,
                      0.9597,
                      2.975,
                      2.975,
                      2.975,
                      4.3714,
                      1.4101,
                      4.3714,
                      2.9143,
                      4.3714,
                      1.5612,
                      1.4101,
                      2.9143,
                      2.9143,
                      1.3921,
                      1.3921,
                      1.5412,
                      2.8333,
                      2.8333,
                      2.8333,
                      2.72,
                      4.08,
                      3.1385,
                      3.1385,
                      4.08,
                      3.1385,
                      4.08,
                      1.3161,
                      3.1385,
                      3.1385,
                      3.1385,
                      2.72,
                      1.4571,
                      4.08,
                      1.3161,
                      4.08,
                      2.72,
                      4.08,
                      1.3161,
                      1.4571,
                      1.3161,
                      12.75,
                      1.2339,
                      2.55,
                      6.375,
                      1.2339,
                      9.5625,
                      1.3661,
                      9.5625,
                      12.75,
                      9.5625,
                      12.75,
                      1.2339,
                      3.825,
                      4.7812,
                      4.7812,
                      9.5625,
                      9.5625,
                      2.55,
                      6.375,
                      2.55,
                      3.825,
                      3.825,
                      1.2339,
                      3.825,
                      3.1875,
                      3.1875,
                      1.3661,
                      3.1875,
                      3.825,
                      3.825,
                      1.2339,
                      1.3661,
                      9.5625,
                      4.7812,
                      4.7812,
                      9.5625,
                      9.5625,
                      3.4773,
                      1.3661,
                      1.2339,
                      4.7812,
                      3.4773,
                      4.7812,
                      1.2339,
                      2.9423,
                      1.3661,
                      2.9423,
                      4.7812,
                      2.55,
                      7.65,
                      4.7812,
                      2.55,
                      7.65,
                      2.55,
                      7.65,
                      7.65,
                      1.2339,
                      3.825,
                      5.4643,
                      7.65,
                      1.2339,
                      12.75,
                      12.75,
                      3.825,
                      3.825,
                      2.9423,
                      3.825,
                      4.7812,
                      2.9423,
                      4.7812,
                      4.7812,
                      7.65,
                      3.825,
                      4.7812,
                      3.825,
                      4.7812,
                      5.4643,
                      4.7812,
                      1.3661,
                      2.9423,
                      1.2339,
                      9.5625,
                      2.9423,
                      1.2339,
                      4.7812,
                      4.7812,
                      1.2339,
                      9.5625,
                      3.825,
                      12.75,
                      4.7812,
                      3.825,
                      1.2339,
                      3.825,
                      2.55,
                      12.75,
                      9.5625,
                      1.3661,
                      4.7812,
                      4.7812,
                      1.2339,
                      6.375,
                      5.4643,
                      7.65,
                      7.65,
                      2.55,
                      4.7812,
                      2.55,
                      12.75,
                      4.7812,
                      3.825,
                      4.7812,
                      2.9423,
                      4.7812,
                      2.9423,
                      1.2339,
                      2.9423,
                      4.7812,
                      2.9423,
                      12.75,
                      1.2339,
                      2.9423,
                      9.5625,
                      4.7812,
                      4.7812,
                      2.9423,
                      3.4773,
                      4.7812,
                      3.825,
                      3.825,
                      7.65,
                      1.3661,
                      1.1751,
                      1.301,
                      1.1751,
                      1.275,
                      1.1516,
                      1.1516,
                      1.0968,
                      3.4,
                      4.25,
                      1.2143,
                      3.4,
                      2.8333,
                      4.25,
                      1.2143,
                      1.0968,
                      2.8333,
                      3.4,
                      4.25,
                      4.25,
                      1.0968,
                      2.8333,
                      1.0968,
                      4.25,
                      4.25,
                      2.6562,
                      2.6562,
                      2.6562,
                      1.0124,
                      1.1209,
                      1.0124,
                      7.65,
                      7.65,
                      3.825,
                      5.1,
                      4.3714,
                      10.2,
                      3.06,
                      4.3714,
                      10.2,
                      2.7818,
                      7.65,
                      0.9871,
                      3.825,
                      2.7818,
                      1.0929,
                      3.825,
                      3.06,
                      10.2,
                      3.825,
                      3.825,
                      7.65,
                      4.3714,
                      3.825,
                      10.2,
                      4.3714,
                      7.65,
                      3.825,
                      2.7818,
                      4.3714,
                      2.55,
                      5.1,
                      5.1,
                      10.2,
                      3.825,
                      3.825,
                      5.1,
                      3.825,
                      10.2,
                      7.65,
                      3.825,
                      10.2,
                      10.2,
                      4.3714,
                      10.2,
                      5.1,
                      3.825,
                      2.55,
                      7.65,
                      0.9871,
                      7.65,
                      3.06,
                      5.1,
                      7.65,
                      2.55,
                      0.9597,
                      4.1633,
                      4.1633,
                      3.6429,
                      3.6429,
                      4.1633,
                      3.6429,
                      1.9429,
                      4.1633,
                      1.9429,
                      4.1633,
                      3.6429,
                      1.9429,
                      3.6429,
                      4.1633,
                      3.6429,
                      2.1399,
                      2.1399,
                      2.1399,
                      2.1124,
                      2.1124,
                      2.1124,
                      2.1124,
                      2.1124,
                      2.1124,
                      2.72,
                      2.72,
                      2.72,
                      1.9615,
                      5.1,
                      2.55,
                      2.55,
                      1.9615,
                      1.9615,
                      3.6429,
                      1.9615,
                      1.9615,
                      1.9615,
                      5.1,
                      1.9615,
                      1.9615,
                      1.9615,
                      4.25,
                      1.9615,
                      3.6429,
                      6.375,
                      1.9615,
                      1.9615,
                      3.6429,
                      1.9615,
                      3.1875,
                      3.6429,
                      4.25,
                      3.6429,
                      6.375,
                      1.9615,
                      1.9615,
                      3.6429,
                      3.6429,
                      1.9615,
                      1.9615,
                      1.9615,
                      3.6429,
                      4.25,
                      1.9615,
                      4.25,
                      5.1,
                      4.25,
                      3.1875,
                      1.9615,
                      2.55,
                      3.1875,
                      4.25,
                      3.6429,
                      3.6429,
                      1.7,
                      3.6429,
                      1.7,
                      5.1,
                      1.9615,
                      1.9615,
                      1.9615,
                      1.9615,
                      1.9615,
                      1.9615,
                      1.9615,
                      3.6429,
                      1.9615,
                      5.1,
                      3.6429,
                      3.6429,
                      3.6429,
                      1.7,
                      1.9615,
                      5.1,
                      6.375,
                      1.9615
                    ],
                    "coloraxis": "coloraxis",
                    "opacity": 0.5,
                    "symbol": "circle"
                  },
                  "mode": "markers+text",
                  "name": "",
                  "orientation": "v",
                  "showlegend": false,
                  "text": [
                    "Familial h",
                    "Familial h",
                    "Other",
                    "Sporadic h",
                    "Familial h",
                    "Familial h",
                    "Familial h",
                    "Familial h",
                    "Familial h",
                    "Familial h",
                    "Familial h",
                    "Other",
                    "Familial h",
                    "Familial h",
                    "Familial h",
                    "Familial h",
                    "Familial h",
                    "Familial h",
                    "Other",
                    "Migraine w",
                    "Familial h",
                    "Familial h",
                    "Familial h",
                    "Familial h",
                    "Familial h",
                    "Familial h",
                    "Familial h",
                    "Other",
                    "Basilar-ty",
                    "Familial h",
                    "Familial h",
                    "Migraine w",
                    "Familial h",
                    "Other",
                    "Familial h",
                    "Familial h",
                    "Familial h",
                    "Migraine w",
                    "Familial h",
                    "Other",
                    "Other",
                    "Other",
                    "Familial h",
                    "Familial h",
                    "Other",
                    "Familial h",
                    "Familial h",
                    "Familial h",
                    "Basilar-ty",
                    "Other",
                    "Familial h",
                    "Basilar-ty",
                    "Other",
                    "Basilar-ty",
                    "Familial h",
                    "Basilar-ty",
                    "Other",
                    "Basilar-ty",
                    "Other",
                    "Other",
                    "Other",
                    "Basilar-ty",
                    "Basilar-ty",
                    "Familial h",
                    "Familial h",
                    "Basilar-ty",
                    "Familial h",
                    "Familial h",
                    "Familial h",
                    "Familial h",
                    "Familial h",
                    "Familial h",
                    "Familial h",
                    "Familial h",
                    "Familial h",
                    "Familial h",
                    "Familial h",
                    "Familial h",
                    "Familial h",
                    "Other",
                    "Familial h",
                    "Familial h",
                    "Familial h",
                    "Familial h",
                    "Familial h",
                    "Familial h",
                    "Familial h",
                    "Other",
                    "Familial h",
                    "Familial h",
                    "Familial h",
                    "Familial h",
                    "Familial h",
                    "Other",
                    "Typical au",
                    "Other",
                    "Other",
                    "Other",
                    "Basilar-ty",
                    "Other",
                    "Other",
                    "Familial h",
                    "Other",
                    "Basilar-ty",
                    "Familial h",
                    "Familial h",
                    "Other",
                    "Familial h",
                    "Familial h",
                    "Familial h",
                    "Familial h",
                    "Familial h",
                    "Basilar-ty",
                    "Basilar-ty",
                    "Familial h",
                    "Familial h",
                    "Familial h",
                    "Familial h",
                    "Other",
                    "Familial h",
                    "Familial h",
                    "Familial h",
                    "Basilar-ty",
                    "Familial h",
                    "Other",
                    "Sporadic h",
                    "Typical au",
                    "Other",
                    "Familial h",
                    "Familial h",
                    "Familial h",
                    "Familial h",
                    "Sporadic h",
                    "Sporadic h",
                    "Sporadic h",
                    "Familial h",
                    "Sporadic h",
                    "Sporadic h",
                    "Familial h",
                    "Familial h",
                    "Other",
                    "Familial h",
                    "Basilar-ty",
                    "Familial h",
                    "Familial h",
                    "Basilar-ty",
                    "Familial h",
                    "Familial h",
                    "Familial h",
                    "Other",
                    "Other",
                    "Familial h",
                    "Sporadic h",
                    "Familial h",
                    "Other",
                    "Familial h",
                    "Other",
                    "Other",
                    "Other",
                    "Sporadic h",
                    "Basilar-ty",
                    "Basilar-ty",
                    "Basilar-ty",
                    "Other",
                    "Basilar-ty",
                    "Sporadic h",
                    "Migraine w",
                    "Sporadic h",
                    "Sporadic h",
                    "Sporadic h",
                    "Sporadic h",
                    "Other",
                    "Sporadic h",
                    "Familial h",
                    "Sporadic h",
                    "Other",
                    "Other",
                    "Familial h",
                    "Familial h",
                    "Basilar-ty",
                    "Basilar-ty",
                    "Basilar-ty",
                    "Migraine w",
                    "Migraine w",
                    "Migraine w",
                    "Familial h",
                    "Sporadic h",
                    "Basilar-ty",
                    "Other",
                    "Basilar-ty",
                    "Basilar-ty",
                    "Basilar-ty",
                    "Basilar-ty",
                    "Basilar-ty",
                    "Other",
                    "Other",
                    "Familial h",
                    "Basilar-ty",
                    "Sporadic h",
                    "Basilar-ty",
                    "Basilar-ty",
                    "Familial h",
                    "Migraine w",
                    "Typical au",
                    "Typical au",
                    "Typical au",
                    "Basilar-ty",
                    "Sporadic h",
                    "Other",
                    "Other",
                    "Basilar-ty",
                    "Familial h",
                    "Sporadic h",
                    "Other",
                    "Basilar-ty",
                    "Familial h",
                    "Familial h",
                    "Familial h",
                    "Other",
                    "Other",
                    "Other",
                    "Other",
                    "Familial h",
                    "Other",
                    "Other",
                    "Other",
                    "Basilar-ty",
                    "Other",
                    "Familial h",
                    "Basilar-ty",
                    "Familial h",
                    "Familial h",
                    "Familial h",
                    "Familial h",
                    "Other",
                    "Basilar-ty",
                    "Familial h",
                    "Familial h",
                    "Other",
                    "Other",
                    "Other",
                    "Familial h",
                    "Other",
                    "Other",
                    "Other",
                    "Familial h",
                    "Basilar-ty",
                    "Other",
                    "Basilar-ty",
                    "Other",
                    "Basilar-ty",
                    "Other",
                    "Basilar-ty",
                    "Other",
                    "Other",
                    "Other",
                    "Other",
                    "Other",
                    "Basilar-ty",
                    "Basilar-ty",
                    "Other",
                    "Basilar-ty",
                    "Other",
                    "Other",
                    "Familial h",
                    "Familial h",
                    "Other",
                    "Basilar-ty",
                    "Familial h",
                    "Other",
                    "Basilar-ty",
                    "Familial h",
                    "Other",
                    "Sporadic h",
                    "Familial h",
                    "Basilar-ty",
                    "Familial h",
                    "Familial h",
                    "Sporadic h",
                    "Familial h",
                    "Sporadic h",
                    "Basilar-ty",
                    "Familial h",
                    "Familial h",
                    "Other",
                    "Other",
                    "Other",
                    "Familial h",
                    "Familial h",
                    "Other",
                    "Familial h",
                    "Basilar-ty",
                    "Familial h",
                    "Familial h",
                    "Other",
                    "Familial h",
                    "Familial h",
                    "Other",
                    "Sporadic h",
                    "Basilar-ty",
                    "Other",
                    "Basilar-ty",
                    "Other",
                    "Familial h",
                    "Familial h",
                    "Other",
                    "Familial h",
                    "Other",
                    "Familial h",
                    "Other",
                    "Basilar-ty",
                    "Basilar-ty",
                    "Other",
                    "Basilar-ty",
                    "Basilar-ty",
                    "Other",
                    "Basilar-ty",
                    "Familial h",
                    "Familial h",
                    "Sporadic h",
                    "Other",
                    "Other",
                    "Familial h",
                    "Sporadic h",
                    "Basilar-ty",
                    "Basilar-ty",
                    "Basilar-ty",
                    "Familial h",
                    "Other",
                    "Familial h",
                    "Familial h",
                    "Other",
                    "Other",
                    "Basilar-ty",
                    "Other",
                    "Sporadic h",
                    "Familial h",
                    "Basilar-ty",
                    "Sporadic h",
                    "Sporadic h",
                    "Sporadic h",
                    "Familial h",
                    "Familial h",
                    "Familial h",
                    "Familial h",
                    "Migraine w",
                    "Familial h",
                    "Familial h",
                    "Migraine w",
                    "Familial h",
                    "Familial h",
                    "Familial h",
                    "Familial h",
                    "Familial h",
                    "Migraine w",
                    "Sporadic h",
                    "Sporadic h",
                    "Familial h",
                    "Familial h",
                    "Familial h",
                    "Migraine w",
                    "Familial h",
                    "Sporadic h",
                    "Sporadic h",
                    "Sporadic h",
                    "Other",
                    "Other",
                    "Other",
                    "Basilar-ty",
                    "Other",
                    "Other",
                    "Other",
                    "Basilar-ty",
                    "Basilar-ty",
                    "Other",
                    "Basilar-ty",
                    "Other",
                    "Other",
                    "Other",
                    "Other",
                    "Basilar-ty",
                    "Other",
                    "Other",
                    "Basilar-ty",
                    "Other",
                    "Other",
                    "Other",
                    "Other",
                    "Other",
                    "Familial h",
                    "Basilar-ty",
                    "Basilar-ty",
                    "Familial h",
                    "Basilar-ty",
                    "Basilar-ty",
                    "Other",
                    "Basilar-ty",
                    "Familial h",
                    "Basilar-ty",
                    "Basilar-ty",
                    "Basilar-ty",
                    "Familial h",
                    "Basilar-ty",
                    "Other",
                    "Basilar-ty",
                    "Basilar-ty",
                    "Other",
                    "Familial h",
                    "Other",
                    "Basilar-ty",
                    "Familial h",
                    "Basilar-ty",
                    "Other",
                    "Familial h",
                    "Familial h",
                    "Other",
                    "Other",
                    "Basilar-ty",
                    "Other",
                    "Basilar-ty",
                    "Other",
                    "Familial h",
                    "Typical au",
                    "Sporadic h",
                    "Sporadic h",
                    "Other",
                    "Familial h",
                    "Familial h",
                    "Familial h",
                    "Other",
                    "Familial h",
                    "Other",
                    "Sporadic h",
                    "Other",
                    "Other",
                    "Familial h",
                    "Familial h",
                    "Other",
                    "Basilar-ty",
                    "Basilar-ty",
                    "Basilar-ty",
                    "Other",
                    "Basilar-ty",
                    "Other",
                    "Basilar-ty",
                    "Other",
                    "Basilar-ty",
                    "Typical au",
                    "Typical au",
                    "Typical au",
                    "Familial h",
                    "Familial h",
                    "Migraine w",
                    "Migraine w",
                    "Sporadic h",
                    "Familial h",
                    "Familial h",
                    "Familial h",
                    "Sporadic h",
                    "Familial h",
                    "Familial h",
                    "Familial h",
                    "Familial h",
                    "Familial h",
                    "Sporadic h",
                    "Migraine w",
                    "Familial h",
                    "Familial h",
                    "Migraine w",
                    "Migraine w",
                    "Migraine w",
                    "Sporadic h",
                    "Other",
                    "Sporadic h",
                    "Familial h",
                    "Sporadic h",
                    "Familial h",
                    "Familial h",
                    "Familial h",
                    "Sporadic h",
                    "Sporadic h",
                    "Migraine w",
                    "Familial h",
                    "Familial h",
                    "Familial h",
                    "Sporadic h",
                    "Familial h",
                    "Familial h",
                    "Familial h",
                    "Sporadic h",
                    "Other",
                    "Familial h",
                    "Migraine w",
                    "Other",
                    "Familial h",
                    "Sporadic h",
                    "Sporadic h",
                    "Other",
                    "Sporadic h",
                    "Other",
                    "Familial h",
                    "Familial h",
                    "Familial h",
                    "Sporadic h",
                    "Familial h",
                    "Sporadic h",
                    "Familial h",
                    "Migraine w",
                    "Familial h",
                    "Sporadic h",
                    "Familial h",
                    "Sporadic h",
                    "Familial h",
                    "Familial h",
                    "Other",
                    "Familial h",
                    "Familial h",
                    "Familial h",
                    "Migraine w"
                  ],
                  "x": [
                    0.0588,
                    0.0588,
                    0.098,
                    0.1373,
                    0.0588,
                    0.0588,
                    0.0588,
                    0.0588,
                    0.0588,
                    0.0588,
                    0.0588,
                    0.0588,
                    0.0588,
                    0.0588,
                    0.0588,
                    0.0588,
                    0.0588,
                    0.0588,
                    0.0588,
                    0.098,
                    0.0588,
                    0.0588,
                    0.0588,
                    0.0588,
                    0.0588,
                    0.0588,
                    0.0588,
                    0.1569,
                    0.0588,
                    0.0588,
                    0.0588,
                    0.1176,
                    0.0588,
                    0.0588,
                    0.0588,
                    0.0588,
                    0.0588,
                    0.2353,
                    0.0588,
                    0.0588,
                    0.0784,
                    0.0588,
                    0.0588,
                    0.1569,
                    0.0588,
                    0.0784,
                    0.0784,
                    0.0784,
                    0.0588,
                    0.0784,
                    0.0784,
                    0.0588,
                    0.0588,
                    0.0784,
                    0.0588,
                    0.0588,
                    0.0784,
                    0.0784,
                    0.0784,
                    0.0784,
                    0.1176,
                    0.0784,
                    0.0588,
                    0.0784,
                    0.1176,
                    0.0588,
                    0.0588,
                    0.0588,
                    0.1176,
                    0.0588,
                    0.0588,
                    0.1176,
                    0.0588,
                    0.1176,
                    0.0588,
                    0.0588,
                    0.0588,
                    0.0588,
                    0.0588,
                    0.0588,
                    0.0588,
                    0.0588,
                    0.0588,
                    0.0588,
                    0.0588,
                    0.0588,
                    0.0588,
                    0.0588,
                    0.0588,
                    0.0588,
                    0.0784,
                    0.0784,
                    0.0588,
                    0.0588,
                    0.0588,
                    0.0588,
                    0.0588,
                    0.0588,
                    0.2157,
                    0.0588,
                    0.0588,
                    0.0588,
                    0.0784,
                    0.0784,
                    0.0588,
                    0.0588,
                    0.0588,
                    0.0588,
                    0.0588,
                    0.0588,
                    0.0588,
                    0.0588,
                    0.2549,
                    0.0588,
                    0.0588,
                    0.0588,
                    0.1961,
                    0.0588,
                    0.0588,
                    0.0588,
                    0.0588,
                    0.0588,
                    0.0588,
                    0.0588,
                    0.2549,
                    0.1569,
                    0.2941,
                    0.1373,
                    0.0588,
                    0.0588,
                    0.0588,
                    0.0588,
                    0.0588,
                    0.0588,
                    0.0588,
                    0.0588,
                    0.0588,
                    0.0588,
                    0.0588,
                    0.0588,
                    0.0588,
                    0.1176,
                    0.0588,
                    0.0588,
                    0.0588,
                    0.0588,
                    0.1176,
                    0.0588,
                    0.0588,
                    0.0588,
                    0.0588,
                    0.1373,
                    0.0784,
                    0.0588,
                    0.0588,
                    0.0588,
                    0.0588,
                    0.0588,
                    0.0588,
                    0.0784,
                    0.0784,
                    0.0588,
                    0.098,
                    0.0588,
                    0.0588,
                    0.0784,
                    0.549,
                    0.1373,
                    0.1373,
                    0.1373,
                    0.1176,
                    0.1176,
                    0.1176,
                    0.1176,
                    0.1176,
                    0.1176,
                    0.1176,
                    0.1176,
                    0.1176,
                    0.2157,
                    0.2157,
                    0.2157,
                    0.098,
                    0.098,
                    0.098,
                    0.1569,
                    0.0784,
                    0.0784,
                    0.0784,
                    0.0784,
                    0.0784,
                    0.0784,
                    0.0784,
                    0.0784,
                    0.0784,
                    0.0784,
                    0.1569,
                    0.0784,
                    0.0784,
                    0.0784,
                    0.0784,
                    0.1569,
                    0.0784,
                    0.2353,
                    0.2353,
                    0.2353,
                    0.0588,
                    0.1176,
                    0.0588,
                    0.0588,
                    0.0588,
                    0.0588,
                    0.1176,
                    0.0588,
                    0.0588,
                    0.0588,
                    0.0588,
                    0.0588,
                    0.0588,
                    0.0588,
                    0.0588,
                    0.0588,
                    0.0588,
                    0.0588,
                    0.0588,
                    0.0588,
                    0.0588,
                    0.0588,
                    0.0588,
                    0.0588,
                    0.0588,
                    0.0588,
                    0.0588,
                    0.0588,
                    0.0588,
                    0.0588,
                    0.0588,
                    0.0588,
                    0.0588,
                    0.0588,
                    0.0588,
                    0.0588,
                    0.0588,
                    0.0588,
                    0.0588,
                    0.1176,
                    0.0588,
                    0.0588,
                    0.0588,
                    0.0588,
                    0.0588,
                    0.0588,
                    0.0588,
                    0.0588,
                    0.0588,
                    0.0588,
                    0.0588,
                    0.0588,
                    0.0588,
                    0.0588,
                    0.0588,
                    0.0588,
                    0.0588,
                    0.0588,
                    0.0588,
                    0.0588,
                    0.0588,
                    0.0588,
                    0.0588,
                    0.0588,
                    0.0588,
                    0.0588,
                    0.0588,
                    0.1176,
                    0.0588,
                    0.0588,
                    0.1176,
                    0.0588,
                    0.1176,
                    0.0588,
                    0.1176,
                    0.0588,
                    0.0588,
                    0.0588,
                    0.0588,
                    0.1176,
                    0.0588,
                    0.0588,
                    0.0588,
                    0.0588,
                    0.0588,
                    0.0588,
                    0.0588,
                    0.0588,
                    0.0588,
                    0.0588,
                    0.0588,
                    0.0588,
                    0.1176,
                    0.0588,
                    0.0588,
                    0.0588,
                    0.0588,
                    0.1176,
                    0.0588,
                    0.0588,
                    0.1176,
                    0.0588,
                    0.0588,
                    0.0588,
                    0.0588,
                    0.0588,
                    0.0588,
                    0.0588,
                    0.0588,
                    0.0588,
                    0.0588,
                    0.0588,
                    0.0588,
                    0.1176,
                    0.1176,
                    0.0588,
                    0.0588,
                    0.1176,
                    0.0588,
                    0.0588,
                    0.0588,
                    0.0588,
                    0.0588,
                    0.1176,
                    0.1176,
                    0.1176,
                    0.0588,
                    0.0588,
                    0.0588,
                    0.1176,
                    0.0588,
                    0.0588,
                    0.098,
                    0.098,
                    0.098,
                    0.1373,
                    0.1373,
                    0.1373,
                    0.0784,
                    0.0784,
                    0.0784,
                    0.0784,
                    0.0784,
                    0.0784,
                    0.0784,
                    0.0784,
                    0.0784,
                    0.0784,
                    0.0784,
                    0.0784,
                    0.0784,
                    0.0784,
                    0.0784,
                    0.0784,
                    0.0784,
                    0.0784,
                    0.098,
                    0.098,
                    0.098,
                    0.1569,
                    0.1569,
                    0.1569,
                    0.0588,
                    0.0588,
                    0.0588,
                    0.0588,
                    0.0588,
                    0.0588,
                    0.0588,
                    0.0588,
                    0.0588,
                    0.0588,
                    0.0588,
                    0.0588,
                    0.0588,
                    0.0588,
                    0.0588,
                    0.0588,
                    0.0588,
                    0.0588,
                    0.0588,
                    0.0588,
                    0.0588,
                    0.1176,
                    0.0588,
                    0.0588,
                    0.1176,
                    0.0588,
                    0.0588,
                    0.0588,
                    0.0588,
                    0.1176,
                    0.0588,
                    0.0588,
                    0.0588,
                    0.1176,
                    0.0588,
                    0.0588,
                    0.0588,
                    0.0588,
                    0.0588,
                    0.1176,
                    0.0588,
                    0.0588,
                    0.1176,
                    0.0588,
                    0.0588,
                    0.1176,
                    0.1176,
                    0.0588,
                    0.0588,
                    0.0588,
                    0.0588,
                    0.0588,
                    0.0588,
                    0.1176,
                    0.549,
                    0.0784,
                    0.0784,
                    0.0784,
                    0.0784,
                    0.0784,
                    0.0784,
                    0.0784,
                    0.0784,
                    0.0784,
                    0.0784,
                    0.0784,
                    0.0784,
                    0.0784,
                    0.0784,
                    0.0784,
                    0.1176,
                    0.1176,
                    0.1176,
                    0.1373,
                    0.1373,
                    0.1373,
                    0.1373,
                    0.1373,
                    0.1373,
                    0.1569,
                    0.1569,
                    0.1569,
                    0.0588,
                    0.0588,
                    0.1176,
                    0.1176,
                    0.0784,
                    0.0588,
                    0.0588,
                    0.0588,
                    0.0784,
                    0.0588,
                    0.0588,
                    0.0588,
                    0.0588,
                    0.0588,
                    0.0784,
                    0.0588,
                    0.0588,
                    0.0588,
                    0.0588,
                    0.0588,
                    0.0588,
                    0.0784,
                    0.0588,
                    0.0784,
                    0.0784,
                    0.0784,
                    0.0588,
                    0.0784,
                    0.0784,
                    0.0784,
                    0.0784,
                    0.0588,
                    0.0588,
                    0.0784,
                    0.0588,
                    0.0784,
                    0.0588,
                    0.0784,
                    0.0588,
                    0.0784,
                    0.0588,
                    0.0588,
                    0.1176,
                    0.0588,
                    0.0784,
                    0.0588,
                    0.0588,
                    0.0588,
                    0.0784,
                    0.0588,
                    0.0588,
                    0.0588,
                    0.0588,
                    0.0784,
                    0.0588,
                    0.0784,
                    0.0588,
                    0.0588,
                    0.0588,
                    0.0784,
                    0.0588,
                    0.0784,
                    0.0588,
                    0.0588,
                    0.0588,
                    0.0588,
                    0.0588,
                    0.0588,
                    0.0588
                  ],
                  "xaxis": "x",
                  "y": [
                    1,
                    1,
                    1,
                    1,
                    1,
                    1,
                    1,
                    1,
                    1,
                    1,
                    1,
                    1,
                    1,
                    1,
                    1,
                    1,
                    1,
                    1,
                    1,
                    1,
                    1,
                    1,
                    1,
                    1,
                    1,
                    1,
                    1,
                    1,
                    1,
                    1,
                    1,
                    1,
                    1,
                    1,
                    1,
                    1,
                    1,
                    1,
                    1,
                    1,
                    1,
                    1,
                    1,
                    1,
                    1,
                    1,
                    1,
                    1,
                    1,
                    1,
                    1,
                    1,
                    1,
                    1,
                    1,
                    1,
                    1,
                    1,
                    1,
                    1,
                    1,
                    1,
                    1,
                    1,
                    1,
                    1,
                    1,
                    1,
                    1,
                    1,
                    1,
                    1,
                    1,
                    1,
                    1,
                    1,
                    1,
                    1,
                    1,
                    1,
                    1,
                    1,
                    1,
                    1,
                    1,
                    1,
                    1,
                    1,
                    1,
                    1,
                    1,
                    1,
                    1,
                    1,
                    1,
                    1,
                    1,
                    1,
                    1,
                    1,
                    1,
                    1,
                    1,
                    1,
                    1,
                    1,
                    1,
                    1,
                    1,
                    1,
                    1,
                    1,
                    1,
                    1,
                    1,
                    1,
                    1,
                    1,
                    1,
                    1,
                    1,
                    1,
                    1,
                    1,
                    1,
                    1,
                    1,
                    1,
                    1,
                    1,
                    1,
                    1,
                    1,
                    1,
                    1,
                    1,
                    1,
                    1,
                    1,
                    1,
                    1,
                    1,
                    1,
                    1,
                    1,
                    1,
                    1,
                    1,
                    1,
                    1,
                    1,
                    1,
                    1,
                    1,
                    1,
                    1,
                    1,
                    1,
                    1,
                    1,
                    1,
                    1,
                    1,
                    1,
                    1,
                    1,
                    0.9032,
                    0.875,
                    0.875,
                    0.875,
                    0.8571,
                    0.8571,
                    0.8571,
                    0.8571,
                    0.8571,
                    0.8571,
                    0.8571,
                    0.8571,
                    0.8571,
                    0.8462,
                    0.8462,
                    0.8462,
                    0.8333,
                    0.8333,
                    0.8333,
                    0.8,
                    0.8,
                    0.8,
                    0.8,
                    0.8,
                    0.8,
                    0.8,
                    0.8,
                    0.8,
                    0.8,
                    0.8,
                    0.8,
                    0.8,
                    0.8,
                    0.8,
                    0.8,
                    0.8,
                    0.8,
                    0.8,
                    0.8,
                    0.8,
                    0.75,
                    0.75,
                    0.75,
                    0.75,
                    0.75,
                    0.75,
                    0.75,
                    0.75,
                    0.75,
                    0.75,
                    0.75,
                    0.75,
                    0.75,
                    0.75,
                    0.75,
                    0.75,
                    0.75,
                    0.75,
                    0.75,
                    0.75,
                    0.75,
                    0.75,
                    0.75,
                    0.75,
                    0.75,
                    0.75,
                    0.75,
                    0.75,
                    0.75,
                    0.75,
                    0.75,
                    0.75,
                    0.75,
                    0.75,
                    0.75,
                    0.75,
                    0.75,
                    0.75,
                    0.75,
                    0.75,
                    0.75,
                    0.75,
                    0.75,
                    0.75,
                    0.75,
                    0.75,
                    0.75,
                    0.75,
                    0.75,
                    0.75,
                    0.75,
                    0.75,
                    0.75,
                    0.75,
                    0.75,
                    0.75,
                    0.75,
                    0.75,
                    0.75,
                    0.75,
                    0.75,
                    0.75,
                    0.75,
                    0.75,
                    0.75,
                    0.75,
                    0.75,
                    0.75,
                    0.75,
                    0.75,
                    0.75,
                    0.75,
                    0.75,
                    0.75,
                    0.75,
                    0.75,
                    0.75,
                    0.75,
                    0.75,
                    0.75,
                    0.75,
                    0.75,
                    0.75,
                    0.75,
                    0.75,
                    0.75,
                    0.75,
                    0.75,
                    0.75,
                    0.75,
                    0.75,
                    0.75,
                    0.75,
                    0.75,
                    0.75,
                    0.75,
                    0.75,
                    0.75,
                    0.75,
                    0.75,
                    0.75,
                    0.75,
                    0.75,
                    0.75,
                    0.75,
                    0.75,
                    0.75,
                    0.75,
                    0.75,
                    0.75,
                    0.75,
                    0.75,
                    0.75,
                    0.75,
                    0.75,
                    0.75,
                    0.75,
                    0.75,
                    0.75,
                    0.75,
                    0.75,
                    0.75,
                    0.75,
                    0.75,
                    0.75,
                    0.75,
                    0.75,
                    0.75,
                    0.75,
                    0.75,
                    0.75,
                    0.75,
                    0.7143,
                    0.7143,
                    0.7143,
                    0.7,
                    0.7,
                    0.7,
                    0.6667,
                    0.6667,
                    0.6667,
                    0.6667,
                    0.6667,
                    0.6667,
                    0.6667,
                    0.6667,
                    0.6667,
                    0.6667,
                    0.6667,
                    0.6667,
                    0.6667,
                    0.6667,
                    0.6667,
                    0.6667,
                    0.6667,
                    0.6667,
                    0.625,
                    0.625,
                    0.625,
                    0.6154,
                    0.6154,
                    0.6154,
                    0.6,
                    0.6,
                    0.6,
                    0.6,
                    0.6,
                    0.6,
                    0.6,
                    0.6,
                    0.6,
                    0.6,
                    0.6,
                    0.6,
                    0.6,
                    0.6,
                    0.6,
                    0.6,
                    0.6,
                    0.6,
                    0.6,
                    0.6,
                    0.6,
                    0.6,
                    0.6,
                    0.6,
                    0.6,
                    0.6,
                    0.6,
                    0.6,
                    0.6,
                    0.6,
                    0.6,
                    0.6,
                    0.6,
                    0.6,
                    0.6,
                    0.6,
                    0.6,
                    0.6,
                    0.6,
                    0.6,
                    0.6,
                    0.6,
                    0.6,
                    0.6,
                    0.6,
                    0.6,
                    0.6,
                    0.6,
                    0.6,
                    0.6,
                    0.6,
                    0.6,
                    0.6,
                    0.6,
                    0.5833,
                    0.5714,
                    0.5714,
                    0.5714,
                    0.5714,
                    0.5714,
                    0.5714,
                    0.5714,
                    0.5714,
                    0.5714,
                    0.5714,
                    0.5714,
                    0.5714,
                    0.5714,
                    0.5714,
                    0.5714,
                    0.5455,
                    0.5455,
                    0.5455,
                    0.5385,
                    0.5385,
                    0.5385,
                    0.5385,
                    0.5385,
                    0.5385,
                    0.5333,
                    0.5333,
                    0.5333,
                    0.5,
                    0.5,
                    0.5,
                    0.5,
                    0.5,
                    0.5,
                    0.5,
                    0.5,
                    0.5,
                    0.5,
                    0.5,
                    0.5,
                    0.5,
                    0.5,
                    0.5,
                    0.5,
                    0.5,
                    0.5,
                    0.5,
                    0.5,
                    0.5,
                    0.5,
                    0.5,
                    0.5,
                    0.5,
                    0.5,
                    0.5,
                    0.5,
                    0.5,
                    0.5,
                    0.5,
                    0.5,
                    0.5,
                    0.5,
                    0.5,
                    0.5,
                    0.5,
                    0.5,
                    0.5,
                    0.5,
                    0.5,
                    0.5,
                    0.5,
                    0.5,
                    0.5,
                    0.5,
                    0.5,
                    0.5,
                    0.5,
                    0.5,
                    0.5,
                    0.5,
                    0.5,
                    0.5,
                    0.5,
                    0.5,
                    0.5,
                    0.5,
                    0.5,
                    0.5,
                    0.5,
                    0.5,
                    0.5,
                    0.5,
                    0.5,
                    0.5,
                    0.5,
                    0.5,
                    0.5
                  ],
                  "yaxis": "y",
                  "type": "scatter",
                  "textposition": "top center"
                }
              ],
              "layout": {
                "template": {
                  "data": {
                    "histogram2dcontour": [
                      {
                        "type": "histogram2dcontour",
                        "colorbar": {
                          "outlinewidth": 0,
                          "ticks": ""
                        },
                        "colorscale": [
                          [
                            0,
                            "#0d0887"
                          ],
                          [
                            0.1111111111111111,
                            "#46039f"
                          ],
                          [
                            0.2222222222222222,
                            "#7201a8"
                          ],
                          [
                            0.3333333333333333,
                            "#9c179e"
                          ],
                          [
                            0.4444444444444444,
                            "#bd3786"
                          ],
                          [
                            0.5555555555555556,
                            "#d8576b"
                          ],
                          [
                            0.6666666666666666,
                            "#ed7953"
                          ],
                          [
                            0.7777777777777778,
                            "#fb9f3a"
                          ],
                          [
                            0.8888888888888888,
                            "#fdca26"
                          ],
                          [
                            1,
                            "#f0f921"
                          ]
                        ]
                      }
                    ],
                    "choropleth": [
                      {
                        "type": "choropleth",
                        "colorbar": {
                          "outlinewidth": 0,
                          "ticks": ""
                        }
                      }
                    ],
                    "histogram2d": [
                      {
                        "type": "histogram2d",
                        "colorbar": {
                          "outlinewidth": 0,
                          "ticks": ""
                        },
                        "colorscale": [
                          [
                            0,
                            "#0d0887"
                          ],
                          [
                            0.1111111111111111,
                            "#46039f"
                          ],
                          [
                            0.2222222222222222,
                            "#7201a8"
                          ],
                          [
                            0.3333333333333333,
                            "#9c179e"
                          ],
                          [
                            0.4444444444444444,
                            "#bd3786"
                          ],
                          [
                            0.5555555555555556,
                            "#d8576b"
                          ],
                          [
                            0.6666666666666666,
                            "#ed7953"
                          ],
                          [
                            0.7777777777777778,
                            "#fb9f3a"
                          ],
                          [
                            0.8888888888888888,
                            "#fdca26"
                          ],
                          [
                            1,
                            "#f0f921"
                          ]
                        ]
                      }
                    ],
                    "heatmap": [
                      {
                        "type": "heatmap",
                        "colorbar": {
                          "outlinewidth": 0,
                          "ticks": ""
                        },
                        "colorscale": [
                          [
                            0,
                            "#0d0887"
                          ],
                          [
                            0.1111111111111111,
                            "#46039f"
                          ],
                          [
                            0.2222222222222222,
                            "#7201a8"
                          ],
                          [
                            0.3333333333333333,
                            "#9c179e"
                          ],
                          [
                            0.4444444444444444,
                            "#bd3786"
                          ],
                          [
                            0.5555555555555556,
                            "#d8576b"
                          ],
                          [
                            0.6666666666666666,
                            "#ed7953"
                          ],
                          [
                            0.7777777777777778,
                            "#fb9f3a"
                          ],
                          [
                            0.8888888888888888,
                            "#fdca26"
                          ],
                          [
                            1,
                            "#f0f921"
                          ]
                        ]
                      }
                    ],
                    "heatmapgl": [
                      {
                        "type": "heatmapgl",
                        "colorbar": {
                          "outlinewidth": 0,
                          "ticks": ""
                        },
                        "colorscale": [
                          [
                            0,
                            "#0d0887"
                          ],
                          [
                            0.1111111111111111,
                            "#46039f"
                          ],
                          [
                            0.2222222222222222,
                            "#7201a8"
                          ],
                          [
                            0.3333333333333333,
                            "#9c179e"
                          ],
                          [
                            0.4444444444444444,
                            "#bd3786"
                          ],
                          [
                            0.5555555555555556,
                            "#d8576b"
                          ],
                          [
                            0.6666666666666666,
                            "#ed7953"
                          ],
                          [
                            0.7777777777777778,
                            "#fb9f3a"
                          ],
                          [
                            0.8888888888888888,
                            "#fdca26"
                          ],
                          [
                            1,
                            "#f0f921"
                          ]
                        ]
                      }
                    ],
                    "contourcarpet": [
                      {
                        "type": "contourcarpet",
                        "colorbar": {
                          "outlinewidth": 0,
                          "ticks": ""
                        }
                      }
                    ],
                    "contour": [
                      {
                        "type": "contour",
                        "colorbar": {
                          "outlinewidth": 0,
                          "ticks": ""
                        },
                        "colorscale": [
                          [
                            0,
                            "#0d0887"
                          ],
                          [
                            0.1111111111111111,
                            "#46039f"
                          ],
                          [
                            0.2222222222222222,
                            "#7201a8"
                          ],
                          [
                            0.3333333333333333,
                            "#9c179e"
                          ],
                          [
                            0.4444444444444444,
                            "#bd3786"
                          ],
                          [
                            0.5555555555555556,
                            "#d8576b"
                          ],
                          [
                            0.6666666666666666,
                            "#ed7953"
                          ],
                          [
                            0.7777777777777778,
                            "#fb9f3a"
                          ],
                          [
                            0.8888888888888888,
                            "#fdca26"
                          ],
                          [
                            1,
                            "#f0f921"
                          ]
                        ]
                      }
                    ],
                    "surface": [
                      {
                        "type": "surface",
                        "colorbar": {
                          "outlinewidth": 0,
                          "ticks": ""
                        },
                        "colorscale": [
                          [
                            0,
                            "#0d0887"
                          ],
                          [
                            0.1111111111111111,
                            "#46039f"
                          ],
                          [
                            0.2222222222222222,
                            "#7201a8"
                          ],
                          [
                            0.3333333333333333,
                            "#9c179e"
                          ],
                          [
                            0.4444444444444444,
                            "#bd3786"
                          ],
                          [
                            0.5555555555555556,
                            "#d8576b"
                          ],
                          [
                            0.6666666666666666,
                            "#ed7953"
                          ],
                          [
                            0.7777777777777778,
                            "#fb9f3a"
                          ],
                          [
                            0.8888888888888888,
                            "#fdca26"
                          ],
                          [
                            1,
                            "#f0f921"
                          ]
                        ]
                      }
                    ],
                    "mesh3d": [
                      {
                        "type": "mesh3d",
                        "colorbar": {
                          "outlinewidth": 0,
                          "ticks": ""
                        }
                      }
                    ],
                    "scatter": [
                      {
                        "fillpattern": {
                          "fillmode": "overlay",
                          "size": 10,
                          "solidity": 0.2
                        },
                        "type": "scatter"
                      }
                    ],
                    "parcoords": [
                      {
                        "type": "parcoords",
                        "line": {
                          "colorbar": {
                            "outlinewidth": 0,
                            "ticks": ""
                          }
                        }
                      }
                    ],
                    "scatterpolargl": [
                      {
                        "type": "scatterpolargl",
                        "marker": {
                          "colorbar": {
                            "outlinewidth": 0,
                            "ticks": ""
                          }
                        }
                      }
                    ],
                    "bar": [
                      {
                        "error_x": {
                          "color": "#2a3f5f"
                        },
                        "error_y": {
                          "color": "#2a3f5f"
                        },
                        "marker": {
                          "line": {
                            "color": "#E5ECF6",
                            "width": 0.5
                          },
                          "pattern": {
                            "fillmode": "overlay",
                            "size": 10,
                            "solidity": 0.2
                          }
                        },
                        "type": "bar"
                      }
                    ],
                    "scattergeo": [
                      {
                        "type": "scattergeo",
                        "marker": {
                          "colorbar": {
                            "outlinewidth": 0,
                            "ticks": ""
                          }
                        }
                      }
                    ],
                    "scatterpolar": [
                      {
                        "type": "scatterpolar",
                        "marker": {
                          "colorbar": {
                            "outlinewidth": 0,
                            "ticks": ""
                          }
                        }
                      }
                    ],
                    "histogram": [
                      {
                        "marker": {
                          "pattern": {
                            "fillmode": "overlay",
                            "size": 10,
                            "solidity": 0.2
                          }
                        },
                        "type": "histogram"
                      }
                    ],
                    "scattergl": [
                      {
                        "type": "scattergl",
                        "marker": {
                          "colorbar": {
                            "outlinewidth": 0,
                            "ticks": ""
                          }
                        }
                      }
                    ],
                    "scatter3d": [
                      {
                        "type": "scatter3d",
                        "line": {
                          "colorbar": {
                            "outlinewidth": 0,
                            "ticks": ""
                          }
                        },
                        "marker": {
                          "colorbar": {
                            "outlinewidth": 0,
                            "ticks": ""
                          }
                        }
                      }
                    ],
                    "scattermapbox": [
                      {
                        "type": "scattermapbox",
                        "marker": {
                          "colorbar": {
                            "outlinewidth": 0,
                            "ticks": ""
                          }
                        }
                      }
                    ],
                    "scatterternary": [
                      {
                        "type": "scatterternary",
                        "marker": {
                          "colorbar": {
                            "outlinewidth": 0,
                            "ticks": ""
                          }
                        }
                      }
                    ],
                    "scattercarpet": [
                      {
                        "type": "scattercarpet",
                        "marker": {
                          "colorbar": {
                            "outlinewidth": 0,
                            "ticks": ""
                          }
                        }
                      }
                    ],
                    "carpet": [
                      {
                        "aaxis": {
                          "endlinecolor": "#2a3f5f",
                          "gridcolor": "white",
                          "linecolor": "white",
                          "minorgridcolor": "white",
                          "startlinecolor": "#2a3f5f"
                        },
                        "baxis": {
                          "endlinecolor": "#2a3f5f",
                          "gridcolor": "white",
                          "linecolor": "white",
                          "minorgridcolor": "white",
                          "startlinecolor": "#2a3f5f"
                        },
                        "type": "carpet"
                      }
                    ],
                    "table": [
                      {
                        "cells": {
                          "fill": {
                            "color": "#EBF0F8"
                          },
                          "line": {
                            "color": "white"
                          }
                        },
                        "header": {
                          "fill": {
                            "color": "#C8D4E3"
                          },
                          "line": {
                            "color": "white"
                          }
                        },
                        "type": "table"
                      }
                    ],
                    "barpolar": [
                      {
                        "marker": {
                          "line": {
                            "color": "#E5ECF6",
                            "width": 0.5
                          },
                          "pattern": {
                            "fillmode": "overlay",
                            "size": 10,
                            "solidity": 0.2
                          }
                        },
                        "type": "barpolar"
                      }
                    ],
                    "pie": [
                      {
                        "automargin": true,
                        "type": "pie"
                      }
                    ]
                  },
                  "layout": {
                    "autotypenumbers": "strict",
                    "colorway": [
                      "#636efa",
                      "#EF553B",
                      "#00cc96",
                      "#ab63fa",
                      "#FFA15A",
                      "#19d3f3",
                      "#FF6692",
                      "#B6E880",
                      "#FF97FF",
                      "#FECB52"
                    ],
                    "font": {
                      "color": "#2a3f5f"
                    },
                    "hovermode": "closest",
                    "hoverlabel": {
                      "align": "left"
                    },
                    "paper_bgcolor": "white",
                    "plot_bgcolor": "#E5ECF6",
                    "polar": {
                      "bgcolor": "#E5ECF6",
                      "angularaxis": {
                        "gridcolor": "white",
                        "linecolor": "white",
                        "ticks": ""
                      },
                      "radialaxis": {
                        "gridcolor": "white",
                        "linecolor": "white",
                        "ticks": ""
                      }
                    },
                    "ternary": {
                      "bgcolor": "#E5ECF6",
                      "aaxis": {
                        "gridcolor": "white",
                        "linecolor": "white",
                        "ticks": ""
                      },
                      "baxis": {
                        "gridcolor": "white",
                        "linecolor": "white",
                        "ticks": ""
                      },
                      "caxis": {
                        "gridcolor": "white",
                        "linecolor": "white",
                        "ticks": ""
                      }
                    },
                    "coloraxis": {
                      "colorbar": {
                        "outlinewidth": 0,
                        "ticks": ""
                      }
                    },
                    "colorscale": {
                      "sequential": [
                        [
                          0,
                          "#0d0887"
                        ],
                        [
                          0.1111111111111111,
                          "#46039f"
                        ],
                        [
                          0.2222222222222222,
                          "#7201a8"
                        ],
                        [
                          0.3333333333333333,
                          "#9c179e"
                        ],
                        [
                          0.4444444444444444,
                          "#bd3786"
                        ],
                        [
                          0.5555555555555556,
                          "#d8576b"
                        ],
                        [
                          0.6666666666666666,
                          "#ed7953"
                        ],
                        [
                          0.7777777777777778,
                          "#fb9f3a"
                        ],
                        [
                          0.8888888888888888,
                          "#fdca26"
                        ],
                        [
                          1,
                          "#f0f921"
                        ]
                      ],
                      "sequentialminus": [
                        [
                          0,
                          "#0d0887"
                        ],
                        [
                          0.1111111111111111,
                          "#46039f"
                        ],
                        [
                          0.2222222222222222,
                          "#7201a8"
                        ],
                        [
                          0.3333333333333333,
                          "#9c179e"
                        ],
                        [
                          0.4444444444444444,
                          "#bd3786"
                        ],
                        [
                          0.5555555555555556,
                          "#d8576b"
                        ],
                        [
                          0.6666666666666666,
                          "#ed7953"
                        ],
                        [
                          0.7777777777777778,
                          "#fb9f3a"
                        ],
                        [
                          0.8888888888888888,
                          "#fdca26"
                        ],
                        [
                          1,
                          "#f0f921"
                        ]
                      ],
                      "diverging": [
                        [
                          0,
                          "#8e0152"
                        ],
                        [
                          0.1,
                          "#c51b7d"
                        ],
                        [
                          0.2,
                          "#de77ae"
                        ],
                        [
                          0.3,
                          "#f1b6da"
                        ],
                        [
                          0.4,
                          "#fde0ef"
                        ],
                        [
                          0.5,
                          "#f7f7f7"
                        ],
                        [
                          0.6,
                          "#e6f5d0"
                        ],
                        [
                          0.7,
                          "#b8e186"
                        ],
                        [
                          0.8,
                          "#7fbc41"
                        ],
                        [
                          0.9,
                          "#4d9221"
                        ],
                        [
                          1,
                          "#276419"
                        ]
                      ]
                    },
                    "xaxis": {
                      "gridcolor": "white",
                      "linecolor": "white",
                      "ticks": "",
                      "title": {
                        "standoff": 15
                      },
                      "zerolinecolor": "white",
                      "automargin": true,
                      "zerolinewidth": 2
                    },
                    "yaxis": {
                      "gridcolor": "white",
                      "linecolor": "white",
                      "ticks": "",
                      "title": {
                        "standoff": 15
                      },
                      "zerolinecolor": "white",
                      "automargin": true,
                      "zerolinewidth": 2
                    },
                    "scene": {
                      "xaxis": {
                        "backgroundcolor": "#E5ECF6",
                        "gridcolor": "white",
                        "linecolor": "white",
                        "showbackground": true,
                        "ticks": "",
                        "zerolinecolor": "white",
                        "gridwidth": 2
                      },
                      "yaxis": {
                        "backgroundcolor": "#E5ECF6",
                        "gridcolor": "white",
                        "linecolor": "white",
                        "showbackground": true,
                        "ticks": "",
                        "zerolinecolor": "white",
                        "gridwidth": 2
                      },
                      "zaxis": {
                        "backgroundcolor": "#E5ECF6",
                        "gridcolor": "white",
                        "linecolor": "white",
                        "showbackground": true,
                        "ticks": "",
                        "zerolinecolor": "white",
                        "gridwidth": 2
                      }
                    },
                    "shapedefaults": {
                      "line": {
                        "color": "#2a3f5f"
                      }
                    },
                    "annotationdefaults": {
                      "arrowcolor": "#2a3f5f",
                      "arrowhead": 0,
                      "arrowwidth": 1
                    },
                    "geo": {
                      "bgcolor": "white",
                      "landcolor": "#E5ECF6",
                      "subunitcolor": "white",
                      "showland": true,
                      "showlakes": true,
                      "lakecolor": "white"
                    },
                    "title": {
                      "x": 0.05
                    },
                    "mapbox": {
                      "style": "light"
                    }
                  }
                },
                "xaxis": {
                  "anchor": "y",
                  "domain": [
                    0,
                    1
                  ],
                  "title": {
                    "text": "support"
                  },
                  "type": "log"
                },
                "yaxis": {
                  "anchor": "x",
                  "domain": [
                    0,
                    1
                  ],
                  "title": {
                    "text": "confidence"
                  }
                },
                "coloraxis": {
                  "colorbar": {
                    "title": {
                      "text": "lift"
                    }
                  },
                  "colorscale": [
                    [
                      0,
                      "#0d0887"
                    ],
                    [
                      0.1111111111111111,
                      "#46039f"
                    ],
                    [
                      0.2222222222222222,
                      "#7201a8"
                    ],
                    [
                      0.3333333333333333,
                      "#9c179e"
                    ],
                    [
                      0.4444444444444444,
                      "#bd3786"
                    ],
                    [
                      0.5555555555555556,
                      "#d8576b"
                    ],
                    [
                      0.6666666666666666,
                      "#ed7953"
                    ],
                    [
                      0.7777777777777778,
                      "#fb9f3a"
                    ],
                    [
                      0.8888888888888888,
                      "#fdca26"
                    ],
                    [
                      1,
                      "#f0f921"
                    ]
                  ]
                },
                "legend": {
                  "tracegroupgap": 0
                },
                "margin": {
                  "t": 60
                },
                "plot_bgcolor": "rgb(240,240,240)",
                "title": {
                  "text": "2D Plot of Support, Confidence and Lift"
                },
                "height": 800
              },
              "config": {
                "plotlyServerURL": "https://plot.ly"
              }
            },
            "text/html": [
              "<div>                            <div id=\"b06f97c7-3a52-482d-aa80-9d01ad0d7f3e\" class=\"plotly-graph-div\" style=\"height:800px; width:100%;\"></div>            <script type=\"text/javascript\">                require([\"plotly\"], function(Plotly) {                    window.PLOTLYENV=window.PLOTLYENV || {};                                    if (document.getElementById(\"b06f97c7-3a52-482d-aa80-9d01ad0d7f3e\")) {                    Plotly.newPlot(                        \"b06f97c7-3a52-482d-aa80-9d01ad0d7f3e\",                        [{\"customdata\":[[\"Familial hemiplegic migraine\",\"Typical aura without migraine\"],[\"Familial hemiplegic migraine\",\"Basilar-type aura\"],[\"Other\",\"Typical aura with migraine\"],[\"Sporadic hemiplegic migraine\",\"Typical aura with migraine\"],[\"Familial hemiplegic migraine\",\"Typical aura with migraine\"],[\"Familial hemiplegic migraine\",\"Basilar-type aura\"],[\"Familial hemiplegic migraine\",\"Other\"],[\"Familial hemiplegic migraine\",\"Typical aura without migraine\"],[\"Familial hemiplegic migraine\",\"Typical aura with migraine\"],[\"Familial hemiplegic migraine\",\"Sporadic hemiplegic migraine\"],[\"Familial hemiplegic migraine\",\"Typical aura with migraine\"],[\"Other\",\"Typical aura with migraine\"],[\"Familial hemiplegic migraine\",\"Typical aura with migraine\"],[\"Familial hemiplegic migraine\",\"Basilar-type aura\"],[\"Familial hemiplegic migraine\",\"Sporadic hemiplegic migraine\"],[\"Familial hemiplegic migraine\",\"Other\"],[\"Familial hemiplegic migraine\",\"Typical aura without migraine\"],[\"Familial hemiplegic migraine\",\"Basilar-type aura\"],[\"Other\",\"Typical aura with migraine\"],[\"Migraine without aura\",\"Typical aura with migraine\"],[\"Familial hemiplegic migraine\",\"Basilar-type aura\"],[\"Familial hemiplegic migraine\",\"Sporadic hemiplegic migraine\"],[\"Familial hemiplegic migraine\",\"Other\"],[\"Familial hemiplegic migraine\",\"Basilar-type aura\"],[\"Familial hemiplegic migraine\",\"Typical aura without migraine\"],[\"Familial hemiplegic migraine\",\"Basilar-type aura\"],[\"Familial hemiplegic migraine\",\"Other\"],[\"Other\",\"Typical aura with migraine\"],[\"Basilar-type aura\",\"Familial hemiplegic migraine\"],[\"Familial hemiplegic migraine\",\"Sporadic hemiplegic migraine\"],[\"Familial hemiplegic migraine\",\"Basilar-type aura\"],[\"Migraine without aura\",\"Typical aura with migraine\"],[\"Familial hemiplegic migraine\",\"Basilar-type aura\"],[\"Other\",\"Familial hemiplegic migraine\"],[\"Familial hemiplegic migraine\",\"Other\"],[\"Familial hemiplegic migraine\",\"Typical aura without migraine\"],[\"Familial hemiplegic migraine\",\"Sporadic hemiplegic migraine\"],[\"Migraine without aura\",\"Typical aura with migraine\"],[\"Familial hemiplegic migraine\",\"Basilar-type aura\"],[\"Other\",\"Familial hemiplegic migraine\"],[\"Other\",\"Typical aura with migraine\"],[\"Other\",\"Typical aura with migraine\"],[\"Familial hemiplegic migraine\",\"Typical aura with migraine\"],[\"Familial hemiplegic migraine\",\"Typical aura with migraine\"],[\"Other\",\"Basilar-type aura\"],[\"Familial hemiplegic migraine\",\"Typical aura with migraine\"],[\"Familial hemiplegic migraine\",\"Typical aura without migraine\"],[\"Familial hemiplegic migraine\",\"Typical aura with migraine\"],[\"Basilar-type aura\",\"Typical aura with migraine\"],[\"Other\",\"Typical aura with migraine\"],[\"Familial hemiplegic migraine\",\"Typical aura with migraine\"],[\"Basilar-type aura\",\"Other\"],[\"Other\",\"Basilar-type aura\"],[\"Basilar-type aura\",\"Other\"],[\"Familial hemiplegic migraine\",\"Basilar-type aura\"],[\"Basilar-type aura\",\"Other\"],[\"Other\",\"Basilar-type aura\"],[\"Basilar-type aura\",\"Other\"],[\"Other\",\"Basilar-type aura\"],[\"Other\",\"Typical aura with migraine\"],[\"Other\",\"Typical aura with migraine\"],[\"Basilar-type aura\",\"Typical aura with migraine\"],[\"Basilar-type aura\",\"Typical aura with migraine\"],[\"Familial hemiplegic migraine\",\"Typical aura without migraine\"],[\"Familial hemiplegic migraine\",\"Typical aura with migraine\"],[\"Basilar-type aura\",\"Familial hemiplegic migraine\"],[\"Familial hemiplegic migraine\",\"Typical aura with migraine\"],[\"Familial hemiplegic migraine\",\"Basilar-type aura\"],[\"Familial hemiplegic migraine\",\"Typical aura with migraine\"],[\"Familial hemiplegic migraine\",\"Typical aura without migraine\"],[\"Familial hemiplegic migraine\",\"Basilar-type aura\"],[\"Familial hemiplegic migraine\",\"Typical aura with migraine\"],[\"Familial hemiplegic migraine\",\"Basilar-type aura\"],[\"Familial hemiplegic migraine\",\"Typical aura without migraine\"],[\"Familial hemiplegic migraine\",\"Typical aura with migraine\"],[\"Familial hemiplegic migraine\",\"Typical aura with migraine\"],[\"Familial hemiplegic migraine\",\"Typical aura with migraine\"],[\"Familial hemiplegic migraine\",\"Typical aura without migraine\"],[\"Familial hemiplegic migraine\",\"Sporadic hemiplegic migraine\"],[\"Other\",\"Familial hemiplegic migraine\"],[\"Familial hemiplegic migraine\",\"Sporadic hemiplegic migraine\"],[\"Familial hemiplegic migraine\",\"Sporadic hemiplegic migraine\"],[\"Familial hemiplegic migraine\",\"Sporadic hemiplegic migraine\"],[\"Familial hemiplegic migraine\",\"Typical aura without migraine\"],[\"Familial hemiplegic migraine\",\"Typical aura with migraine\"],[\"Familial hemiplegic migraine\",\"Basilar-type aura\"],[\"Familial hemiplegic migraine\",\"Basilar-type aura\"],[\"Other\",\"Typical aura without migraine\"],[\"Familial hemiplegic migraine\",\"Sporadic hemiplegic migraine\"],[\"Familial hemiplegic migraine\",\"Basilar-type aura\"],[\"Familial hemiplegic migraine\",\"Typical aura with migraine\"],[\"Familial hemiplegic migraine\",\"Typical aura without migraine\"],[\"Familial hemiplegic migraine\",\"Basilar-type aura\"],[\"Other\",\"Familial hemiplegic migraine\"],[\"Typical aura with migraine\",\"Other\"],[\"Other\",\"Typical aura with migraine\"],[\"Other\",\"Sporadic hemiplegic migraine\"],[\"Other\",\"Familial hemiplegic migraine\"],[\"Basilar-type aura\",\"Typical aura with migraine\"],[\"Other\",\"Basilar-type aura\"],[\"Other\",\"Familial hemiplegic migraine\"],[\"Familial hemiplegic migraine\",\"Sporadic hemiplegic migraine\"],[\"Other\",\"Basilar-type aura\"],[\"Basilar-type aura\",\"Other\"],[\"Familial hemiplegic migraine\",\"Basilar-type aura\"],[\"Familial hemiplegic migraine\",\"Sporadic hemiplegic migraine\"],[\"Other\",\"Familial hemiplegic migraine\"],[\"Familial hemiplegic migraine\",\"Basilar-type aura\"],[\"Familial hemiplegic migraine\",\"Basilar-type aura\"],[\"Familial hemiplegic migraine\",\"Sporadic hemiplegic migraine\"],[\"Familial hemiplegic migraine\",\"Basilar-type aura\"],[\"Familial hemiplegic migraine\",\"Other\"],[\"Basilar-type aura\",\"Typical aura with migraine\"],[\"Basilar-type aura\",\"Familial hemiplegic migraine\"],[\"Familial hemiplegic migraine\",\"Sporadic hemiplegic migraine\"],[\"Familial hemiplegic migraine\",\"Basilar-type aura\"],[\"Familial hemiplegic migraine\",\"Typical aura with migraine\"],[\"Familial hemiplegic migraine\",\"Basilar-type aura\"],[\"Other\",\"Familial hemiplegic migraine\"],[\"Familial hemiplegic migraine\",\"Basilar-type aura\"],[\"Familial hemiplegic migraine\",\"Other\"],[\"Familial hemiplegic migraine\",\"Other\"],[\"Basilar-type aura\",\"Familial hemiplegic migraine\"],[\"Familial hemiplegic migraine\",\"Typical aura with migraine\"],[\"Other\",\"Typical aura with migraine\"],[\"Sporadic hemiplegic migraine\",\"Typical aura with migraine\"],[\"Typical aura without migraine\",\"Typical aura with migraine\"],[\"Other\",\"Typical aura with migraine\"],[\"Familial hemiplegic migraine\",\"Typical aura with migraine\"],[\"Familial hemiplegic migraine\",\"Sporadic hemiplegic migraine\"],[\"Familial hemiplegic migraine\",\"Typical aura without migraine\"],[\"Familial hemiplegic migraine\",\"Typical aura with migraine\"],[\"Sporadic hemiplegic migraine\",\"Other\"],[\"Sporadic hemiplegic migraine\",\"Basilar-type aura\"],[\"Sporadic hemiplegic migraine\",\"Other\"],[\"Familial hemiplegic migraine\",\"Sporadic hemiplegic migraine\"],[\"Sporadic hemiplegic migraine\",\"Typical aura with migraine\"],[\"Sporadic hemiplegic migraine\",\"Basilar-type aura\"],[\"Familial hemiplegic migraine\",\"Typical aura with migraine\"],[\"Familial hemiplegic migraine\",\"Typical aura with migraine\"],[\"Other\",\"Typical aura with migraine\"],[\"Familial hemiplegic migraine\",\"Typical aura with migraine\"],[\"Basilar-type aura\",\"Familial hemiplegic migraine\"],[\"Familial hemiplegic migraine\",\"Typical aura with migraine\"],[\"Familial hemiplegic migraine\",\"Typical aura without migraine\"],[\"Basilar-type aura\",\"Familial hemiplegic migraine\"],[\"Familial hemiplegic migraine\",\"Typical aura without migraine\"],[\"Familial hemiplegic migraine\",\"Basilar-type aura\"],[\"Familial hemiplegic migraine\",\"Typical aura with migraine\"],[\"Other\",\"Basilar-type aura\"],[\"Other\",\"Basilar-type aura\"],[\"Familial hemiplegic migraine\",\"Typical aura with migraine\"],[\"Sporadic hemiplegic migraine\",\"Typical aura without migraine\"],[\"Familial hemiplegic migraine\",\"Typical aura without migraine\"],[\"Other\",\"Basilar-type aura\"],[\"Familial hemiplegic migraine\",\"Sporadic hemiplegic migraine\"],[\"Other\",\"Basilar-type aura\"],[\"Other\",\"Familial hemiplegic migraine\"],[\"Other\",\"Typical aura with migraine\"],[\"Sporadic hemiplegic migraine\",\"Typical aura with migraine\"],[\"Basilar-type aura\",\"Typical aura with migraine\"],[\"Basilar-type aura\",\"Other\"],[\"Basilar-type aura\",\"Typical aura with migraine\"],[\"Other\",\"Basilar-type aura\"],[\"Basilar-type aura\",\"Other\"],[\"Sporadic hemiplegic migraine\",\"Typical aura with migraine\"],[\"Migraine without aura\",\"Typical aura with migraine\"],[\"Sporadic hemiplegic migraine\",\"Typical aura without migraine\"],[\"Sporadic hemiplegic migraine\",\"Typical aura without migraine\"],[\"Sporadic hemiplegic migraine\",\"Typical aura with migraine\"],[\"Sporadic hemiplegic migraine\",\"Familial hemiplegic migraine\"],[\"Other\",\"Migraine without aura\"],[\"Sporadic hemiplegic migraine\",\"Familial hemiplegic migraine\"],[\"Familial hemiplegic migraine\",\"Typical aura without migraine\"],[\"Sporadic hemiplegic migraine\",\"Familial hemiplegic migraine\"],[\"Other\",\"Migraine without aura\"],[\"Other\",\"Migraine without aura\"],[\"Familial hemiplegic migraine\",\"Typical aura without migraine\"],[\"Familial hemiplegic migraine\",\"Typical aura with migraine\"],[\"Basilar-type aura\",\"Migraine without aura\"],[\"Basilar-type aura\",\"Migraine without aura\"],[\"Basilar-type aura\",\"Migraine without aura\"],[\"Migraine without aura\",\"Typical aura without migraine\"],[\"Migraine without aura\",\"Typical aura with migraine\"],[\"Migraine without aura\",\"Typical aura without migraine\"],[\"Familial hemiplegic migraine\",\"Typical aura without migraine\"],[\"Sporadic hemiplegic migraine\",\"Familial hemiplegic migraine\"],[\"Basilar-type aura\",\"Other\"],[\"Other\",\"Basilar-type aura\"],[\"Basilar-type aura\",\"Familial hemiplegic migraine\"],[\"Basilar-type aura\",\"Other\"],[\"Basilar-type aura\",\"Familial hemiplegic migraine\"],[\"Basilar-type aura\",\"Migraine without aura\"],[\"Basilar-type aura\",\"Other\"],[\"Other\",\"Basilar-type aura\"],[\"Other\",\"Basilar-type aura\"],[\"Familial hemiplegic migraine\",\"Typical aura with migraine\"],[\"Basilar-type aura\",\"Migraine without aura\"],[\"Sporadic hemiplegic migraine\",\"Familial hemiplegic migraine\"],[\"Basilar-type aura\",\"Migraine without aura\"],[\"Basilar-type aura\",\"Familial hemiplegic migraine\"],[\"Familial hemiplegic migraine\",\"Typical aura without migraine\"],[\"Migraine without aura\",\"Familial hemiplegic migraine\"],[\"Typical aura with migraine\",\"Migraine without aura\"],[\"Typical aura without migraine\",\"Migraine without aura\"],[\"Typical aura without migraine\",\"Migraine without aura\"],[\"Basilar-type aura\",\"Familial hemiplegic migraine\"],[\"Sporadic hemiplegic migraine\",\"Migraine without aura\"],[\"Other\",\"Typical aura without migraine\"],[\"Other\",\"Familial hemiplegic migraine\"],[\"Basilar-type aura\",\"Migraine without aura\"],[\"Familial hemiplegic migraine\",\"Other\"],[\"Sporadic hemiplegic migraine\",\"Migraine without aura\"],[\"Other\",\"Familial hemiplegic migraine\"],[\"Basilar-type aura\",\"Familial hemiplegic migraine\"],[\"Familial hemiplegic migraine\",\"Other\"],[\"Familial hemiplegic migraine\",\"Other\"],[\"Familial hemiplegic migraine\",\"Migraine without aura\"],[\"Other\",\"Familial hemiplegic migraine\"],[\"Other\",\"Familial hemiplegic migraine\"],[\"Other\",\"Familial hemiplegic migraine\"],[\"Other\",\"Familial hemiplegic migraine\"],[\"Familial hemiplegic migraine\",\"Other\"],[\"Other\",\"Typical aura without migraine\"],[\"Other\",\"Familial hemiplegic migraine\"],[\"Other\",\"Typical aura with migraine\"],[\"Basilar-type aura\",\"Familial hemiplegic migraine\"],[\"Other\",\"Familial hemiplegic migraine\"],[\"Familial hemiplegic migraine\",\"Migraine without aura\"],[\"Basilar-type aura\",\"Familial hemiplegic migraine\"],[\"Familial hemiplegic migraine\",\"Migraine without aura\"],[\"Familial hemiplegic migraine\",\"Migraine without aura\"],[\"Familial hemiplegic migraine\",\"Migraine without aura\"],[\"Familial hemiplegic migraine\",\"Migraine without aura\"],[\"Other\",\"Familial hemiplegic migraine\"],[\"Basilar-type aura\",\"Familial hemiplegic migraine\"],[\"Familial hemiplegic migraine\",\"Migraine without aura\"],[\"Familial hemiplegic migraine\",\"Migraine without aura\"],[\"Other\",\"Familial hemiplegic migraine\"],[\"Other\",\"Familial hemiplegic migraine\"],[\"Other\",\"Familial hemiplegic migraine\"],[\"Familial hemiplegic migraine\",\"Other\"],[\"Other\",\"Familial hemiplegic migraine\"],[\"Other\",\"Basilar-type aura\"],[\"Other\",\"Migraine without aura\"],[\"Familial hemiplegic migraine\",\"Migraine without aura\"],[\"Basilar-type aura\",\"Other\"],[\"Other\",\"Basilar-type aura\"],[\"Basilar-type aura\",\"Other\"],[\"Other\",\"Migraine without aura\"],[\"Basilar-type aura\",\"Other\"],[\"Other\",\"Migraine without aura\"],[\"Basilar-type aura\",\"Other\"],[\"Other\",\"Sporadic hemiplegic migraine\"],[\"Other\",\"Typical aura without migraine\"],[\"Other\",\"Basilar-type aura\"],[\"Other\",\"Sporadic hemiplegic migraine\"],[\"Other\",\"Typical aura with migraine\"],[\"Basilar-type aura\",\"Other\"],[\"Basilar-type aura\",\"Typical aura without migraine\"],[\"Other\",\"Basilar-type aura\"],[\"Basilar-type aura\",\"Other\"],[\"Other\",\"Migraine without aura\"],[\"Other\",\"Familial hemiplegic migraine\"],[\"Familial hemiplegic migraine\",\"Sporadic hemiplegic migraine\"],[\"Familial hemiplegic migraine\",\"Other\"],[\"Other\",\"Migraine without aura\"],[\"Basilar-type aura\",\"Familial hemiplegic migraine\"],[\"Familial hemiplegic migraine\",\"Other\"],[\"Other\",\"Familial hemiplegic migraine\"],[\"Basilar-type aura\",\"Familial hemiplegic migraine\"],[\"Familial hemiplegic migraine\",\"Other\"],[\"Other\",\"Familial hemiplegic migraine\"],[\"Sporadic hemiplegic migraine\",\"Familial hemiplegic migraine\"],[\"Familial hemiplegic migraine\",\"Other\"],[\"Basilar-type aura\",\"Familial hemiplegic migraine\"],[\"Familial hemiplegic migraine\",\"Sporadic hemiplegic migraine\"],[\"Familial hemiplegic migraine\",\"Other\"],[\"Sporadic hemiplegic migraine\",\"Familial hemiplegic migraine\"],[\"Familial hemiplegic migraine\",\"Sporadic hemiplegic migraine\"],[\"Sporadic hemiplegic migraine\",\"Familial hemiplegic migraine\"],[\"Basilar-type aura\",\"Familial hemiplegic migraine\"],[\"Familial hemiplegic migraine\",\"Sporadic hemiplegic migraine\"],[\"Familial hemiplegic migraine\",\"Sporadic hemiplegic migraine\"],[\"Other\",\"Migraine without aura\"],[\"Other\",\"Basilar-type aura\"],[\"Other\",\"Migraine without aura\"],[\"Familial hemiplegic migraine\",\"Other\"],[\"Familial hemiplegic migraine\",\"Other\"],[\"Other\",\"Migraine without aura\"],[\"Familial hemiplegic migraine\",\"Sporadic hemiplegic migraine\"],[\"Basilar-type aura\",\"Familial hemiplegic migraine\"],[\"Familial hemiplegic migraine\",\"Migraine without aura\"],[\"Familial hemiplegic migraine\",\"Other\"],[\"Other\",\"Familial hemiplegic migraine\"],[\"Familial hemiplegic migraine\",\"Other\"],[\"Familial hemiplegic migraine\",\"Sporadic hemiplegic migraine\"],[\"Other\",\"Familial hemiplegic migraine\"],[\"Sporadic hemiplegic migraine\",\"Migraine without aura\"],[\"Basilar-type aura\",\"Familial hemiplegic migraine\"],[\"Other\",\"Typical aura without migraine\"],[\"Basilar-type aura\",\"Familial hemiplegic migraine\"],[\"Other\",\"Familial hemiplegic migraine\"],[\"Familial hemiplegic migraine\",\"Migraine without aura\"],[\"Familial hemiplegic migraine\",\"Sporadic hemiplegic migraine\"],[\"Other\",\"Sporadic hemiplegic migraine\"],[\"Familial hemiplegic migraine\",\"Migraine without aura\"],[\"Other\",\"Familial hemiplegic migraine\"],[\"Familial hemiplegic migraine\",\"Sporadic hemiplegic migraine\"],[\"Other\",\"Basilar-type aura\"],[\"Basilar-type aura\",\"Other\"],[\"Basilar-type aura\",\"Typical aura without migraine\"],[\"Other\",\"Familial hemiplegic migraine\"],[\"Basilar-type aura\",\"Typical aura with migraine\"],[\"Basilar-type aura\",\"Familial hemiplegic migraine\"],[\"Other\",\"Familial hemiplegic migraine\"],[\"Basilar-type aura\",\"Familial hemiplegic migraine\"],[\"Familial hemiplegic migraine\",\"Sporadic hemiplegic migraine\"],[\"Familial hemiplegic migraine\",\"Other\"],[\"Sporadic hemiplegic migraine\",\"Familial hemiplegic migraine\"],[\"Other\",\"Basilar-type aura\"],[\"Other\",\"Migraine without aura\"],[\"Familial hemiplegic migraine\",\"Other\"],[\"Sporadic hemiplegic migraine\",\"Familial hemiplegic migraine\"],[\"Basilar-type aura\",\"Other\"],[\"Basilar-type aura\",\"Familial hemiplegic migraine\"],[\"Basilar-type aura\",\"Migraine without aura\"],[\"Familial hemiplegic migraine\",\"Other\"],[\"Other\",\"Familial hemiplegic migraine\"],[\"Familial hemiplegic migraine\",\"Sporadic hemiplegic migraine\"],[\"Familial hemiplegic migraine\",\"Sporadic hemiplegic migraine\"],[\"Other\",\"Basilar-type aura\"],[\"Other\",\"Basilar-type aura\"],[\"Basilar-type aura\",\"Other\"],[\"Other\",\"Familial hemiplegic migraine\"],[\"Sporadic hemiplegic migraine\",\"Familial hemiplegic migraine\"],[\"Familial hemiplegic migraine\",\"Other\"],[\"Basilar-type aura\",\"Migraine without aura\"],[\"Sporadic hemiplegic migraine\",\"Migraine without aura\"],[\"Sporadic hemiplegic migraine\",\"Migraine without aura\"],[\"Sporadic hemiplegic migraine\",\"Migraine without aura\"],[\"Familial hemiplegic migraine\",\"Migraine without aura\"],[\"Familial hemiplegic migraine\",\"Migraine without aura\"],[\"Familial hemiplegic migraine\",\"Migraine without aura\"],[\"Familial hemiplegic migraine\",\"Migraine without aura\"],[\"Migraine without aura\",\"Familial hemiplegic migraine\"],[\"Familial hemiplegic migraine\",\"Sporadic hemiplegic migraine\"],[\"Familial hemiplegic migraine\",\"Migraine without aura\"],[\"Migraine without aura\",\"Familial hemiplegic migraine\"],[\"Familial hemiplegic migraine\",\"Migraine without aura\"],[\"Familial hemiplegic migraine\",\"Sporadic hemiplegic migraine\"],[\"Familial hemiplegic migraine\",\"Migraine without aura\"],[\"Familial hemiplegic migraine\",\"Migraine without aura\"],[\"Familial hemiplegic migraine\",\"Migraine without aura\"],[\"Migraine without aura\",\"Familial hemiplegic migraine\"],[\"Sporadic hemiplegic migraine\",\"Familial hemiplegic migraine\"],[\"Sporadic hemiplegic migraine\",\"Familial hemiplegic migraine\"],[\"Familial hemiplegic migraine\",\"Migraine without aura\"],[\"Familial hemiplegic migraine\",\"Migraine without aura\"],[\"Familial hemiplegic migraine\",\"Migraine without aura\"],[\"Migraine without aura\",\"Familial hemiplegic migraine\"],[\"Familial hemiplegic migraine\",\"Sporadic hemiplegic migraine\"],[\"Sporadic hemiplegic migraine\",\"Migraine without aura\"],[\"Sporadic hemiplegic migraine\",\"Migraine without aura\"],[\"Sporadic hemiplegic migraine\",\"Migraine without aura\"],[\"Other\",\"Migraine without aura\"],[\"Other\",\"Migraine without aura\"],[\"Other\",\"Migraine without aura\"],[\"Basilar-type aura\",\"Other\"],[\"Other\",\"Basilar-type aura\"],[\"Other\",\"Sporadic hemiplegic migraine\"],[\"Other\",\"Familial hemiplegic migraine\"],[\"Basilar-type aura\",\"Familial hemiplegic migraine\"],[\"Basilar-type aura\",\"Familial hemiplegic migraine\"],[\"Other\",\"Familial hemiplegic migraine\"],[\"Basilar-type aura\",\"Familial hemiplegic migraine\"],[\"Other\",\"Familial hemiplegic migraine\"],[\"Other\",\"Basilar-type aura\"],[\"Other\",\"Familial hemiplegic migraine\"],[\"Other\",\"Migraine without aura\"],[\"Basilar-type aura\",\"Other\"],[\"Other\",\"Basilar-type aura\"],[\"Other\",\"Migraine without aura\"],[\"Basilar-type aura\",\"Other\"],[\"Other\",\"Familial hemiplegic migraine\"],[\"Other\",\"Familial hemiplegic migraine\"],[\"Other\",\"Sporadic hemiplegic migraine\"],[\"Other\",\"Sporadic hemiplegic migraine\"],[\"Other\",\"Basilar-type aura\"],[\"Familial hemiplegic migraine\",\"Sporadic hemiplegic migraine\"],[\"Basilar-type aura\",\"Sporadic hemiplegic migraine\"],[\"Basilar-type aura\",\"Familial hemiplegic migraine\"],[\"Familial hemiplegic migraine\",\"Sporadic hemiplegic migraine\"],[\"Basilar-type aura\",\"Other\"],[\"Basilar-type aura\",\"Other\"],[\"Other\",\"Basilar-type aura\"],[\"Basilar-type aura\",\"Familial hemiplegic migraine\"],[\"Familial hemiplegic migraine\",\"Migraine without aura\"],[\"Basilar-type aura\",\"Familial hemiplegic migraine\"],[\"Basilar-type aura\",\"Familial hemiplegic migraine\"],[\"Basilar-type aura\",\"Familial hemiplegic migraine\"],[\"Familial hemiplegic migraine\",\"Sporadic hemiplegic migraine\"],[\"Basilar-type aura\",\"Sporadic hemiplegic migraine\"],[\"Other\",\"Familial hemiplegic migraine\"],[\"Basilar-type aura\",\"Sporadic hemiplegic migraine\"],[\"Basilar-type aura\",\"Familial hemiplegic migraine\"],[\"Other\",\"Familial hemiplegic migraine\"],[\"Familial hemiplegic migraine\",\"Sporadic hemiplegic migraine\"],[\"Other\",\"Familial hemiplegic migraine\"],[\"Basilar-type aura\",\"Familial hemiplegic migraine\"],[\"Familial hemiplegic migraine\",\"Sporadic hemiplegic migraine\"],[\"Basilar-type aura\",\"Familial hemiplegic migraine\"],[\"Other\",\"Familial hemiplegic migraine\"],[\"Familial hemiplegic migraine\",\"Sporadic hemiplegic migraine\"],[\"Familial hemiplegic migraine\",\"Migraine without aura\"],[\"Other\",\"Familial hemiplegic migraine\"],[\"Other\",\"Migraine without aura\"],[\"Basilar-type aura\",\"Other\"],[\"Other\",\"Familial hemiplegic migraine\"],[\"Basilar-type aura\",\"Familial hemiplegic migraine\"],[\"Other\",\"Basilar-type aura\"],[\"Familial hemiplegic migraine\",\"Migraine without aura\"],[\"Typical aura with migraine\",\"Migraine without aura\"],[\"Sporadic hemiplegic migraine\",\"Familial hemiplegic migraine\"],[\"Sporadic hemiplegic migraine\",\"Familial hemiplegic migraine\"],[\"Other\",\"Sporadic hemiplegic migraine\"],[\"Familial hemiplegic migraine\",\"Sporadic hemiplegic migraine\"],[\"Familial hemiplegic migraine\",\"Sporadic hemiplegic migraine\"],[\"Familial hemiplegic migraine\",\"Sporadic hemiplegic migraine\"],[\"Other\",\"Typical aura without migraine\"],[\"Familial hemiplegic migraine\",\"Sporadic hemiplegic migraine\"],[\"Other\",\"Typical aura with migraine\"],[\"Sporadic hemiplegic migraine\",\"Familial hemiplegic migraine\"],[\"Other\",\"Sporadic hemiplegic migraine\"],[\"Other\",\"Typical aura without migraine\"],[\"Familial hemiplegic migraine\",\"Sporadic hemiplegic migraine\"],[\"Familial hemiplegic migraine\",\"Sporadic hemiplegic migraine\"],[\"Other\",\"Sporadic hemiplegic migraine\"],[\"Basilar-type aura\",\"Other\"],[\"Basilar-type aura\",\"Other\"],[\"Basilar-type aura\",\"Other\"],[\"Other\",\"Basilar-type aura\"],[\"Basilar-type aura\",\"Other\"],[\"Other\",\"Basilar-type aura\"],[\"Basilar-type aura\",\"Other\"],[\"Other\",\"Basilar-type aura\"],[\"Basilar-type aura\",\"Other\"],[\"Typical aura without migraine\",\"Familial hemiplegic migraine\"],[\"Typical aura with migraine\",\"Familial hemiplegic migraine\"],[\"Typical aura without migraine\",\"Familial hemiplegic migraine\"],[\"Familial hemiplegic migraine\",\"Basilar-type aura\"],[\"Familial hemiplegic migraine\",\"Basilar-type aura\"],[\"Migraine without aura\",\"Familial hemiplegic migraine\"],[\"Migraine without aura\",\"Familial hemiplegic migraine\"],[\"Sporadic hemiplegic migraine\",\"Basilar-type aura\"],[\"Familial hemiplegic migraine\",\"Other\"],[\"Familial hemiplegic migraine\",\"Other\"],[\"Familial hemiplegic migraine\",\"Basilar-type aura\"],[\"Sporadic hemiplegic migraine\",\"Other\"],[\"Familial hemiplegic migraine\",\"Other\"],[\"Familial hemiplegic migraine\",\"Other\"],[\"Familial hemiplegic migraine\",\"Basilar-type aura\"],[\"Familial hemiplegic migraine\",\"Basilar-type aura\"],[\"Familial hemiplegic migraine\",\"Other\"],[\"Sporadic hemiplegic migraine\",\"Familial hemiplegic migraine\"],[\"Migraine without aura\",\"Other\"],[\"Familial hemiplegic migraine\",\"Other\"],[\"Familial hemiplegic migraine\",\"Other\"],[\"Migraine without aura\",\"Basilar-type aura\"],[\"Migraine without aura\",\"Basilar-type aura\"],[\"Migraine without aura\",\"Other\"],[\"Sporadic hemiplegic migraine\",\"Basilar-type aura\"],[\"Other\",\"Sporadic hemiplegic migraine\"],[\"Sporadic hemiplegic migraine\",\"Other\"],[\"Familial hemiplegic migraine\",\"Migraine without aura\"],[\"Sporadic hemiplegic migraine\",\"Other\"],[\"Familial hemiplegic migraine\",\"Other\"],[\"Familial hemiplegic migraine\",\"Basilar-type aura\"],[\"Familial hemiplegic migraine\",\"Basilar-type aura\"],[\"Sporadic hemiplegic migraine\",\"Familial hemiplegic migraine\"],[\"Sporadic hemiplegic migraine\",\"Familial hemiplegic migraine\"],[\"Migraine without aura\",\"Other\"],[\"Familial hemiplegic migraine\",\"Basilar-type aura\"],[\"Familial hemiplegic migraine\",\"Basilar-type aura\"],[\"Familial hemiplegic migraine\",\"Other\"],[\"Sporadic hemiplegic migraine\",\"Familial hemiplegic migraine\"],[\"Familial hemiplegic migraine\",\"Basilar-type aura\"],[\"Familial hemiplegic migraine\",\"Sporadic hemiplegic migraine\"],[\"Familial hemiplegic migraine\",\"Basilar-type aura\"],[\"Sporadic hemiplegic migraine\",\"Familial hemiplegic migraine\"],[\"Other\",\"Sporadic hemiplegic migraine\"],[\"Familial hemiplegic migraine\",\"Other\"],[\"Migraine without aura\",\"Familial hemiplegic migraine\"],[\"Other\",\"Sporadic hemiplegic migraine\"],[\"Familial hemiplegic migraine\",\"Sporadic hemiplegic migraine\"],[\"Sporadic hemiplegic migraine\",\"Other\"],[\"Sporadic hemiplegic migraine\",\"Other\"],[\"Other\",\"Typical aura without migraine\"],[\"Sporadic hemiplegic migraine\",\"Familial hemiplegic migraine\"],[\"Other\",\"Typical aura with migraine\"],[\"Familial hemiplegic migraine\",\"Basilar-type aura\"],[\"Familial hemiplegic migraine\",\"Basilar-type aura\"],[\"Familial hemiplegic migraine\",\"Other\"],[\"Sporadic hemiplegic migraine\",\"Other\"],[\"Familial hemiplegic migraine\",\"Basilar-type aura\"],[\"Sporadic hemiplegic migraine\",\"Basilar-type aura\"],[\"Familial hemiplegic migraine\",\"Basilar-type aura\"],[\"Migraine without aura\",\"Basilar-type aura\"],[\"Familial hemiplegic migraine\",\"Other\"],[\"Sporadic hemiplegic migraine\",\"Other\"],[\"Familial hemiplegic migraine\",\"Other\"],[\"Sporadic hemiplegic migraine\",\"Other\"],[\"Familial hemiplegic migraine\",\"Other\"],[\"Familial hemiplegic migraine\",\"Other\"],[\"Other\",\"Typical aura without migraine\"],[\"Familial hemiplegic migraine\",\"Other\"],[\"Familial hemiplegic migraine\",\"Other\"],[\"Familial hemiplegic migraine\",\"Other\"],[\"Migraine without aura\",\"Other\"]],\"hovertemplate\":\"support=%{x}\\u003cbr\\u003econfidence=%{y}\\u003cbr\\u003eantecedents_short=%{text}\\u003cbr\\u003eantecedents=%{customdata[0]}\\u003cbr\\u003econsequents=%{customdata[1]}\\u003cbr\\u003elift=%{marker.color}\\u003cextra\\u003e\\u003c\\u002fextra\\u003e\",\"legendgroup\":\"\",\"marker\":{\"color\":[3.4,3.9231,1.0625,1.0625,1.0625,12.75,3.9231,3.4,1.0625,6.375,3.4,1.0625,1.0625,3.9231,6.375,3.9231,3.4,12.75,1.0625,1.0625,3.9231,6.375,3.9231,12.75,3.4,17.0,10.2,1.0625,17.0,7.2857,10.2,1.0625,12.75,12.75,3.9231,3.4,6.375,1.0625,3.9231,5.1,1.0625,1.0625,1.0625,1.0625,3.9231,1.0625,3.4,1.0625,1.0625,1.0625,3.4,3.9231,3.9231,3.9231,3.9231,3.9231,3.9231,3.9231,3.9231,1.0625,1.0625,1.0625,1.0625,3.4,1.0625,5.1,1.0625,3.9231,3.4,3.4,3.9231,1.0625,10.2,3.4,3.4,1.0625,1.0625,3.4,7.2857,5.1,6.375,6.375,6.375,3.4,1.0625,3.9231,10.2,3.4,7.2857,10.2,1.0625,3.4,12.75,12.75,3.9231,1.0625,6.375,5.1,1.0625,3.9231,5.1,7.2857,3.9231,3.9231,3.9231,6.375,5.1,3.9231,3.9231,6.375,17.0,10.2,1.0625,17.0,7.2857,10.2,1.0625,12.75,12.75,17.0,3.9231,10.2,17.0,3.4,1.0625,1.0625,1.0625,1.0625,3.4,7.2857,3.4,1.0625,3.9231,3.9231,3.9231,6.375,1.0625,3.9231,1.0625,3.4,1.0625,1.0625,5.1,1.0625,3.4,5.1,3.4,10.2,3.4,3.9231,3.9231,1.0625,3.4,3.4,3.9231,6.375,3.9231,5.1,1.0625,3.4,1.0625,3.9231,1.0625,3.9231,3.9231,1.0625,0.9597,2.975,2.975,2.975,4.3714,1.4101,4.3714,2.9143,4.3714,1.5612,1.4101,2.9143,2.9143,1.3921,1.3921,1.5412,2.8333,2.8333,2.8333,2.72,4.08,3.1385,3.1385,4.08,3.1385,4.08,1.3161,3.1385,3.1385,3.1385,2.72,1.4571,4.08,1.3161,4.08,2.72,4.08,1.3161,1.4571,1.3161,12.75,1.2339,2.55,6.375,1.2339,9.5625,1.3661,9.5625,12.75,9.5625,12.75,1.2339,3.825,4.7812,4.7812,9.5625,9.5625,2.55,6.375,2.55,3.825,3.825,1.2339,3.825,3.1875,3.1875,1.3661,3.1875,3.825,3.825,1.2339,1.3661,9.5625,4.7812,4.7812,9.5625,9.5625,3.4773,1.3661,1.2339,4.7812,3.4773,4.7812,1.2339,2.9423,1.3661,2.9423,4.7812,2.55,7.65,4.7812,2.55,7.65,2.55,7.65,7.65,1.2339,3.825,5.4643,7.65,1.2339,12.75,12.75,3.825,3.825,2.9423,3.825,4.7812,2.9423,4.7812,4.7812,7.65,3.825,4.7812,3.825,4.7812,5.4643,4.7812,1.3661,2.9423,1.2339,9.5625,2.9423,1.2339,4.7812,4.7812,1.2339,9.5625,3.825,12.75,4.7812,3.825,1.2339,3.825,2.55,12.75,9.5625,1.3661,4.7812,4.7812,1.2339,6.375,5.4643,7.65,7.65,2.55,4.7812,2.55,12.75,4.7812,3.825,4.7812,2.9423,4.7812,2.9423,1.2339,2.9423,4.7812,2.9423,12.75,1.2339,2.9423,9.5625,4.7812,4.7812,2.9423,3.4773,4.7812,3.825,3.825,7.65,1.3661,1.1751,1.301,1.1751,1.275,1.1516,1.1516,1.0968,3.4,4.25,1.2143,3.4,2.8333,4.25,1.2143,1.0968,2.8333,3.4,4.25,4.25,1.0968,2.8333,1.0968,4.25,4.25,2.6562,2.6562,2.6562,1.0124,1.1209,1.0124,7.65,7.65,3.825,5.1,4.3714,10.2,3.06,4.3714,10.2,2.7818,7.65,0.9871,3.825,2.7818,1.0929,3.825,3.06,10.2,3.825,3.825,7.65,4.3714,3.825,10.2,4.3714,7.65,3.825,2.7818,4.3714,2.55,5.1,5.1,10.2,3.825,3.825,5.1,3.825,10.2,7.65,3.825,10.2,10.2,4.3714,10.2,5.1,3.825,2.55,7.65,0.9871,7.65,3.06,5.1,7.65,2.55,0.9597,4.1633,4.1633,3.6429,3.6429,4.1633,3.6429,1.9429,4.1633,1.9429,4.1633,3.6429,1.9429,3.6429,4.1633,3.6429,2.1399,2.1399,2.1399,2.1124,2.1124,2.1124,2.1124,2.1124,2.1124,2.72,2.72,2.72,1.9615,5.1,2.55,2.55,1.9615,1.9615,3.6429,1.9615,1.9615,1.9615,5.1,1.9615,1.9615,1.9615,4.25,1.9615,3.6429,6.375,1.9615,1.9615,3.6429,1.9615,3.1875,3.6429,4.25,3.6429,6.375,1.9615,1.9615,3.6429,3.6429,1.9615,1.9615,1.9615,3.6429,4.25,1.9615,4.25,5.1,4.25,3.1875,1.9615,2.55,3.1875,4.25,3.6429,3.6429,1.7,3.6429,1.7,5.1,1.9615,1.9615,1.9615,1.9615,1.9615,1.9615,1.9615,3.6429,1.9615,5.1,3.6429,3.6429,3.6429,1.7,1.9615,5.1,6.375,1.9615],\"coloraxis\":\"coloraxis\",\"opacity\":0.5,\"symbol\":\"circle\"},\"mode\":\"markers+text\",\"name\":\"\",\"orientation\":\"v\",\"showlegend\":false,\"text\":[\"Familial h\",\"Familial h\",\"Other\",\"Sporadic h\",\"Familial h\",\"Familial h\",\"Familial h\",\"Familial h\",\"Familial h\",\"Familial h\",\"Familial h\",\"Other\",\"Familial h\",\"Familial h\",\"Familial h\",\"Familial h\",\"Familial h\",\"Familial h\",\"Other\",\"Migraine w\",\"Familial h\",\"Familial h\",\"Familial h\",\"Familial h\",\"Familial h\",\"Familial h\",\"Familial h\",\"Other\",\"Basilar-ty\",\"Familial h\",\"Familial h\",\"Migraine w\",\"Familial h\",\"Other\",\"Familial h\",\"Familial h\",\"Familial h\",\"Migraine w\",\"Familial h\",\"Other\",\"Other\",\"Other\",\"Familial h\",\"Familial h\",\"Other\",\"Familial h\",\"Familial h\",\"Familial h\",\"Basilar-ty\",\"Other\",\"Familial h\",\"Basilar-ty\",\"Other\",\"Basilar-ty\",\"Familial h\",\"Basilar-ty\",\"Other\",\"Basilar-ty\",\"Other\",\"Other\",\"Other\",\"Basilar-ty\",\"Basilar-ty\",\"Familial h\",\"Familial h\",\"Basilar-ty\",\"Familial h\",\"Familial h\",\"Familial h\",\"Familial h\",\"Familial h\",\"Familial h\",\"Familial h\",\"Familial h\",\"Familial h\",\"Familial h\",\"Familial h\",\"Familial h\",\"Familial h\",\"Other\",\"Familial h\",\"Familial h\",\"Familial h\",\"Familial h\",\"Familial h\",\"Familial h\",\"Familial h\",\"Other\",\"Familial h\",\"Familial h\",\"Familial h\",\"Familial h\",\"Familial h\",\"Other\",\"Typical au\",\"Other\",\"Other\",\"Other\",\"Basilar-ty\",\"Other\",\"Other\",\"Familial h\",\"Other\",\"Basilar-ty\",\"Familial h\",\"Familial h\",\"Other\",\"Familial h\",\"Familial h\",\"Familial h\",\"Familial h\",\"Familial h\",\"Basilar-ty\",\"Basilar-ty\",\"Familial h\",\"Familial h\",\"Familial h\",\"Familial h\",\"Other\",\"Familial h\",\"Familial h\",\"Familial h\",\"Basilar-ty\",\"Familial h\",\"Other\",\"Sporadic h\",\"Typical au\",\"Other\",\"Familial h\",\"Familial h\",\"Familial h\",\"Familial h\",\"Sporadic h\",\"Sporadic h\",\"Sporadic h\",\"Familial h\",\"Sporadic h\",\"Sporadic h\",\"Familial h\",\"Familial h\",\"Other\",\"Familial h\",\"Basilar-ty\",\"Familial h\",\"Familial h\",\"Basilar-ty\",\"Familial h\",\"Familial h\",\"Familial h\",\"Other\",\"Other\",\"Familial h\",\"Sporadic h\",\"Familial h\",\"Other\",\"Familial h\",\"Other\",\"Other\",\"Other\",\"Sporadic h\",\"Basilar-ty\",\"Basilar-ty\",\"Basilar-ty\",\"Other\",\"Basilar-ty\",\"Sporadic h\",\"Migraine w\",\"Sporadic h\",\"Sporadic h\",\"Sporadic h\",\"Sporadic h\",\"Other\",\"Sporadic h\",\"Familial h\",\"Sporadic h\",\"Other\",\"Other\",\"Familial h\",\"Familial h\",\"Basilar-ty\",\"Basilar-ty\",\"Basilar-ty\",\"Migraine w\",\"Migraine w\",\"Migraine w\",\"Familial h\",\"Sporadic h\",\"Basilar-ty\",\"Other\",\"Basilar-ty\",\"Basilar-ty\",\"Basilar-ty\",\"Basilar-ty\",\"Basilar-ty\",\"Other\",\"Other\",\"Familial h\",\"Basilar-ty\",\"Sporadic h\",\"Basilar-ty\",\"Basilar-ty\",\"Familial h\",\"Migraine w\",\"Typical au\",\"Typical au\",\"Typical au\",\"Basilar-ty\",\"Sporadic h\",\"Other\",\"Other\",\"Basilar-ty\",\"Familial h\",\"Sporadic h\",\"Other\",\"Basilar-ty\",\"Familial h\",\"Familial h\",\"Familial h\",\"Other\",\"Other\",\"Other\",\"Other\",\"Familial h\",\"Other\",\"Other\",\"Other\",\"Basilar-ty\",\"Other\",\"Familial h\",\"Basilar-ty\",\"Familial h\",\"Familial h\",\"Familial h\",\"Familial h\",\"Other\",\"Basilar-ty\",\"Familial h\",\"Familial h\",\"Other\",\"Other\",\"Other\",\"Familial h\",\"Other\",\"Other\",\"Other\",\"Familial h\",\"Basilar-ty\",\"Other\",\"Basilar-ty\",\"Other\",\"Basilar-ty\",\"Other\",\"Basilar-ty\",\"Other\",\"Other\",\"Other\",\"Other\",\"Other\",\"Basilar-ty\",\"Basilar-ty\",\"Other\",\"Basilar-ty\",\"Other\",\"Other\",\"Familial h\",\"Familial h\",\"Other\",\"Basilar-ty\",\"Familial h\",\"Other\",\"Basilar-ty\",\"Familial h\",\"Other\",\"Sporadic h\",\"Familial h\",\"Basilar-ty\",\"Familial h\",\"Familial h\",\"Sporadic h\",\"Familial h\",\"Sporadic h\",\"Basilar-ty\",\"Familial h\",\"Familial h\",\"Other\",\"Other\",\"Other\",\"Familial h\",\"Familial h\",\"Other\",\"Familial h\",\"Basilar-ty\",\"Familial h\",\"Familial h\",\"Other\",\"Familial h\",\"Familial h\",\"Other\",\"Sporadic h\",\"Basilar-ty\",\"Other\",\"Basilar-ty\",\"Other\",\"Familial h\",\"Familial h\",\"Other\",\"Familial h\",\"Other\",\"Familial h\",\"Other\",\"Basilar-ty\",\"Basilar-ty\",\"Other\",\"Basilar-ty\",\"Basilar-ty\",\"Other\",\"Basilar-ty\",\"Familial h\",\"Familial h\",\"Sporadic h\",\"Other\",\"Other\",\"Familial h\",\"Sporadic h\",\"Basilar-ty\",\"Basilar-ty\",\"Basilar-ty\",\"Familial h\",\"Other\",\"Familial h\",\"Familial h\",\"Other\",\"Other\",\"Basilar-ty\",\"Other\",\"Sporadic h\",\"Familial h\",\"Basilar-ty\",\"Sporadic h\",\"Sporadic h\",\"Sporadic h\",\"Familial h\",\"Familial h\",\"Familial h\",\"Familial h\",\"Migraine w\",\"Familial h\",\"Familial h\",\"Migraine w\",\"Familial h\",\"Familial h\",\"Familial h\",\"Familial h\",\"Familial h\",\"Migraine w\",\"Sporadic h\",\"Sporadic h\",\"Familial h\",\"Familial h\",\"Familial h\",\"Migraine w\",\"Familial h\",\"Sporadic h\",\"Sporadic h\",\"Sporadic h\",\"Other\",\"Other\",\"Other\",\"Basilar-ty\",\"Other\",\"Other\",\"Other\",\"Basilar-ty\",\"Basilar-ty\",\"Other\",\"Basilar-ty\",\"Other\",\"Other\",\"Other\",\"Other\",\"Basilar-ty\",\"Other\",\"Other\",\"Basilar-ty\",\"Other\",\"Other\",\"Other\",\"Other\",\"Other\",\"Familial h\",\"Basilar-ty\",\"Basilar-ty\",\"Familial h\",\"Basilar-ty\",\"Basilar-ty\",\"Other\",\"Basilar-ty\",\"Familial h\",\"Basilar-ty\",\"Basilar-ty\",\"Basilar-ty\",\"Familial h\",\"Basilar-ty\",\"Other\",\"Basilar-ty\",\"Basilar-ty\",\"Other\",\"Familial h\",\"Other\",\"Basilar-ty\",\"Familial h\",\"Basilar-ty\",\"Other\",\"Familial h\",\"Familial h\",\"Other\",\"Other\",\"Basilar-ty\",\"Other\",\"Basilar-ty\",\"Other\",\"Familial h\",\"Typical au\",\"Sporadic h\",\"Sporadic h\",\"Other\",\"Familial h\",\"Familial h\",\"Familial h\",\"Other\",\"Familial h\",\"Other\",\"Sporadic h\",\"Other\",\"Other\",\"Familial h\",\"Familial h\",\"Other\",\"Basilar-ty\",\"Basilar-ty\",\"Basilar-ty\",\"Other\",\"Basilar-ty\",\"Other\",\"Basilar-ty\",\"Other\",\"Basilar-ty\",\"Typical au\",\"Typical au\",\"Typical au\",\"Familial h\",\"Familial h\",\"Migraine w\",\"Migraine w\",\"Sporadic h\",\"Familial h\",\"Familial h\",\"Familial h\",\"Sporadic h\",\"Familial h\",\"Familial h\",\"Familial h\",\"Familial h\",\"Familial h\",\"Sporadic h\",\"Migraine w\",\"Familial h\",\"Familial h\",\"Migraine w\",\"Migraine w\",\"Migraine w\",\"Sporadic h\",\"Other\",\"Sporadic h\",\"Familial h\",\"Sporadic h\",\"Familial h\",\"Familial h\",\"Familial h\",\"Sporadic h\",\"Sporadic h\",\"Migraine w\",\"Familial h\",\"Familial h\",\"Familial h\",\"Sporadic h\",\"Familial h\",\"Familial h\",\"Familial h\",\"Sporadic h\",\"Other\",\"Familial h\",\"Migraine w\",\"Other\",\"Familial h\",\"Sporadic h\",\"Sporadic h\",\"Other\",\"Sporadic h\",\"Other\",\"Familial h\",\"Familial h\",\"Familial h\",\"Sporadic h\",\"Familial h\",\"Sporadic h\",\"Familial h\",\"Migraine w\",\"Familial h\",\"Sporadic h\",\"Familial h\",\"Sporadic h\",\"Familial h\",\"Familial h\",\"Other\",\"Familial h\",\"Familial h\",\"Familial h\",\"Migraine w\"],\"x\":[0.0588,0.0588,0.098,0.1373,0.0588,0.0588,0.0588,0.0588,0.0588,0.0588,0.0588,0.0588,0.0588,0.0588,0.0588,0.0588,0.0588,0.0588,0.0588,0.098,0.0588,0.0588,0.0588,0.0588,0.0588,0.0588,0.0588,0.1569,0.0588,0.0588,0.0588,0.1176,0.0588,0.0588,0.0588,0.0588,0.0588,0.2353,0.0588,0.0588,0.0784,0.0588,0.0588,0.1569,0.0588,0.0784,0.0784,0.0784,0.0588,0.0784,0.0784,0.0588,0.0588,0.0784,0.0588,0.0588,0.0784,0.0784,0.0784,0.0784,0.1176,0.0784,0.0588,0.0784,0.1176,0.0588,0.0588,0.0588,0.1176,0.0588,0.0588,0.1176,0.0588,0.1176,0.0588,0.0588,0.0588,0.0588,0.0588,0.0588,0.0588,0.0588,0.0588,0.0588,0.0588,0.0588,0.0588,0.0588,0.0588,0.0588,0.0784,0.0784,0.0588,0.0588,0.0588,0.0588,0.0588,0.0588,0.2157,0.0588,0.0588,0.0588,0.0784,0.0784,0.0588,0.0588,0.0588,0.0588,0.0588,0.0588,0.0588,0.0588,0.2549,0.0588,0.0588,0.0588,0.1961,0.0588,0.0588,0.0588,0.0588,0.0588,0.0588,0.0588,0.2549,0.1569,0.2941,0.1373,0.0588,0.0588,0.0588,0.0588,0.0588,0.0588,0.0588,0.0588,0.0588,0.0588,0.0588,0.0588,0.0588,0.1176,0.0588,0.0588,0.0588,0.0588,0.1176,0.0588,0.0588,0.0588,0.0588,0.1373,0.0784,0.0588,0.0588,0.0588,0.0588,0.0588,0.0588,0.0784,0.0784,0.0588,0.098,0.0588,0.0588,0.0784,0.549,0.1373,0.1373,0.1373,0.1176,0.1176,0.1176,0.1176,0.1176,0.1176,0.1176,0.1176,0.1176,0.2157,0.2157,0.2157,0.098,0.098,0.098,0.1569,0.0784,0.0784,0.0784,0.0784,0.0784,0.0784,0.0784,0.0784,0.0784,0.0784,0.1569,0.0784,0.0784,0.0784,0.0784,0.1569,0.0784,0.2353,0.2353,0.2353,0.0588,0.1176,0.0588,0.0588,0.0588,0.0588,0.1176,0.0588,0.0588,0.0588,0.0588,0.0588,0.0588,0.0588,0.0588,0.0588,0.0588,0.0588,0.0588,0.0588,0.0588,0.0588,0.0588,0.0588,0.0588,0.0588,0.0588,0.0588,0.0588,0.0588,0.0588,0.0588,0.0588,0.0588,0.0588,0.0588,0.0588,0.0588,0.0588,0.1176,0.0588,0.0588,0.0588,0.0588,0.0588,0.0588,0.0588,0.0588,0.0588,0.0588,0.0588,0.0588,0.0588,0.0588,0.0588,0.0588,0.0588,0.0588,0.0588,0.0588,0.0588,0.0588,0.0588,0.0588,0.0588,0.0588,0.0588,0.1176,0.0588,0.0588,0.1176,0.0588,0.1176,0.0588,0.1176,0.0588,0.0588,0.0588,0.0588,0.1176,0.0588,0.0588,0.0588,0.0588,0.0588,0.0588,0.0588,0.0588,0.0588,0.0588,0.0588,0.0588,0.1176,0.0588,0.0588,0.0588,0.0588,0.1176,0.0588,0.0588,0.1176,0.0588,0.0588,0.0588,0.0588,0.0588,0.0588,0.0588,0.0588,0.0588,0.0588,0.0588,0.0588,0.1176,0.1176,0.0588,0.0588,0.1176,0.0588,0.0588,0.0588,0.0588,0.0588,0.1176,0.1176,0.1176,0.0588,0.0588,0.0588,0.1176,0.0588,0.0588,0.098,0.098,0.098,0.1373,0.1373,0.1373,0.0784,0.0784,0.0784,0.0784,0.0784,0.0784,0.0784,0.0784,0.0784,0.0784,0.0784,0.0784,0.0784,0.0784,0.0784,0.0784,0.0784,0.0784,0.098,0.098,0.098,0.1569,0.1569,0.1569,0.0588,0.0588,0.0588,0.0588,0.0588,0.0588,0.0588,0.0588,0.0588,0.0588,0.0588,0.0588,0.0588,0.0588,0.0588,0.0588,0.0588,0.0588,0.0588,0.0588,0.0588,0.1176,0.0588,0.0588,0.1176,0.0588,0.0588,0.0588,0.0588,0.1176,0.0588,0.0588,0.0588,0.1176,0.0588,0.0588,0.0588,0.0588,0.0588,0.1176,0.0588,0.0588,0.1176,0.0588,0.0588,0.1176,0.1176,0.0588,0.0588,0.0588,0.0588,0.0588,0.0588,0.1176,0.549,0.0784,0.0784,0.0784,0.0784,0.0784,0.0784,0.0784,0.0784,0.0784,0.0784,0.0784,0.0784,0.0784,0.0784,0.0784,0.1176,0.1176,0.1176,0.1373,0.1373,0.1373,0.1373,0.1373,0.1373,0.1569,0.1569,0.1569,0.0588,0.0588,0.1176,0.1176,0.0784,0.0588,0.0588,0.0588,0.0784,0.0588,0.0588,0.0588,0.0588,0.0588,0.0784,0.0588,0.0588,0.0588,0.0588,0.0588,0.0588,0.0784,0.0588,0.0784,0.0784,0.0784,0.0588,0.0784,0.0784,0.0784,0.0784,0.0588,0.0588,0.0784,0.0588,0.0784,0.0588,0.0784,0.0588,0.0784,0.0588,0.0588,0.1176,0.0588,0.0784,0.0588,0.0588,0.0588,0.0784,0.0588,0.0588,0.0588,0.0588,0.0784,0.0588,0.0784,0.0588,0.0588,0.0588,0.0784,0.0588,0.0784,0.0588,0.0588,0.0588,0.0588,0.0588,0.0588,0.0588],\"xaxis\":\"x\",\"y\":[1.0,1.0,1.0,1.0,1.0,1.0,1.0,1.0,1.0,1.0,1.0,1.0,1.0,1.0,1.0,1.0,1.0,1.0,1.0,1.0,1.0,1.0,1.0,1.0,1.0,1.0,1.0,1.0,1.0,1.0,1.0,1.0,1.0,1.0,1.0,1.0,1.0,1.0,1.0,1.0,1.0,1.0,1.0,1.0,1.0,1.0,1.0,1.0,1.0,1.0,1.0,1.0,1.0,1.0,1.0,1.0,1.0,1.0,1.0,1.0,1.0,1.0,1.0,1.0,1.0,1.0,1.0,1.0,1.0,1.0,1.0,1.0,1.0,1.0,1.0,1.0,1.0,1.0,1.0,1.0,1.0,1.0,1.0,1.0,1.0,1.0,1.0,1.0,1.0,1.0,1.0,1.0,1.0,1.0,1.0,1.0,1.0,1.0,1.0,1.0,1.0,1.0,1.0,1.0,1.0,1.0,1.0,1.0,1.0,1.0,1.0,1.0,1.0,1.0,1.0,1.0,1.0,1.0,1.0,1.0,1.0,1.0,1.0,1.0,1.0,1.0,1.0,1.0,1.0,1.0,1.0,1.0,1.0,1.0,1.0,1.0,1.0,1.0,1.0,1.0,1.0,1.0,1.0,1.0,1.0,1.0,1.0,1.0,1.0,1.0,1.0,1.0,1.0,1.0,1.0,1.0,1.0,1.0,1.0,1.0,1.0,1.0,1.0,1.0,1.0,1.0,0.9032,0.875,0.875,0.875,0.8571,0.8571,0.8571,0.8571,0.8571,0.8571,0.8571,0.8571,0.8571,0.8462,0.8462,0.8462,0.8333,0.8333,0.8333,0.8,0.8,0.8,0.8,0.8,0.8,0.8,0.8,0.8,0.8,0.8,0.8,0.8,0.8,0.8,0.8,0.8,0.8,0.8,0.8,0.8,0.75,0.75,0.75,0.75,0.75,0.75,0.75,0.75,0.75,0.75,0.75,0.75,0.75,0.75,0.75,0.75,0.75,0.75,0.75,0.75,0.75,0.75,0.75,0.75,0.75,0.75,0.75,0.75,0.75,0.75,0.75,0.75,0.75,0.75,0.75,0.75,0.75,0.75,0.75,0.75,0.75,0.75,0.75,0.75,0.75,0.75,0.75,0.75,0.75,0.75,0.75,0.75,0.75,0.75,0.75,0.75,0.75,0.75,0.75,0.75,0.75,0.75,0.75,0.75,0.75,0.75,0.75,0.75,0.75,0.75,0.75,0.75,0.75,0.75,0.75,0.75,0.75,0.75,0.75,0.75,0.75,0.75,0.75,0.75,0.75,0.75,0.75,0.75,0.75,0.75,0.75,0.75,0.75,0.75,0.75,0.75,0.75,0.75,0.75,0.75,0.75,0.75,0.75,0.75,0.75,0.75,0.75,0.75,0.75,0.75,0.75,0.75,0.75,0.75,0.75,0.75,0.75,0.75,0.75,0.75,0.75,0.75,0.75,0.75,0.75,0.75,0.75,0.75,0.75,0.75,0.75,0.75,0.7143,0.7143,0.7143,0.7,0.7,0.7,0.6667,0.6667,0.6667,0.6667,0.6667,0.6667,0.6667,0.6667,0.6667,0.6667,0.6667,0.6667,0.6667,0.6667,0.6667,0.6667,0.6667,0.6667,0.625,0.625,0.625,0.6154,0.6154,0.6154,0.6,0.6,0.6,0.6,0.6,0.6,0.6,0.6,0.6,0.6,0.6,0.6,0.6,0.6,0.6,0.6,0.6,0.6,0.6,0.6,0.6,0.6,0.6,0.6,0.6,0.6,0.6,0.6,0.6,0.6,0.6,0.6,0.6,0.6,0.6,0.6,0.6,0.6,0.6,0.6,0.6,0.6,0.6,0.6,0.6,0.6,0.6,0.6,0.6,0.6,0.6,0.6,0.6,0.6,0.5833,0.5714,0.5714,0.5714,0.5714,0.5714,0.5714,0.5714,0.5714,0.5714,0.5714,0.5714,0.5714,0.5714,0.5714,0.5714,0.5455,0.5455,0.5455,0.5385,0.5385,0.5385,0.5385,0.5385,0.5385,0.5333,0.5333,0.5333,0.5,0.5,0.5,0.5,0.5,0.5,0.5,0.5,0.5,0.5,0.5,0.5,0.5,0.5,0.5,0.5,0.5,0.5,0.5,0.5,0.5,0.5,0.5,0.5,0.5,0.5,0.5,0.5,0.5,0.5,0.5,0.5,0.5,0.5,0.5,0.5,0.5,0.5,0.5,0.5,0.5,0.5,0.5,0.5,0.5,0.5,0.5,0.5,0.5,0.5,0.5,0.5,0.5,0.5,0.5,0.5,0.5,0.5,0.5,0.5,0.5,0.5,0.5,0.5,0.5,0.5,0.5,0.5,0.5],\"yaxis\":\"y\",\"type\":\"scatter\",\"textposition\":\"top center\"}],                        {\"template\":{\"data\":{\"histogram2dcontour\":[{\"type\":\"histogram2dcontour\",\"colorbar\":{\"outlinewidth\":0,\"ticks\":\"\"},\"colorscale\":[[0.0,\"#0d0887\"],[0.1111111111111111,\"#46039f\"],[0.2222222222222222,\"#7201a8\"],[0.3333333333333333,\"#9c179e\"],[0.4444444444444444,\"#bd3786\"],[0.5555555555555556,\"#d8576b\"],[0.6666666666666666,\"#ed7953\"],[0.7777777777777778,\"#fb9f3a\"],[0.8888888888888888,\"#fdca26\"],[1.0,\"#f0f921\"]]}],\"choropleth\":[{\"type\":\"choropleth\",\"colorbar\":{\"outlinewidth\":0,\"ticks\":\"\"}}],\"histogram2d\":[{\"type\":\"histogram2d\",\"colorbar\":{\"outlinewidth\":0,\"ticks\":\"\"},\"colorscale\":[[0.0,\"#0d0887\"],[0.1111111111111111,\"#46039f\"],[0.2222222222222222,\"#7201a8\"],[0.3333333333333333,\"#9c179e\"],[0.4444444444444444,\"#bd3786\"],[0.5555555555555556,\"#d8576b\"],[0.6666666666666666,\"#ed7953\"],[0.7777777777777778,\"#fb9f3a\"],[0.8888888888888888,\"#fdca26\"],[1.0,\"#f0f921\"]]}],\"heatmap\":[{\"type\":\"heatmap\",\"colorbar\":{\"outlinewidth\":0,\"ticks\":\"\"},\"colorscale\":[[0.0,\"#0d0887\"],[0.1111111111111111,\"#46039f\"],[0.2222222222222222,\"#7201a8\"],[0.3333333333333333,\"#9c179e\"],[0.4444444444444444,\"#bd3786\"],[0.5555555555555556,\"#d8576b\"],[0.6666666666666666,\"#ed7953\"],[0.7777777777777778,\"#fb9f3a\"],[0.8888888888888888,\"#fdca26\"],[1.0,\"#f0f921\"]]}],\"heatmapgl\":[{\"type\":\"heatmapgl\",\"colorbar\":{\"outlinewidth\":0,\"ticks\":\"\"},\"colorscale\":[[0.0,\"#0d0887\"],[0.1111111111111111,\"#46039f\"],[0.2222222222222222,\"#7201a8\"],[0.3333333333333333,\"#9c179e\"],[0.4444444444444444,\"#bd3786\"],[0.5555555555555556,\"#d8576b\"],[0.6666666666666666,\"#ed7953\"],[0.7777777777777778,\"#fb9f3a\"],[0.8888888888888888,\"#fdca26\"],[1.0,\"#f0f921\"]]}],\"contourcarpet\":[{\"type\":\"contourcarpet\",\"colorbar\":{\"outlinewidth\":0,\"ticks\":\"\"}}],\"contour\":[{\"type\":\"contour\",\"colorbar\":{\"outlinewidth\":0,\"ticks\":\"\"},\"colorscale\":[[0.0,\"#0d0887\"],[0.1111111111111111,\"#46039f\"],[0.2222222222222222,\"#7201a8\"],[0.3333333333333333,\"#9c179e\"],[0.4444444444444444,\"#bd3786\"],[0.5555555555555556,\"#d8576b\"],[0.6666666666666666,\"#ed7953\"],[0.7777777777777778,\"#fb9f3a\"],[0.8888888888888888,\"#fdca26\"],[1.0,\"#f0f921\"]]}],\"surface\":[{\"type\":\"surface\",\"colorbar\":{\"outlinewidth\":0,\"ticks\":\"\"},\"colorscale\":[[0.0,\"#0d0887\"],[0.1111111111111111,\"#46039f\"],[0.2222222222222222,\"#7201a8\"],[0.3333333333333333,\"#9c179e\"],[0.4444444444444444,\"#bd3786\"],[0.5555555555555556,\"#d8576b\"],[0.6666666666666666,\"#ed7953\"],[0.7777777777777778,\"#fb9f3a\"],[0.8888888888888888,\"#fdca26\"],[1.0,\"#f0f921\"]]}],\"mesh3d\":[{\"type\":\"mesh3d\",\"colorbar\":{\"outlinewidth\":0,\"ticks\":\"\"}}],\"scatter\":[{\"fillpattern\":{\"fillmode\":\"overlay\",\"size\":10,\"solidity\":0.2},\"type\":\"scatter\"}],\"parcoords\":[{\"type\":\"parcoords\",\"line\":{\"colorbar\":{\"outlinewidth\":0,\"ticks\":\"\"}}}],\"scatterpolargl\":[{\"type\":\"scatterpolargl\",\"marker\":{\"colorbar\":{\"outlinewidth\":0,\"ticks\":\"\"}}}],\"bar\":[{\"error_x\":{\"color\":\"#2a3f5f\"},\"error_y\":{\"color\":\"#2a3f5f\"},\"marker\":{\"line\":{\"color\":\"#E5ECF6\",\"width\":0.5},\"pattern\":{\"fillmode\":\"overlay\",\"size\":10,\"solidity\":0.2}},\"type\":\"bar\"}],\"scattergeo\":[{\"type\":\"scattergeo\",\"marker\":{\"colorbar\":{\"outlinewidth\":0,\"ticks\":\"\"}}}],\"scatterpolar\":[{\"type\":\"scatterpolar\",\"marker\":{\"colorbar\":{\"outlinewidth\":0,\"ticks\":\"\"}}}],\"histogram\":[{\"marker\":{\"pattern\":{\"fillmode\":\"overlay\",\"size\":10,\"solidity\":0.2}},\"type\":\"histogram\"}],\"scattergl\":[{\"type\":\"scattergl\",\"marker\":{\"colorbar\":{\"outlinewidth\":0,\"ticks\":\"\"}}}],\"scatter3d\":[{\"type\":\"scatter3d\",\"line\":{\"colorbar\":{\"outlinewidth\":0,\"ticks\":\"\"}},\"marker\":{\"colorbar\":{\"outlinewidth\":0,\"ticks\":\"\"}}}],\"scattermapbox\":[{\"type\":\"scattermapbox\",\"marker\":{\"colorbar\":{\"outlinewidth\":0,\"ticks\":\"\"}}}],\"scatterternary\":[{\"type\":\"scatterternary\",\"marker\":{\"colorbar\":{\"outlinewidth\":0,\"ticks\":\"\"}}}],\"scattercarpet\":[{\"type\":\"scattercarpet\",\"marker\":{\"colorbar\":{\"outlinewidth\":0,\"ticks\":\"\"}}}],\"carpet\":[{\"aaxis\":{\"endlinecolor\":\"#2a3f5f\",\"gridcolor\":\"white\",\"linecolor\":\"white\",\"minorgridcolor\":\"white\",\"startlinecolor\":\"#2a3f5f\"},\"baxis\":{\"endlinecolor\":\"#2a3f5f\",\"gridcolor\":\"white\",\"linecolor\":\"white\",\"minorgridcolor\":\"white\",\"startlinecolor\":\"#2a3f5f\"},\"type\":\"carpet\"}],\"table\":[{\"cells\":{\"fill\":{\"color\":\"#EBF0F8\"},\"line\":{\"color\":\"white\"}},\"header\":{\"fill\":{\"color\":\"#C8D4E3\"},\"line\":{\"color\":\"white\"}},\"type\":\"table\"}],\"barpolar\":[{\"marker\":{\"line\":{\"color\":\"#E5ECF6\",\"width\":0.5},\"pattern\":{\"fillmode\":\"overlay\",\"size\":10,\"solidity\":0.2}},\"type\":\"barpolar\"}],\"pie\":[{\"automargin\":true,\"type\":\"pie\"}]},\"layout\":{\"autotypenumbers\":\"strict\",\"colorway\":[\"#636efa\",\"#EF553B\",\"#00cc96\",\"#ab63fa\",\"#FFA15A\",\"#19d3f3\",\"#FF6692\",\"#B6E880\",\"#FF97FF\",\"#FECB52\"],\"font\":{\"color\":\"#2a3f5f\"},\"hovermode\":\"closest\",\"hoverlabel\":{\"align\":\"left\"},\"paper_bgcolor\":\"white\",\"plot_bgcolor\":\"#E5ECF6\",\"polar\":{\"bgcolor\":\"#E5ECF6\",\"angularaxis\":{\"gridcolor\":\"white\",\"linecolor\":\"white\",\"ticks\":\"\"},\"radialaxis\":{\"gridcolor\":\"white\",\"linecolor\":\"white\",\"ticks\":\"\"}},\"ternary\":{\"bgcolor\":\"#E5ECF6\",\"aaxis\":{\"gridcolor\":\"white\",\"linecolor\":\"white\",\"ticks\":\"\"},\"baxis\":{\"gridcolor\":\"white\",\"linecolor\":\"white\",\"ticks\":\"\"},\"caxis\":{\"gridcolor\":\"white\",\"linecolor\":\"white\",\"ticks\":\"\"}},\"coloraxis\":{\"colorbar\":{\"outlinewidth\":0,\"ticks\":\"\"}},\"colorscale\":{\"sequential\":[[0.0,\"#0d0887\"],[0.1111111111111111,\"#46039f\"],[0.2222222222222222,\"#7201a8\"],[0.3333333333333333,\"#9c179e\"],[0.4444444444444444,\"#bd3786\"],[0.5555555555555556,\"#d8576b\"],[0.6666666666666666,\"#ed7953\"],[0.7777777777777778,\"#fb9f3a\"],[0.8888888888888888,\"#fdca26\"],[1.0,\"#f0f921\"]],\"sequentialminus\":[[0.0,\"#0d0887\"],[0.1111111111111111,\"#46039f\"],[0.2222222222222222,\"#7201a8\"],[0.3333333333333333,\"#9c179e\"],[0.4444444444444444,\"#bd3786\"],[0.5555555555555556,\"#d8576b\"],[0.6666666666666666,\"#ed7953\"],[0.7777777777777778,\"#fb9f3a\"],[0.8888888888888888,\"#fdca26\"],[1.0,\"#f0f921\"]],\"diverging\":[[0,\"#8e0152\"],[0.1,\"#c51b7d\"],[0.2,\"#de77ae\"],[0.3,\"#f1b6da\"],[0.4,\"#fde0ef\"],[0.5,\"#f7f7f7\"],[0.6,\"#e6f5d0\"],[0.7,\"#b8e186\"],[0.8,\"#7fbc41\"],[0.9,\"#4d9221\"],[1,\"#276419\"]]},\"xaxis\":{\"gridcolor\":\"white\",\"linecolor\":\"white\",\"ticks\":\"\",\"title\":{\"standoff\":15},\"zerolinecolor\":\"white\",\"automargin\":true,\"zerolinewidth\":2},\"yaxis\":{\"gridcolor\":\"white\",\"linecolor\":\"white\",\"ticks\":\"\",\"title\":{\"standoff\":15},\"zerolinecolor\":\"white\",\"automargin\":true,\"zerolinewidth\":2},\"scene\":{\"xaxis\":{\"backgroundcolor\":\"#E5ECF6\",\"gridcolor\":\"white\",\"linecolor\":\"white\",\"showbackground\":true,\"ticks\":\"\",\"zerolinecolor\":\"white\",\"gridwidth\":2},\"yaxis\":{\"backgroundcolor\":\"#E5ECF6\",\"gridcolor\":\"white\",\"linecolor\":\"white\",\"showbackground\":true,\"ticks\":\"\",\"zerolinecolor\":\"white\",\"gridwidth\":2},\"zaxis\":{\"backgroundcolor\":\"#E5ECF6\",\"gridcolor\":\"white\",\"linecolor\":\"white\",\"showbackground\":true,\"ticks\":\"\",\"zerolinecolor\":\"white\",\"gridwidth\":2}},\"shapedefaults\":{\"line\":{\"color\":\"#2a3f5f\"}},\"annotationdefaults\":{\"arrowcolor\":\"#2a3f5f\",\"arrowhead\":0,\"arrowwidth\":1},\"geo\":{\"bgcolor\":\"white\",\"landcolor\":\"#E5ECF6\",\"subunitcolor\":\"white\",\"showland\":true,\"showlakes\":true,\"lakecolor\":\"white\"},\"title\":{\"x\":0.05},\"mapbox\":{\"style\":\"light\"}}},\"xaxis\":{\"anchor\":\"y\",\"domain\":[0.0,1.0],\"title\":{\"text\":\"support\"},\"type\":\"log\"},\"yaxis\":{\"anchor\":\"x\",\"domain\":[0.0,1.0],\"title\":{\"text\":\"confidence\"}},\"coloraxis\":{\"colorbar\":{\"title\":{\"text\":\"lift\"}},\"colorscale\":[[0.0,\"#0d0887\"],[0.1111111111111111,\"#46039f\"],[0.2222222222222222,\"#7201a8\"],[0.3333333333333333,\"#9c179e\"],[0.4444444444444444,\"#bd3786\"],[0.5555555555555556,\"#d8576b\"],[0.6666666666666666,\"#ed7953\"],[0.7777777777777778,\"#fb9f3a\"],[0.8888888888888888,\"#fdca26\"],[1.0,\"#f0f921\"]]},\"legend\":{\"tracegroupgap\":0},\"margin\":{\"t\":60},\"plot_bgcolor\":\"rgb(240,240,240)\",\"title\":{\"text\":\"2D Plot of Support, Confidence and Lift\"},\"height\":800},                        {\"responsive\": true}                    ).then(function(){\n",
              "                            \n",
              "var gd = document.getElementById('b06f97c7-3a52-482d-aa80-9d01ad0d7f3e');\n",
              "var x = new MutationObserver(function (mutations, observer) {{\n",
              "        var display = window.getComputedStyle(gd).display;\n",
              "        if (!display || display === 'none') {{\n",
              "            console.log([gd, 'removed!']);\n",
              "            Plotly.purge(gd);\n",
              "            observer.disconnect();\n",
              "        }}\n",
              "}});\n",
              "\n",
              "// Listen for the removal of the full notebook cells\n",
              "var notebookContainer = gd.closest('#notebook-container');\n",
              "if (notebookContainer) {{\n",
              "    x.observe(notebookContainer, {childList: true});\n",
              "}}\n",
              "\n",
              "// Listen for the clearing of the current output cell\n",
              "var outputEl = gd.closest('.output');\n",
              "if (outputEl) {{\n",
              "    x.observe(outputEl, {childList: true});\n",
              "}}\n",
              "\n",
              "                        })                };                });            </script>        </div>"
            ]
          },
          "metadata": {}
        }
      ]
    }
  ]
}